{
 "cells": [
  {
   "cell_type": "code",
   "execution_count": 1,
   "metadata": {},
   "outputs": [],
   "source": [
    "# Constants\n",
    "\n",
    "TAACO_DIR = '../taaco/'\n",
    "INPUT_DIR = '../taaco/inputs/'\n",
    "OUTPUT_DIR = '../taaco/outputs/'\n",
    "SAMPLE_FILE = TAACO_DIR + 'sampled_files.json'\n",
    "SAMPLE_SIZE = 1000\n"
   ]
  },
  {
   "cell_type": "code",
   "execution_count": 2,
   "metadata": {},
   "outputs": [],
   "source": [
    "import pandas as pd\n",
    "import json\n",
    "\n",
    "dfs = []\n",
    "tags = ['init', 'generation']\n",
    "filenames = ['../data/ieee-init.jsonl', '../data/ieee-chatgpt-generation.jsonl']\n",
    "\n",
    "for filename in filenames:\n",
    "  dfs.append(pd.read_json(filename, lines=True))\n"
   ]
  },
  {
   "cell_type": "markdown",
   "metadata": {},
   "source": [
    "Human-written"
   ]
  },
  {
   "cell_type": "code",
   "execution_count": 8,
   "metadata": {},
   "outputs": [
    {
     "name": "stdout",
     "output_type": "stream",
     "text": [
      "Title: Mobile Robot Location Algorithm Based on Improved Particle Filtering Keywords: \"Sociology\",\"Statistics\",\"Simultaneous localization and mapping\",\"Genetic algorithms\",\"Estimation\",\"Filtering\"\n"
     ]
    }
   ],
   "source": [
    "print(f\"Title: { dfs[0]['title'][1] } Keywords: {dfs[0]['keyword'][1]}\")\n"
   ]
  },
  {
   "cell_type": "code",
   "execution_count": 10,
   "metadata": {},
   "outputs": [
    {
     "name": "stdout",
     "output_type": "stream",
     "text": [
      "Title: Mobile Robot Location Algorithm Based on Improved Particle Filtering Keywords: \"Sociology\",\"Statistics\",\"Simultaneous localization and mapping\",\"Genetic algorithms\",\"Estimation\",\"Filtering\"\n",
      "Human Written Abstract: To solve the simultaneous localization and mapping (SLAM) problem, many techniques have been proposed, and the Particle Filter (PF) is one of effective ways. However, the PF algorithm needs a large number of samples to approximate the posterior probability density of the system, which makes the algorithm complex. What's more, the judgment of resampling is imperfect. Based on this, an improved PF algorithm which introducing population diversity factor and genetic algorithm into the process of re-sampling is proposed in this paper. The effective sample size and the population diversity factor are used to determine whether to re-sampling. When re-sampling is needed, the genetic algorithm is used to optimize the particle set. The simulation result shows that estimation accuracy of the improved algorithm is better than that of traditional particles filter, not only in accuracy, but also in efficiency.\n"
     ]
    }
   ],
   "source": [
    "print(f\"Title: { dfs[0]['title'][1] } Keywords: {dfs[0]['keyword'][1]}\")\n",
    "print(f\"Human Written Abstract: {dfs[0]['abstract'][1]}\")"
   ]
  },
  {
   "cell_type": "code",
   "execution_count": 11,
   "metadata": {},
   "outputs": [
    {
     "name": "stdout",
     "output_type": "stream",
     "text": [
      "Title: Mobile Robot Location Algorithm Based on Improved Particle Filtering Keywords: \"Sociology\",\"Statistics\",\"Simultaneous localization and mapping\",\"Genetic algorithms\",\"Estimation\",\"Filtering\"\n",
      "AI Generated Text: This paper proposes an improved particle filtering algorithm for mobile robot location. The algorithm is based on the simultaneous localization and mapping technique, and incorporates a genetic algorithm to optimize the estimation process. The proposed algorithm improves filtering accuracy while reducing computational complexity, making it suitable for real-time robotic applications. In addition, the algorithm integrates sociological and statistical data to enhance robot localization accuracy, allowing for better overall robot performance. The results show that the proposed algorithm outperforms existing particle filtering methods, achieving higher accuracy and efficiency in robot location estimation. Overall, this research presents a valuable contribution to the development of robust and efficient mobile robot localization techniques.\n"
     ]
    }
   ],
   "source": [
    "print(f\"Title: { dfs[1]['title'][1] } Keywords: {dfs[1]['keyword'][1]}\")\n",
    "print(f\"AI Generated Text: {dfs[1]['abstract'][1]}\")"
   ]
  },
  {
   "cell_type": "markdown",
   "metadata": {},
   "source": [
    "AI-generated"
   ]
  },
  {
   "cell_type": "code",
   "execution_count": 14,
   "metadata": {},
   "outputs": [
    {
     "data": {
      "text/html": [
       "<div>\n",
       "<style scoped>\n",
       "    .dataframe tbody tr th:only-of-type {\n",
       "        vertical-align: middle;\n",
       "    }\n",
       "\n",
       "    .dataframe tbody tr th {\n",
       "        vertical-align: top;\n",
       "    }\n",
       "\n",
       "    .dataframe thead th {\n",
       "        text-align: right;\n",
       "    }\n",
       "</style>\n",
       "<table border=\"1\" class=\"dataframe\">\n",
       "  <thead>\n",
       "    <tr style=\"text-align: right;\">\n",
       "      <th></th>\n",
       "      <th>id</th>\n",
       "      <th>title</th>\n",
       "      <th>keyword</th>\n",
       "      <th>abstract</th>\n",
       "    </tr>\n",
       "  </thead>\n",
       "  <tbody>\n",
       "    <tr>\n",
       "      <th>0</th>\n",
       "      <td>8600003</td>\n",
       "      <td>An Improved Variable-Node-Based BP Decoding Al...</td>\n",
       "      <td>\"Flash memories\",\"Reliability\",\"Decoding\",\"Par...</td>\n",
       "      <td>The reliability of flash memories is highly de...</td>\n",
       "    </tr>\n",
       "    <tr>\n",
       "      <th>1</th>\n",
       "      <td>8600004</td>\n",
       "      <td>Mobile Robot Location Algorithm Based on Impro...</td>\n",
       "      <td>\"Sociology\",\"Statistics\",\"Simultaneous localiz...</td>\n",
       "      <td>This paper proposes an improved particle filte...</td>\n",
       "    </tr>\n",
       "    <tr>\n",
       "      <th>2</th>\n",
       "      <td>8600008</td>\n",
       "      <td>Vertical Handoff Decision Algorithm for Hetero...</td>\n",
       "      <td>\"Entropy\",\"Handover\",\"Wireless networks\",\"Deci...</td>\n",
       "      <td>This paper proposes a novel algorithm for vert...</td>\n",
       "    </tr>\n",
       "    <tr>\n",
       "      <th>3</th>\n",
       "      <td>8600013</td>\n",
       "      <td>Robust offline trained neural network for TDOA...</td>\n",
       "      <td>\"Microphones\",\"Artificial neural networks\",\"Po...</td>\n",
       "      <td>This paper proposes a robust offline trained n...</td>\n",
       "    </tr>\n",
       "    <tr>\n",
       "      <th>4</th>\n",
       "      <td>8600014</td>\n",
       "      <td>Gaussian MAC with Feedback and Strictly Causal...</td>\n",
       "      <td>\"Encoding\",\"Transmitters\",\"Decoding\",\"Indexes\"...</td>\n",
       "      <td>This paper proposes a method for encoding and ...</td>\n",
       "    </tr>\n",
       "    <tr>\n",
       "      <th>...</th>\n",
       "      <td>...</td>\n",
       "      <td>...</td>\n",
       "      <td>...</td>\n",
       "      <td>...</td>\n",
       "    </tr>\n",
       "    <tr>\n",
       "      <th>15390</th>\n",
       "      <td>8768793</td>\n",
       "      <td>Elderly Care Training using Real-Time Monitori...</td>\n",
       "      <td>\"Senior citizens\",\"Training\",\"Robots\",\"Elbow\",...</td>\n",
       "      <td>The use of robots in elderly care training has...</td>\n",
       "    </tr>\n",
       "    <tr>\n",
       "      <th>15391</th>\n",
       "      <td>8768806</td>\n",
       "      <td>Continuous Music Emotion Recognition Using Sel...</td>\n",
       "      <td>\"Feature extraction\",\"Emotion recognition\",\"Mu...</td>\n",
       "      <td>Music plays a significant role in affecting hu...</td>\n",
       "    </tr>\n",
       "    <tr>\n",
       "      <th>15392</th>\n",
       "      <td>8768807</td>\n",
       "      <td>Evolution towards Telco-Cloud: Reflections on ...</td>\n",
       "      <td>\"Virtualization\",\"Cloud computing\",\"Switches\",...</td>\n",
       "      <td>This invited paper examines the evolution towa...</td>\n",
       "    </tr>\n",
       "    <tr>\n",
       "      <th>15393</th>\n",
       "      <td>8768808</td>\n",
       "      <td>Feature Optimization for Run Time Analysis of ...</td>\n",
       "      <td>\"Malware\",\"Feature extraction\",\"Genetic algori...</td>\n",
       "      <td>Malware is a persistent threat to the security...</td>\n",
       "    </tr>\n",
       "    <tr>\n",
       "      <th>15394</th>\n",
       "      <td>8768811</td>\n",
       "      <td>Security Testing Of Active Optical Network Dev...</td>\n",
       "      <td>\"Testing\",\"Optical network units\",\"Passive opt...</td>\n",
       "      <td>This paper presents a comprehensive overview o...</td>\n",
       "    </tr>\n",
       "  </tbody>\n",
       "</table>\n",
       "<p>15395 rows × 4 columns</p>\n",
       "</div>"
      ],
      "text/plain": [
       "            id                                              title  \\\n",
       "0      8600003  An Improved Variable-Node-Based BP Decoding Al...   \n",
       "1      8600004  Mobile Robot Location Algorithm Based on Impro...   \n",
       "2      8600008  Vertical Handoff Decision Algorithm for Hetero...   \n",
       "3      8600013  Robust offline trained neural network for TDOA...   \n",
       "4      8600014  Gaussian MAC with Feedback and Strictly Causal...   \n",
       "...        ...                                                ...   \n",
       "15390  8768793  Elderly Care Training using Real-Time Monitori...   \n",
       "15391  8768806  Continuous Music Emotion Recognition Using Sel...   \n",
       "15392  8768807  Evolution towards Telco-Cloud: Reflections on ...   \n",
       "15393  8768808  Feature Optimization for Run Time Analysis of ...   \n",
       "15394  8768811  Security Testing Of Active Optical Network Dev...   \n",
       "\n",
       "                                                 keyword  \\\n",
       "0      \"Flash memories\",\"Reliability\",\"Decoding\",\"Par...   \n",
       "1      \"Sociology\",\"Statistics\",\"Simultaneous localiz...   \n",
       "2      \"Entropy\",\"Handover\",\"Wireless networks\",\"Deci...   \n",
       "3      \"Microphones\",\"Artificial neural networks\",\"Po...   \n",
       "4      \"Encoding\",\"Transmitters\",\"Decoding\",\"Indexes\"...   \n",
       "...                                                  ...   \n",
       "15390  \"Senior citizens\",\"Training\",\"Robots\",\"Elbow\",...   \n",
       "15391  \"Feature extraction\",\"Emotion recognition\",\"Mu...   \n",
       "15392  \"Virtualization\",\"Cloud computing\",\"Switches\",...   \n",
       "15393  \"Malware\",\"Feature extraction\",\"Genetic algori...   \n",
       "15394  \"Testing\",\"Optical network units\",\"Passive opt...   \n",
       "\n",
       "                                                abstract  \n",
       "0      The reliability of flash memories is highly de...  \n",
       "1      This paper proposes an improved particle filte...  \n",
       "2      This paper proposes a novel algorithm for vert...  \n",
       "3      This paper proposes a robust offline trained n...  \n",
       "4      This paper proposes a method for encoding and ...  \n",
       "...                                                  ...  \n",
       "15390  The use of robots in elderly care training has...  \n",
       "15391  Music plays a significant role in affecting hu...  \n",
       "15392  This invited paper examines the evolution towa...  \n",
       "15393  Malware is a persistent threat to the security...  \n",
       "15394  This paper presents a comprehensive overview o...  \n",
       "\n",
       "[15395 rows x 4 columns]"
      ]
     },
     "execution_count": 14,
     "metadata": {},
     "output_type": "execute_result"
    }
   ],
   "source": [
    "dfs[1]\n"
   ]
  },
  {
   "cell_type": "code",
   "execution_count": 3,
   "metadata": {},
   "outputs": [],
   "source": [
    "random_samples = []\n",
    "\n",
    "for df in dfs:\n",
    "  random_samples.append(df.sample(n = SAMPLE_SIZE, random_state=1))\n"
   ]
  },
  {
   "cell_type": "code",
   "execution_count": 4,
   "metadata": {},
   "outputs": [],
   "source": [
    "sampled_files = random_samples[0]['id'].to_list()\n",
    "with open(SAMPLE_FILE, 'w') as outfile:\n",
    "  json.dump({'ids': sampled_files}, outfile)\n"
   ]
  },
  {
   "cell_type": "code",
   "execution_count": 5,
   "metadata": {},
   "outputs": [
    {
     "name": "stdout",
     "output_type": "stream",
     "text": [
      "{'ids': [8619053, 8719964, 8703870, 8751867, 8758842, 8713072, 8766966, 8711296, 8753671, 8720643, 8730286, 8722369, 8712277, 8611704, 8758092, 8607594, 8751308, 8761678, 8615550, 8713231, 8703389, 8768168, 8716039, 8724403, 8756363, 8756276, 8712765, 8712365, 8754213, 8762102, 8725482, 8727940, 8600533, 8618217, 8712415, 8607908, 8704102, 8724163, 8724326, 8603371, 8715734, 8724478, 8725612, 8759894, 8765711, 8700257, 8765942, 8615600, 8764328, 8725725, 8612834, 8605770, 8754281, 8761593, 8601176, 8711776, 8708199, 8603287, 8765808, 8718642, 8614238, 8609974, 8603169, 8616269, 8756159, 8761264, 8755180, 8613589, 8726640, 8612841, 8720531, 8758779, 8725548, 8756196, 8600635, 8708979, 8752212, 8618916, 8726356, 8604726, 8712416, 8761772, 8728412, 8708961, 8724124, 8757019, 8765616, 8709170, 8708963, 8715179, 8718949, 8613330, 8759957, 8720028, 8616066, 8759519, 8754328, 8727958, 8619833, 8766972, 8607481, 8612795, 8706802, 8702696, 8752008, 8604550, 8613649, 8615844, 8705219, 8618387, 8605766, 8602599, 8618422, 8718811, 8717982, 8708893, 8700608, 8754051, 8611062, 8715660, 8712568, 8729436, 8700537, 8712896, 8706053, 8602059, 8758886, 8768044, 8767392, 8612050, 8619751, 8725601, 8765811, 8767397, 8618394, 8750833, 8611256, 8760187, 8708298, 8751811, 8717903, 8713377, 8600869, 8717894, 8710244, 8616650, 8703364, 8710042, 8761688, 8703131, 8726858, 8717855, 8752121, 8715550, 8607010, 8757478, 8711636, 8724364, 8606056, 8611281, 8711311, 8619462, 8608587, 8603489, 8766406, 8759693, 8702042, 8763806, 8724452, 8763902, 8750919, 8702686, 8616086, 8758205, 8721415, 8758430, 8706135, 8768297, 8606256, 8723672, 8710479, 8611584, 8706144, 8600363, 8608016, 8615834, 8717594, 8609008, 8754780, 8705793, 8761190, 8767188, 8706965, 8751355, 8612190, 8706469, 8758824, 8723111, 8603335, 8606265, 8757773, 8715385, 8752037, 8615136, 8709788, 8616673, 8618896, 8767313, 8703326, 8724823, 8763783, 8758672, 8714705, 8764402, 8750774, 8614080, 8720780, 8711804, 8764840, 8758657, 8601265, 8730752, 8717965, 8725579, 8601734, 8716090, 8710181, 8613759, 8705949, 8714943, 8614168, 8751691, 8603168, 8713838, 8706672, 8717048, 8600837, 8759249, 8616466, 8720437, 8607711, 8609181, 8723310, 8724536, 8602290, 8704347, 8606068, 8614754, 8601718, 8701686, 8610877, 8730257, 8610696, 8724766, 8711643, 8766781, 8762087, 8756185, 8762222, 8618923, 8706182, 8611844, 8715891, 8759963, 8721126, 8719967, 8761478, 8704317, 8756110, 8718514, 8761368, 8765949, 8765335, 8714880, 8602890, 8768774, 8619157, 8601896, 8706507, 8719965, 8751318, 8606764, 8758354, 8726576, 8615485, 8619896, 8755869, 8701303, 8703172, 8703929, 8700276, 8620383, 8618062, 8716173, 8721230, 8701406, 8703202, 8705280, 8766635, 8726623, 8600254, 8610999, 8727733, 8703392, 8616596, 8701859, 8756870, 8760507, 8710420, 8705286, 8717832, 8609781, 8603586, 8759320, 8702569, 8600088, 8707962, 8711864, 8702736, 8603298, 8727767, 8761534, 8603266, 8751693, 8603700, 8609600, 8765340, 8712101, 8619306, 8714920, 8761814, 8712413, 8614724, 8768497, 8722598, 8614265, 8756823, 8719289, 8720031, 8717999, 8758019, 8761747, 8726895, 8618118, 8702249, 8703371, 8600884, 8766461, 8768392, 8758985, 8726919, 8604753, 8619445, 8729075, 8723645, 8600890, 8701255, 8727643, 8729109, 8611162, 8706211, 8759296, 8616574, 8726196, 8716384, 8603461, 8715481, 8603657, 8705782, 8606843, 8761897, 8726288, 8712701, 8713804, 8601500, 8766880, 8616627, 8717213, 8619595, 8765630, 8714149, 8703119, 8609956, 8619502, 8615907, 8711578, 8715128, 8600148, 8759514, 8765259, 8755170, 8609320, 8606195, 8614939, 8716458, 8710463, 8604250, 8600501, 8713979, 8750834, 8701349, 8759936, 8614082, 8717146, 8619710, 8720985, 8765309, 8616724, 8766478, 8619808, 8702110, 8721067, 8619446, 8606046, 8615808, 8754373, 8725107, 8600252, 8606648, 8765424, 8604054, 8715348, 8722357, 8717450, 8766906, 8723068, 8710232, 8759571, 8613969, 8760828, 8614794, 8764333, 8619758, 8714410, 8600841, 8701678, 8718876, 8604360, 8728348, 8616121, 8730641, 8704308, 8611916, 8600423, 8767023, 8750944, 8717014, 8604095, 8613272, 8753626, 8615200, 8701231, 8711202, 8712913, 8720975, 8618086, 8718268, 8716038, 8729612, 8761243, 8600091, 8718233, 8615854, 8709803, 8756805, 8722364, 8759173, 8768575, 8608388, 8700530, 8728509, 8615559, 8703529, 8756788, 8716127, 8754055, 8756841, 8752221, 8723551, 8712434, 8706232, 8612850, 8751508, 8703980, 8706961, 8612204, 8717504, 8616037, 8759561, 8616078, 8701887, 8714380, 8724998, 8701030, 8614199, 8612587, 8768566, 8705800, 8763989, 8765792, 8619089, 8719436, 8603155, 8603431, 8606139, 8615267, 8713803, 8768412, 8723418, 8764912, 8704881, 8751974, 8725373, 8619846, 8711151, 8730323, 8728229, 8728992, 8706570, 8613724, 8612811, 8610695, 8702155, 8619335, 8602726, 8724471, 8604190, 8701989, 8618308, 8600545, 8703101, 8619436, 8606702, 8606038, 8703723, 8725192, 8722893, 8717817, 8719894, 8750837, 8613461, 8618996, 8757187, 8761458, 8610632, 8723333, 8617123, 8613434, 8602639, 8723479, 8720214, 8755313, 8609543, 8727978, 8611229, 8719304, 8609662, 8767322, 8755404, 8602188, 8723343, 8723083, 8761685, 8761540, 8618351, 8754382, 8600018, 8723950, 8619674, 8719466, 8753741, 8725327, 8753945, 8606575, 8702046, 8721357, 8612572, 8707426, 8721354, 8611954, 8720159, 8754149, 8613718, 8711367, 8724836, 8760240, 8721898, 8600542, 8721521, 8725485, 8612835, 8610193, 8766008, 8706218, 8601579, 8729425, 8606339, 8704574, 8761273, 8711499, 8604731, 8617395, 8760434, 8616305, 8616707, 8601235, 8718529, 8754225, 8604057, 8721834, 8607253, 8763998, 8608155, 8721112, 8712020, 8762167, 8716500, 8755838, 8761794, 8717273, 8766089, 8711413, 8715623, 8706187, 8724563, 8751463, 8601242, 8757549, 8718095, 8754736, 8603348, 8759862, 8753749, 8712921, 8767961, 8761343, 8725909, 8729294, 8765152, 8729310, 8757887, 8610086, 8729407, 8726499, 8602766, 8618389, 8759290, 8766752, 8723980, 8601596, 8725689, 8610763, 8755858, 8616316, 8702212, 8610378, 8716460, 8711078, 8614195, 8760780, 8712211, 8616007, 8711519, 8702008, 8607050, 8766602, 8607067, 8618085, 8730206, 8611378, 8760992, 8620279, 8715361, 8760387, 8719279, 8722716, 8751421, 8706826, 8706530, 8612560, 8620207, 8726684, 8710049, 8762130, 8700545, 8618403, 8601282, 8616112, 8604232, 8705334, 8620148, 8719510, 8609816, 8701742, 8755055, 8612749, 8761573, 8619291, 8609660, 8721651, 8712219, 8730249, 8612011, 8720204, 8603256, 8760689, 8727630, 8617882, 8619582, 8613276, 8703207, 8614364, 8614163, 8600896, 8721250, 8721693, 8727761, 8712326, 8728272, 8724248, 8606984, 8603823, 8728986, 8707395, 8712716, 8611107, 8615148, 8714571, 8720272, 8619565, 8619155, 8765952, 8701458, 8760981, 8613382, 8614950, 8728783, 8714270, 8755216, 8602443, 8725488, 8728376, 8604566, 8714850, 8724213, 8724028, 8712498, 8718957, 8616430, 8604378, 8730600, 8761953, 8758774, 8713403, 8703205, 8720051, 8730721, 8600525, 8764820, 8701462, 8768214, 8751992, 8725723, 8611766, 8615727, 8721048, 8704985, 8723302, 8601223, 8758142, 8715373, 8725190, 8614085, 8759027, 8760252, 8754163, 8713193, 8609224, 8600298, 8761212, 8723289, 8611468, 8716450, 8726651, 8616335, 8718598, 8606971, 8718552, 8612139, 8618302, 8713449, 8718195, 8612878, 8716380, 8715283, 8601331, 8701833, 8601141, 8766848, 8610442, 8760472, 8711309, 8757152, 8711815, 8601262, 8703362, 8766103, 8759201, 8726371, 8753750, 8723327, 8761364, 8756478, 8703344, 8701941, 8768295, 8711918, 8705893, 8759581, 8620524, 8751847, 8730588, 8722426, 8720646, 8759385, 8759336, 8616985, 8600778, 8756524, 8765726, 8615395, 8754220, 8723155, 8616012, 8609542, 8711291, 8716976, 8768790, 8618181, 8756228, 8703218, 8700532, 8603322, 8725188, 8717904, 8600029, 8713757, 8705710, 8616683, 8751474, 8618200, 8712835, 8618710, 8604210, 8713974, 8606174, 8614176, 8709683, 8615845, 8751767, 8614059, 8730664, 8618682, 8721435, 8609669, 8753616, 8763992, 8602765, 8703234, 8616277, 8723173, 8620143, 8608313, 8619345, 8619426, 8728450, 8723446, 8758212, 8708866, 8761169, 8602463, 8724873, 8717637, 8601248, 8768692, 8729420, 8726846, 8759512, 8764977, 8607241, 8616181, 8712274, 8726709, 8724266, 8711158, 8600904, 8765963, 8618725, 8712653, 8713634, 8709721, 8721133, 8754776, 8602496, 8612112, 8764425, 8725891, 8751964, 8767301, 8616233, 8600338, 8703232, 8715401, 8766774, 8723603, 8723080, 8703316, 8760598, 8752033, 8605986, 8716021, 8717878, 8710106, 8711514, 8730651, 8603334, 8750877, 8721628, 8708977, 8752117, 8615483, 8730755, 8759991, 8605966, 8718697, 8701687, 8610423, 8609753, 8754126, 8702741, 8614747, 8760190, 8706301, 8716911, 8613331, 8614141, 8615975, 8708184, 8616268, 8759270, 8750881, 8611249, 8610430, 8766467, 8704300, 8754193, 8600870, 8700348, 8715483, 8717798, 8726379, 8759262, 8721543, 8719213, 8715093, 8753916, 8719446, 8728352, 8751237, 8616482, 8717236, 8618599, 8729738, 8715524, 8711274, 8609933, 8726700, 8715554, 8608147, 8712487, 8713046, 8723320, 8611980, 8617556, 8754075, 8766570, 8717714, 8723918, 8600201, 8766355, 8614054, 8616408, 8706405, 8717655, 8615794, 8723523, 8616587, 8704408, 8612755, 8606928]}\n",
      "All sampled init files correctly loaded.\n",
      "All sampled generation files correctly loaded.\n"
     ]
    }
   ],
   "source": [
    "# Check random sample is sampling correct documents\n",
    "\n",
    "try:\n",
    "    sampled_ids = json.load(open(SAMPLE_FILE))\n",
    "    print(sampled_ids)\n",
    "    for random_sample, tag in zip(random_samples, tags):\n",
    "        if random_sample['id'].to_list() == sampled_ids['ids']:\n",
    "            print(f'All sampled {tag} files correctly loaded.')\n",
    "except FileNotFoundError:\n",
    "    print('\"sampled_files.json\" not found. Creating.')\n",
    "    with open(SAMPLE_FILE, mode='x') as f:\n",
    "        f.write(json.dumps({ 'ids': sampled_files }))\n",
    "    print('Wrote following ids to file:')\n",
    "    print(sampled_files)\n"
   ]
  },
  {
   "cell_type": "code",
   "execution_count": 6,
   "metadata": {},
   "outputs": [],
   "source": [
    "# Function to write document abstract to text file for TAACO analysis\n",
    "import os \n",
    "\n",
    "def write_to_file(tag, filename, text):\n",
    "    parent_path = os.path.join(INPUT_DIR, tag)\n",
    "    if not os.path.exists(parent_path):\n",
    "        os.makedirs(parent_path)\n",
    "    filename = os.path.join(parent_path, filename + '.txt')\n",
    "    with open(filename, mode='x') as f:\n",
    "        f.write(text)\n",
    "\n",
    "# Write all random samples to input directory\n",
    "for random_sample, tag in zip(random_samples, tags):\n",
    "    random_sample.apply(lambda document: write_to_file(tag, str(document.id), document.abstract), axis=1)\n"
   ]
  },
  {
   "cell_type": "code",
   "execution_count": null,
   "metadata": {},
   "outputs": [],
   "source": []
  },
  {
   "cell_type": "code",
   "execution_count": null,
   "metadata": {},
   "outputs": [],
   "source": []
  }
 ],
 "metadata": {
  "kernelspec": {
   "display_name": "Python 3",
   "language": "python",
   "name": "python3"
  },
  "language_info": {
   "codemirror_mode": {
    "name": "ipython",
    "version": 3
   },
   "file_extension": ".py",
   "mimetype": "text/x-python",
   "name": "python",
   "nbconvert_exporter": "python",
   "pygments_lexer": "ipython3",
   "version": "3.11.6"
  },
  "orig_nbformat": 4
 },
 "nbformat": 4,
 "nbformat_minor": 2
}
