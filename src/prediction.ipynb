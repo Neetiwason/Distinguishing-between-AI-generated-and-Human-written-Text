{
 "cells": [
  {
   "cell_type": "code",
   "execution_count": 1,
   "metadata": {},
   "outputs": [
    {
     "data": {
      "text/html": [
       "\n",
       "\t\t\t<script type=\"text/javascript\">\n",
       "\t\t\t<!--\n",
       "\t\t\t\t\n",
       "\t\t\t{\n",
       "\t\t\t\tvar element = document.getElementById('NetworKit_script');\n",
       "\t\t\t\tif (element) {\n",
       "\t\t\t\t\telement.parentNode.removeChild(element);\n",
       "\t\t\t\t}\n",
       "\t\t\t\telement = document.createElement('script');\n",
       "\t\t\t\telement.type = 'text/javascript';\n",
       "\t\t\t\telement.innerHTML = 'function NetworKit_pageEmbed(id) { var i, j; var elements; elements = document.getElementById(id).getElementsByClassName(\"Plot\"); for (i=0; i<elements.length; i++) { elements[i].id = id + \"_Plot_\" + i; var data = elements[i].getAttribute(\"data-image\").split(\"|\"); elements[i].removeAttribute(\"data-image\"); var content = \"<div class=\\\\\"Image\\\\\" id=\\\\\"\" + elements[i].id + \"_Image\\\\\" />\"; elements[i].innerHTML = content; elements[i].setAttribute(\"data-image-index\", 0); elements[i].setAttribute(\"data-image-length\", data.length); for (j=0; j<data.length; j++) { elements[i].setAttribute(\"data-image-\" + j, data[j]); } NetworKit_plotUpdate(elements[i]); elements[i].onclick = function (e) { NetworKit_overlayShow((e.target) ? e.target : e.srcElement); } } elements = document.getElementById(id).getElementsByClassName(\"HeatCell\"); for (i=0; i<elements.length; i++) { var data = parseFloat(elements[i].getAttribute(\"data-heat\")); var color = \"#00FF00\"; if (data <= 1 && data > 0) { color = \"hsla(0, 100%, 75%, \" + (data) + \")\"; } else if (data <= 0 && data >= -1) { color = \"hsla(240, 100%, 75%, \" + (-data) + \")\"; } elements[i].style.backgroundColor = color; } elements = document.getElementById(id).getElementsByClassName(\"Details\"); for (i=0; i<elements.length; i++) { elements[i].setAttribute(\"data-title\", \"-\"); NetworKit_toggleDetails(elements[i]); elements[i].onclick = function (e) { NetworKit_toggleDetails((e.target) ? e.target : e.srcElement); } } elements = document.getElementById(id).getElementsByClassName(\"MathValue\"); for (i=elements.length-1; i>=0; i--) { value = elements[i].innerHTML.trim(); if (value === \"nan\") { elements[i].parentNode.innerHTML = \"\" } } elements = document.getElementById(id).getElementsByClassName(\"SubCategory\"); for (i=elements.length-1; i>=0; i--) { value = elements[i].innerHTML.trim(); if (value === \"\") { elements[i].parentNode.removeChild(elements[i]) } } elements = document.getElementById(id).getElementsByClassName(\"Category\"); for (i=elements.length-1; i>=0; i--) { value = elements[i].innerHTML.trim(); if (value === \"\") { elements[i].parentNode.removeChild(elements[i]) } } var isFirefox = false; try { isFirefox = typeof InstallTrigger !== \"undefined\"; } catch (e) {} if (!isFirefox) { alert(\"Currently the function\\'s output is only fully supported by Firefox.\"); } } function NetworKit_plotUpdate(source) { var index = source.getAttribute(\"data-image-index\"); var data = source.getAttribute(\"data-image-\" + index); var image = document.getElementById(source.id + \"_Image\"); image.style.backgroundImage = \"url(\" + data + \")\"; } function NetworKit_showElement(id, show) { var element = document.getElementById(id); element.style.display = (show) ? \"block\" : \"none\"; } function NetworKit_overlayShow(source) { NetworKit_overlayUpdate(source); NetworKit_showElement(\"NetworKit_Overlay\", true); } function NetworKit_overlayUpdate(source) { document.getElementById(\"NetworKit_Overlay_Title\").innerHTML = source.title; var index = source.getAttribute(\"data-image-index\"); var data = source.getAttribute(\"data-image-\" + index); var image = document.getElementById(\"NetworKit_Overlay_Image\"); image.setAttribute(\"data-id\", source.id); image.style.backgroundImage = \"url(\" + data + \")\"; var link = document.getElementById(\"NetworKit_Overlay_Toolbar_Bottom_Save\"); link.href = data; link.download = source.title + \".svg\"; } function NetworKit_overlayImageShift(delta) { var image = document.getElementById(\"NetworKit_Overlay_Image\"); var source = document.getElementById(image.getAttribute(\"data-id\")); var index = parseInt(source.getAttribute(\"data-image-index\")); var length = parseInt(source.getAttribute(\"data-image-length\")); var index = (index+delta) % length; if (index < 0) { index = length + index; } source.setAttribute(\"data-image-index\", index); NetworKit_overlayUpdate(source); } function NetworKit_toggleDetails(source) { var childs = source.children; var show = false; if (source.getAttribute(\"data-title\") == \"-\") { source.setAttribute(\"data-title\", \"+\"); show = false; } else { source.setAttribute(\"data-title\", \"-\"); show = true; } for (i=0; i<childs.length; i++) { if (show) { childs[i].style.display = \"block\"; } else { childs[i].style.display = \"none\"; } } }';\n",
       "\t\t\t\telement.setAttribute('id', 'NetworKit_script');\n",
       "\t\t\t\tdocument.head.appendChild(element);\n",
       "\t\t\t}\n",
       "\t\t\n",
       "\t\t\t\t\n",
       "\t\t\t{\n",
       "\t\t\t\tvar element = document.getElementById('NetworKit_style');\n",
       "\t\t\t\tif (element) {\n",
       "\t\t\t\t\telement.parentNode.removeChild(element);\n",
       "\t\t\t\t}\n",
       "\t\t\t\telement = document.createElement('style');\n",
       "\t\t\t\telement.type = 'text/css';\n",
       "\t\t\t\telement.innerHTML = '.NetworKit_Page { font-family: Arial, Helvetica, sans-serif; font-size: 14px; } .NetworKit_Page .Value:before { font-family: Arial, Helvetica, sans-serif; font-size: 1.05em; content: attr(data-title) \":\"; margin-left: -2.5em; padding-right: 0.5em; } .NetworKit_Page .Details .Value:before { display: block; } .NetworKit_Page .Value { font-family: monospace; white-space: pre; padding-left: 2.5em; white-space: -moz-pre-wrap !important; white-space: -pre-wrap; white-space: -o-pre-wrap; white-space: pre-wrap; word-wrap: break-word; tab-size: 4; -moz-tab-size: 4; } .NetworKit_Page .Category { clear: both; padding-left: 1em; margin-bottom: 1.5em; } .NetworKit_Page .Category:before { content: attr(data-title); font-size: 1.75em; display: block; margin-left: -0.8em; margin-bottom: 0.5em; } .NetworKit_Page .SubCategory { margin-bottom: 1.5em; padding-left: 1em; } .NetworKit_Page .SubCategory:before { font-size: 1.6em; display: block; margin-left: -0.8em; margin-bottom: 0.5em; } .NetworKit_Page .SubCategory[data-title]:before { content: attr(data-title); } .NetworKit_Page .Block { display: block; } .NetworKit_Page .Block:after { content: \".\"; visibility: hidden; display: block; height: 0; clear: both; } .NetworKit_Page .Block .Thumbnail_Overview, .NetworKit_Page .Block .Thumbnail_ScatterPlot { width: 260px; float: left; } .NetworKit_Page .Block .Thumbnail_Overview img, .NetworKit_Page .Block .Thumbnail_ScatterPlot img { width: 260px; } .NetworKit_Page .Block .Thumbnail_Overview:before, .NetworKit_Page .Block .Thumbnail_ScatterPlot:before { display: block; text-align: center; font-weight: bold; } .NetworKit_Page .Block .Thumbnail_Overview:before { content: attr(data-title); } .NetworKit_Page .HeatCell { font-family: \"Courier New\", Courier, monospace; cursor: pointer; } .NetworKit_Page .HeatCell, .NetworKit_Page .HeatCellName { display: inline; padding: 0.1em; margin-right: 2px; background-color: #FFFFFF } .NetworKit_Page .HeatCellName { margin-left: 0.25em; } .NetworKit_Page .HeatCell:before { content: attr(data-heat); display: inline-block; color: #000000; width: 4em; text-align: center; } .NetworKit_Page .Measure { clear: both; } .NetworKit_Page .Measure .Details { cursor: pointer; } .NetworKit_Page .Measure .Details:before { content: \"[\" attr(data-title) \"]\"; display: block; } .NetworKit_Page .Measure .Details .Value { border-left: 1px dotted black; margin-left: 0.4em; padding-left: 3.5em; pointer-events: none; } .NetworKit_Page .Measure .Details .Spacer:before { content: \".\"; opacity: 0.0; pointer-events: none; } .NetworKit_Page .Measure .Plot { width: 440px; height: 440px; cursor: pointer; float: left; margin-left: -0.9em; margin-right: 20px; } .NetworKit_Page .Measure .Plot .Image { background-repeat: no-repeat; background-position: center center; background-size: contain; height: 100%; pointer-events: none; } .NetworKit_Page .Measure .Stat { width: 500px; float: left; } .NetworKit_Page .Measure .Stat .Group { padding-left: 1.25em; margin-bottom: 0.75em; } .NetworKit_Page .Measure .Stat .Group .Title { font-size: 1.1em; display: block; margin-bottom: 0.3em; margin-left: -0.75em; border-right-style: dotted; border-right-width: 1px; border-bottom-style: dotted; border-bottom-width: 1px; background-color: #D0D0D0; padding-left: 0.2em; } .NetworKit_Page .Measure .Stat .Group .List { -webkit-column-count: 3; -moz-column-count: 3; column-count: 3; } .NetworKit_Page .Measure .Stat .Group .List .Entry { position: relative; line-height: 1.75em; } .NetworKit_Page .Measure .Stat .Group .List .Entry[data-tooltip]:before { position: absolute; left: 0; top: -40px; background-color: #808080; color: #ffffff; height: 30px; line-height: 30px; border-radius: 5px; padding: 0 15px; content: attr(data-tooltip); white-space: nowrap; display: none; } .NetworKit_Page .Measure .Stat .Group .List .Entry[data-tooltip]:after { position: absolute; left: 15px; top: -10px; border-top: 7px solid #808080; border-left: 7px solid transparent; border-right: 7px solid transparent; content: \"\"; display: none; } .NetworKit_Page .Measure .Stat .Group .List .Entry[data-tooltip]:hover:after, .NetworKit_Page .Measure .Stat .Group .List .Entry[data-tooltip]:hover:before { display: block; } .NetworKit_Page .Measure .Stat .Group .List .Entry .MathValue { font-family: \"Courier New\", Courier, monospace; } .NetworKit_Page .Measure:after { content: \".\"; visibility: hidden; display: block; height: 0; clear: both; } .NetworKit_Page .PartitionPie { clear: both; } .NetworKit_Page .PartitionPie img { width: 600px; } #NetworKit_Overlay { left: 0px; top: 0px; display: none; position: absolute; width: 100%; height: 100%; background-color: rgba(0,0,0,0.6); z-index: 1000; } #NetworKit_Overlay_Title { position: absolute; color: white; transform: rotate(-90deg); width: 32em; height: 32em; padding-right: 0.5em; padding-top: 0.5em; text-align: right; font-size: 40px; } #NetworKit_Overlay .button { background: white; cursor: pointer; } #NetworKit_Overlay .button:before { size: 13px; display: inline-block; text-align: center; margin-top: 0.5em; margin-bottom: 0.5em; width: 1.5em; height: 1.5em; } #NetworKit_Overlay .icon-close:before { content: \"X\"; } #NetworKit_Overlay .icon-previous:before { content: \"P\"; } #NetworKit_Overlay .icon-next:before { content: \"N\"; } #NetworKit_Overlay .icon-save:before { content: \"S\"; } #NetworKit_Overlay_Toolbar_Top, #NetworKit_Overlay_Toolbar_Bottom { position: absolute; width: 40px; right: 13px; text-align: right; z-index: 1100; } #NetworKit_Overlay_Toolbar_Top { top: 0.5em; } #NetworKit_Overlay_Toolbar_Bottom { Bottom: 0.5em; } #NetworKit_Overlay_ImageContainer { position: absolute; top: 5%; left: 5%; height: 90%; width: 90%; background-repeat: no-repeat; background-position: center center; background-size: contain; } #NetworKit_Overlay_Image { height: 100%; width: 100%; background-repeat: no-repeat; background-position: center center; background-size: contain; }';\n",
       "\t\t\t\telement.setAttribute('id', 'NetworKit_style');\n",
       "\t\t\t\tdocument.head.appendChild(element);\n",
       "\t\t\t}\n",
       "\t\t\n",
       "\t\t\t\t\n",
       "\t\t\t{\n",
       "\t\t\t\tvar element = document.getElementById('NetworKit_Overlay');\n",
       "\t\t\t\tif (element) {\n",
       "\t\t\t\t\telement.parentNode.removeChild(element);\n",
       "\t\t\t\t}\n",
       "\t\t\t\telement = document.createElement('div');\n",
       "\t\t\t\telement.innerHTML = '<div id=\"NetworKit_Overlay_Toolbar_Top\"><div class=\"button icon-close\" id=\"NetworKit_Overlay_Close\" /></div><div id=\"NetworKit_Overlay_Title\" /> <div id=\"NetworKit_Overlay_ImageContainer\"> <div id=\"NetworKit_Overlay_Image\" /> </div> <div id=\"NetworKit_Overlay_Toolbar_Bottom\"> <div class=\"button icon-previous\" onclick=\"NetworKit_overlayImageShift(-1)\" /> <div class=\"button icon-next\" onclick=\"NetworKit_overlayImageShift(1)\" /> <a id=\"NetworKit_Overlay_Toolbar_Bottom_Save\"><div class=\"button icon-save\" /></a> </div>';\n",
       "\t\t\t\telement.setAttribute('id', 'NetworKit_Overlay');\n",
       "\t\t\t\tdocument.body.appendChild(element);\n",
       "\t\t\t\tdocument.getElementById('NetworKit_Overlay_Close').onclick = function (e) {\n",
       "\t\t\t\t\tdocument.getElementById('NetworKit_Overlay').style.display = 'none';\n",
       "\t\t\t\t}\n",
       "\t\t\t}\n",
       "\t\t\n",
       "\t\t\t-->\n",
       "\t\t\t</script>\n",
       "\t\t"
      ]
     },
     "metadata": {},
     "output_type": "display_data"
    }
   ],
   "source": [
    "from pycaret.classification import *\n",
    "import pandas as pd\n",
    "import operator\n",
    "from networkit.graphtools import GraphTools\n",
    "from itertools import combinations, chain\n",
    "import networkx as nx\n",
    "import networkit as nk\n",
    "import matplotlib.pyplot as plt\n",
    "import string\n",
    "from itertools import combinations, chain\n",
    "import networkx as nx\n",
    "import networkit as nk\n",
    "import matplotlib.pyplot as plt\n",
    "import string\n",
    "import numpy as np"
   ]
  },
  {
   "cell_type": "markdown",
   "metadata": {},
   "source": []
  },
  {
   "cell_type": "code",
   "execution_count": 2,
   "metadata": {},
   "outputs": [],
   "source": [
    "class GraphAnalyzer:\n",
    "    def __init__(self):\n",
    "        pass\n",
    "\n",
    "    def sentences_to_graph(self, text):\n",
    "        sentences = text.replace('-', ' ').split('.')\n",
    "        list_of_words = [ [ word.strip(string.punctuation).lower() for word in sentence.split(' ') if word != '' ] for sentence in sentences ]\n",
    "        # print(list_of_words)\n",
    "        links_per_sentence = list([ list(combinations(sentence, 2)) for sentence in list_of_words ])\n",
    "        links = list(chain(*links_per_sentence))\n",
    "        nodes = set(chain(*list_of_words)) - set([''])\n",
    "\n",
    "        G = nx.Graph()\n",
    "        G.add_nodes_from(nodes)\n",
    "        G.add_edges_from(links)\n",
    "        G.remove_edges_from(nx.selfloop_edges(G))\n",
    "        G_nk = nk.nxadapter.nx2nk(G)\n",
    "        idmap = dict((u, id) for (id, u) in zip(G.nodes(), range(G.number_of_nodes())))\n",
    "        return G, G_nk, idmap\n",
    "\n",
    "    def stats(self, arr):\n",
    "        return {\n",
    "            'min': np.min(arr), \n",
    "            '1qr': np.percentile(arr, 25), \n",
    "            'median': np.median(list(arr)), \n",
    "            '3qr': np.percentile(arr, 75), \n",
    "            'max': np.max(arr),\n",
    "            'avg': np.mean(arr)\n",
    "        }\n",
    "\n",
    "    def get_density(self, G):\n",
    "        return GraphTools.density(G)\n",
    "\n",
    "    def get_degree_centrality(self, G):\n",
    "        deg = nk.centrality.DegreeCentrality(G)\n",
    "        deg.run()\n",
    "        return deg.scores()\n",
    "\n",
    "    def get_eig_centrality(self, G):\n",
    "        deg = nk.centrality.EigenvectorCentrality(G)\n",
    "        deg.run()\n",
    "        return deg.scores()\n",
    "\n",
    "    def get_pagerank(self, G):\n",
    "        deg = nk.centrality.PageRank(G)\n",
    "        deg.run()\n",
    "        return deg.scores()\n",
    "\n",
    "    def get_btw_centrality(self, G):\n",
    "        deg = nk.centrality.ApproxBetweenness(G)\n",
    "        deg.run()\n",
    "        return deg.scores()\n",
    "\n",
    "    def get_cls_centrality(self, G):\n",
    "        deg = nk.centrality.ApproxBetweenness(G)\n",
    "        deg.run()\n",
    "        return deg.scores()\n",
    "\n",
    "    def get_size(self, G):\n",
    "        return GraphTools.size(G)\n",
    "\n",
    "    def get_max_cliques(self, G):\n",
    "        mc = nk.clique.MaximalCliques(G)\n",
    "        mc.run()\n",
    "        return mc.getCliques()\n",
    "\n",
    "    def get_isolated_nodes(self, degrees):\n",
    "        sequence = sorted(degrees)\n",
    "        i = 0\n",
    "        nIsolated = 0\n",
    "        while i < len(sequence) and sequence[i] == 0:\n",
    "            nIsolated += 1\n",
    "            i += 1\n",
    "        return nIsolated\n",
    "\n",
    "    def get_connected_components(self, G):\n",
    "        cc = nk.components.ConnectedComponents(G)\n",
    "        scc = nk.components.StronglyConnectedComponents(G)\n",
    "        cc.run()\n",
    "        scc.run()\n",
    "        return cc.numberOfComponents(), scc.numberOfComponents()\n",
    "    def prefaced_dict(self, d, prefix):\n",
    "        return { prefix + str(key): value for key, value in d.items() }\n",
    "    # Add other graph analysis methods here\n",
    "    def get_globals(self, G):\n",
    "        nodes, edges = self.get_size(G)\n",
    "        cc, scc = self.get_connected_components(G)\n",
    "\n",
    "        return {\n",
    "            'nodes': nodes,\n",
    "            'edges': edges,\n",
    "            'density': self.get_density(G),\n",
    "            'isolated_nodes': self.get_isolated_nodes(self.get_degree_centrality(G)),\n",
    "            'core_number': max(nx.core_number(nk.nxadapter.nk2nx(G)).items(), key = operator.itemgetter(1))[1],\n",
    "            'global_cc': nk.globals.ClusteringCoefficient.exactGlobal(G),\n",
    "            'approx_avg_local_cc': nk.globals.clustering(G),\n",
    "            'max_cliques': len(self.get_max_cliques(G)),\n",
    "            'connected_components': cc,\n",
    "            'strongly_connected_components': scc,\n",
    "            'degree_assortativity_coefficient': nx.degree_assortativity_coefficient(nk.nxadapter.nk2nx(G)),\n",
    "            'degree_pearson_correlation_coefficient': nx.degree_pearson_correlation_coefficient(nk.nxadapter.nk2nx(G))\n",
    "        }\n",
    "\n",
    "\n",
    "    def analyze_graph(self, text):\n",
    "        G, G_nk, idmap = self.sentences_to_graph(text)\n",
    "        Gcc = sorted(nx.connected_components(G), key=len, reverse=True)\n",
    "        G0 = G.subgraph(Gcc[0])\n",
    "        features = {\n",
    "            **self.prefaced_dict(self.get_globals(G_nk), ''),\n",
    "            'avg_shortest_path_length': nx.average_shortest_path_length(G0),\n",
    "            'avg_neighbour_degree': np.mean(list((nx.average_neighbor_degree(G).values()))),\n",
    "            'avg_degree_connectivity': np.mean(list((nx.average_degree_connectivity(G).values()))),\n",
    "            **self.prefaced_dict(self.stats(self.get_degree_centrality(G_nk)), 'degree_centrality_'),\n",
    "            **self.prefaced_dict(self.stats(self.get_eig_centrality(G_nk)), 'eigenvector_centrality_'),\n",
    "            **self.prefaced_dict(self.stats(self.get_pagerank(G_nk)), 'pagerank_'),\n",
    "            **self.prefaced_dict(self.stats(self.get_btw_centrality(G_nk)), 'betweenness_centrality_'),\n",
    "            **self.prefaced_dict(self.stats(self.get_cls_centrality(G_nk)), 'closeness_centrality_'),\n",
    "            'check_planarity': nx.check_planarity(G)[0],\n",
    "        }\n",
    "\n",
    "        return pd.DataFrame([features])\n"
   ]
  },
  {
   "cell_type": "code",
   "execution_count": 28,
   "metadata": {},
   "outputs": [],
   "source": [
    "class TextClassifier:\n",
    "    def __init__(self, model_path_2000):\n",
    "        # self.model_200 = load_model('../models/lightgbm')\n",
    "        self.model_2000 = load_model('../models/lightgbm_2000')\n",
    "        self.graph_analyzer = GraphAnalyzer()\n",
    "\n",
    "    def predict_label(self, text):\n",
    "        df_features = self.graph_analyzer.analyze_graph(text)\n",
    "        # prediction_200 = list(predict_model(self.model_200,data=df_features).iloc[:,-2])[0]\n",
    "        prediction_2000 =list(predict_model(self.model_2000,data=df_features).iloc[:,-2])[0]\n",
    "\n",
    "        return  prediction_2000\n",
    "\n"
   ]
  },
  {
   "cell_type": "code",
   "execution_count": 4,
   "metadata": {},
   "outputs": [],
   "source": [
    "# Constants\n",
    "\n",
    "TAACO_DIR = '../taaco/'\n",
    "INPUT_DIR = '../taaco/inputs/'\n",
    "OUTPUT_DIR = '../taaco/outputs/'\n",
    "\n",
    "\n",
    "dfs = []\n",
    "tags = ['init', 'generation']\n",
    "filenames = ['../data/ieee-init.jsonl', '../data/ieee-chatgpt-generation.jsonl']\n",
    "\n",
    "for filename in filenames:\n",
    "  dfs.append(pd.read_json(filename, lines=True))\n",
    "\n",
    "# Human-written\n",
    "# print(f\"Title: { dfs[0]['title'][1] } Keywords: {dfs[0]['keyword'][1]}\")\n",
    "  "
   ]
  },
  {
   "cell_type": "code",
   "execution_count": 9,
   "metadata": {},
   "outputs": [
    {
     "data": {
      "text/plain": [
       "15395"
      ]
     },
     "execution_count": 9,
     "metadata": {},
     "output_type": "execute_result"
    }
   ],
   "source": [
    "len(dfs[0])"
   ]
  },
  {
   "cell_type": "code",
   "execution_count": 29,
   "metadata": {},
   "outputs": [
    {
     "name": "stdout",
     "output_type": "stream",
     "text": [
      "Transformation Pipeline and Model Successfully Loaded\n"
     ]
    }
   ],
   "source": [
    "text_classifier = TextClassifier('../models/lightgbm_2000')"
   ]
  },
  {
   "cell_type": "code",
   "execution_count": 15,
   "metadata": {},
   "outputs": [],
   "source": [
    "# model = create_model('lightgbm')\n",
    "# # Save the model\n",
    "# save_model(model, '../models/lightgbm_2000')\n",
    "# model = load_model('../models/lightgbm_2000')"
   ]
  },
  {
   "cell_type": "code",
   "execution_count": null,
   "metadata": {},
   "outputs": [],
   "source": [
    "# Assuming you want to classify a specific text\n",
    "row = dfs[0][dfs[0]['id'] == 8619053]\n",
    "correct_prediction_2000 = 0\n",
    "for i in range(1001,2000):\n",
    "    print(i, correct_prediction_2000)\n",
    "    text_to_classify = dfs[0]['abstract'][i]\n",
    "    #print(text_to_classify)\n",
    "    prediction_2000 = text_classifier.predict_label(text_to_classify)\n",
    "    if prediction_2000 == 'human':\n",
    "        correct_prediction_2000 += 1   \n",
    "correct_prediction_2000\n",
    "    # print(f\"Prediction for 200: {prediction_200}\")\n",
    "    # print(f\"Prediction for 2000: {prediction_2000}\")"
   ]
  },
  {
   "cell_type": "code",
   "execution_count": 22,
   "metadata": {},
   "outputs": [
    {
     "name": "stdout",
     "output_type": "stream",
     "text": [
      "821 821\n",
      "999\n"
     ]
    }
   ],
   "source": [
    "print(correct_prediction_200,correct_prediction_2000)\n",
    "print(sum([1 for i in range(1001,2000)]))"
   ]
  },
  {
   "cell_type": "code",
   "execution_count": null,
   "metadata": {},
   "outputs": [],
   "source": [
    "correct_prediction_2000 = 0\n",
    "for i in range(2001,3000):\n",
    "    print(i, correct_prediction_2000)\n",
    "    text_to_classify = dfs[1]['abstract'][i]\n",
    "    #print(text_to_classify)\n",
    "    prediction_2000 = text_classifier.predict_label(text_to_classify)\n",
    "    if prediction_2000 == 'ai':\n",
    "        correct_prediction_2000 += 1   \n",
    "correct_prediction_2000"
   ]
  },
  {
   "cell_type": "code",
   "execution_count": 33,
   "metadata": {},
   "outputs": [
    {
     "name": "stdout",
     "output_type": "stream",
     "text": [
      "999\n"
     ]
    }
   ],
   "source": [
    "print(sum([1 for i in range(2001,3000)]))"
   ]
  },
  {
   "cell_type": "code",
   "execution_count": 55,
   "metadata": {},
   "outputs": [],
   "source": [
    "text_to_classify = \"Knowledge-intensive crowdsourcing harnesses the collective intelligence of widely distributed participants to address intricate problems demanding diverse expertise. This research delves into the factors shaping participant estimation within knowledge-intensive crowdsourcing environments, with a keen focus on identifying pivotal characteristics that profoundly influence the accuracy and reliability of estimations.Employing empirical analysis and data-driven methodologies, this study scrutinizes the interplay between participants' backgrounds, skills, and prior experiences, and their impact on estimation accuracy. The research systematically explores the influence of domain expertise, cognitive abilities, and collaborative tendencies on participants' estimation performance. Additionally, socio-demographic factors are considered to comprehensively grasp the broader contextual influences on estimation outcomes.The findings from this study significantly contribute to a nuanced comprehension of the human factors that underpin estimation accuracy in knowledge-intensive crowdsourcing. These insights have practical implications, informing the development of adept participant selection mechanisms, tailored training programs, and collaborative frameworks designed to elevate the overall success of crowdsourced projects within domains necessitating heightened levels of expertise.This research serves as a crucial bridge between knowledge-intensive crowdsourcing, human factors, and estimation accuracy, offering valuable insights to researchers, practitioners, and platform designers. The aim is to empower them in optimizing the performance of crowdsourced solutions within intricate knowledge domains.\""
   ]
  },
  {
   "cell_type": "code",
   "execution_count": 56,
   "metadata": {},
   "outputs": [],
   "source": [
    "prediction_2000 = text_classifier.predict_label(text_to_classify)"
   ]
  },
  {
   "cell_type": "code",
   "execution_count": 57,
   "metadata": {},
   "outputs": [
    {
     "data": {
      "text/plain": [
       "'human'"
      ]
     },
     "execution_count": 57,
     "metadata": {},
     "output_type": "execute_result"
    }
   ],
   "source": [
    "prediction_2000"
   ]
  },
  {
   "cell_type": "code",
   "execution_count": 62,
   "metadata": {},
   "outputs": [
    {
     "data": {
      "text/plain": [
       "'ai'"
      ]
     },
     "execution_count": 62,
     "metadata": {},
     "output_type": "execute_result"
    }
   ],
   "source": [
    "text_to_classify =dfs[1]['abstract'][5000]\n",
    "prediction_2000 = text_classifier.predict_label(text_to_classify)\n",
    "prediction_2000"
   ]
  },
  {
   "cell_type": "code",
   "execution_count": 63,
   "metadata": {},
   "outputs": [
    {
     "data": {
      "text/plain": [
       "'Sound Source Separation Using Spatio-temporal Sound Pressure Distribution Images and Machine Learning'"
      ]
     },
     "execution_count": 63,
     "metadata": {},
     "output_type": "execute_result"
    }
   ],
   "source": [
    "dfs[1]['title'][5000]"
   ]
  }
 ],
 "metadata": {
  "kernelspec": {
   "display_name": "Python 3",
   "language": "python",
   "name": "python3"
  },
  "language_info": {
   "codemirror_mode": {
    "name": "ipython",
    "version": 3
   },
   "file_extension": ".py",
   "mimetype": "text/x-python",
   "name": "python",
   "nbconvert_exporter": "python",
   "pygments_lexer": "ipython3",
   "version": "3.11.6"
  }
 },
 "nbformat": 4,
 "nbformat_minor": 2
}
