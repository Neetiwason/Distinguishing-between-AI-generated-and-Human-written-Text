{
 "cells": [
  {
   "cell_type": "markdown",
   "metadata": {},
   "source": [
    "**Warning**: *Make sure to run `sampling.ipynb` and then `topological_analysis.ipynb` before this notebook to generate the dataset for analysis!*"
   ]
  },
  {
   "cell_type": "markdown",
   "metadata": {},
   "source": [
    "## Load the dataset\n",
    "---"
   ]
  },
  {
   "cell_type": "code",
   "execution_count": 11,
   "metadata": {},
   "outputs": [
    {
     "data": {
      "text/html": [
       "<div>\n",
       "<style scoped>\n",
       "    .dataframe tbody tr th:only-of-type {\n",
       "        vertical-align: middle;\n",
       "    }\n",
       "\n",
       "    .dataframe tbody tr th {\n",
       "        vertical-align: top;\n",
       "    }\n",
       "\n",
       "    .dataframe thead th {\n",
       "        text-align: right;\n",
       "    }\n",
       "</style>\n",
       "<table border=\"1\" class=\"dataframe\">\n",
       "  <thead>\n",
       "    <tr style=\"text-align: right;\">\n",
       "      <th></th>\n",
       "      <th>Unnamed: 0</th>\n",
       "      <th>id</th>\n",
       "      <th>degree_centrality_uncertain</th>\n",
       "      <th>degree_centrality_simulations</th>\n",
       "      <th>degree_centrality_control</th>\n",
       "      <th>degree_centrality_agents</th>\n",
       "      <th>degree_centrality_converge</th>\n",
       "      <th>degree_centrality_errors</th>\n",
       "      <th>degree_centrality_online</th>\n",
       "      <th>degree_centrality_and</th>\n",
       "      <th>...</th>\n",
       "      <th>all_pairs_node_connectivity_recognitions_max</th>\n",
       "      <th>all_pairs_node_connectivity_modal_min</th>\n",
       "      <th>all_pairs_node_connectivity_modal_median</th>\n",
       "      <th>all_pairs_node_connectivity_modal_max</th>\n",
       "      <th>all_pairs_node_connectivity_multichannel_min</th>\n",
       "      <th>all_pairs_node_connectivity_multichannel_median</th>\n",
       "      <th>all_pairs_node_connectivity_multichannel_max</th>\n",
       "      <th>all_pairs_node_connectivity_window_min</th>\n",
       "      <th>all_pairs_node_connectivity_window_median</th>\n",
       "      <th>all_pairs_node_connectivity_window_max</th>\n",
       "    </tr>\n",
       "  </thead>\n",
       "  <tbody>\n",
       "    <tr>\n",
       "      <th>0</th>\n",
       "      <td>0</td>\n",
       "      <td>8619053</td>\n",
       "      <td>0.428571</td>\n",
       "      <td>0.155844</td>\n",
       "      <td>0.74026</td>\n",
       "      <td>0.558442</td>\n",
       "      <td>0.285714</td>\n",
       "      <td>0.207792</td>\n",
       "      <td>0.207792</td>\n",
       "      <td>0.363636</td>\n",
       "      <td>...</td>\n",
       "      <td>NaN</td>\n",
       "      <td>NaN</td>\n",
       "      <td>NaN</td>\n",
       "      <td>NaN</td>\n",
       "      <td>NaN</td>\n",
       "      <td>NaN</td>\n",
       "      <td>NaN</td>\n",
       "      <td>NaN</td>\n",
       "      <td>NaN</td>\n",
       "      <td>NaN</td>\n",
       "    </tr>\n",
       "    <tr>\n",
       "      <th>1</th>\n",
       "      <td>1</td>\n",
       "      <td>8719964</td>\n",
       "      <td>NaN</td>\n",
       "      <td>NaN</td>\n",
       "      <td>NaN</td>\n",
       "      <td>NaN</td>\n",
       "      <td>NaN</td>\n",
       "      <td>NaN</td>\n",
       "      <td>NaN</td>\n",
       "      <td>0.779221</td>\n",
       "      <td>...</td>\n",
       "      <td>NaN</td>\n",
       "      <td>NaN</td>\n",
       "      <td>NaN</td>\n",
       "      <td>NaN</td>\n",
       "      <td>NaN</td>\n",
       "      <td>NaN</td>\n",
       "      <td>NaN</td>\n",
       "      <td>NaN</td>\n",
       "      <td>NaN</td>\n",
       "      <td>NaN</td>\n",
       "    </tr>\n",
       "    <tr>\n",
       "      <th>2</th>\n",
       "      <td>2</td>\n",
       "      <td>8703870</td>\n",
       "      <td>NaN</td>\n",
       "      <td>NaN</td>\n",
       "      <td>NaN</td>\n",
       "      <td>NaN</td>\n",
       "      <td>NaN</td>\n",
       "      <td>NaN</td>\n",
       "      <td>NaN</td>\n",
       "      <td>1.000000</td>\n",
       "      <td>...</td>\n",
       "      <td>NaN</td>\n",
       "      <td>NaN</td>\n",
       "      <td>NaN</td>\n",
       "      <td>NaN</td>\n",
       "      <td>NaN</td>\n",
       "      <td>NaN</td>\n",
       "      <td>NaN</td>\n",
       "      <td>NaN</td>\n",
       "      <td>NaN</td>\n",
       "      <td>NaN</td>\n",
       "    </tr>\n",
       "    <tr>\n",
       "      <th>3</th>\n",
       "      <td>3</td>\n",
       "      <td>8751867</td>\n",
       "      <td>NaN</td>\n",
       "      <td>NaN</td>\n",
       "      <td>0.30000</td>\n",
       "      <td>NaN</td>\n",
       "      <td>NaN</td>\n",
       "      <td>NaN</td>\n",
       "      <td>NaN</td>\n",
       "      <td>0.900000</td>\n",
       "      <td>...</td>\n",
       "      <td>NaN</td>\n",
       "      <td>NaN</td>\n",
       "      <td>NaN</td>\n",
       "      <td>NaN</td>\n",
       "      <td>NaN</td>\n",
       "      <td>NaN</td>\n",
       "      <td>NaN</td>\n",
       "      <td>NaN</td>\n",
       "      <td>NaN</td>\n",
       "      <td>NaN</td>\n",
       "    </tr>\n",
       "    <tr>\n",
       "      <th>4</th>\n",
       "      <td>4</td>\n",
       "      <td>8758842</td>\n",
       "      <td>NaN</td>\n",
       "      <td>NaN</td>\n",
       "      <td>NaN</td>\n",
       "      <td>NaN</td>\n",
       "      <td>NaN</td>\n",
       "      <td>NaN</td>\n",
       "      <td>NaN</td>\n",
       "      <td>0.639706</td>\n",
       "      <td>...</td>\n",
       "      <td>NaN</td>\n",
       "      <td>NaN</td>\n",
       "      <td>NaN</td>\n",
       "      <td>NaN</td>\n",
       "      <td>NaN</td>\n",
       "      <td>NaN</td>\n",
       "      <td>NaN</td>\n",
       "      <td>NaN</td>\n",
       "      <td>NaN</td>\n",
       "      <td>NaN</td>\n",
       "    </tr>\n",
       "  </tbody>\n",
       "</table>\n",
       "<p>5 rows × 36019 columns</p>\n",
       "</div>"
      ],
      "text/plain": [
       "   Unnamed: 0       id  degree_centrality_uncertain  \\\n",
       "0           0  8619053                     0.428571   \n",
       "1           1  8719964                          NaN   \n",
       "2           2  8703870                          NaN   \n",
       "3           3  8751867                          NaN   \n",
       "4           4  8758842                          NaN   \n",
       "\n",
       "   degree_centrality_simulations  degree_centrality_control  \\\n",
       "0                       0.155844                    0.74026   \n",
       "1                            NaN                        NaN   \n",
       "2                            NaN                        NaN   \n",
       "3                            NaN                    0.30000   \n",
       "4                            NaN                        NaN   \n",
       "\n",
       "   degree_centrality_agents  degree_centrality_converge  \\\n",
       "0                  0.558442                    0.285714   \n",
       "1                       NaN                         NaN   \n",
       "2                       NaN                         NaN   \n",
       "3                       NaN                         NaN   \n",
       "4                       NaN                         NaN   \n",
       "\n",
       "   degree_centrality_errors  degree_centrality_online  degree_centrality_and  \\\n",
       "0                  0.207792                  0.207792               0.363636   \n",
       "1                       NaN                       NaN               0.779221   \n",
       "2                       NaN                       NaN               1.000000   \n",
       "3                       NaN                       NaN               0.900000   \n",
       "4                       NaN                       NaN               0.639706   \n",
       "\n",
       "   ...  all_pairs_node_connectivity_recognitions_max  \\\n",
       "0  ...                                           NaN   \n",
       "1  ...                                           NaN   \n",
       "2  ...                                           NaN   \n",
       "3  ...                                           NaN   \n",
       "4  ...                                           NaN   \n",
       "\n",
       "   all_pairs_node_connectivity_modal_min  \\\n",
       "0                                    NaN   \n",
       "1                                    NaN   \n",
       "2                                    NaN   \n",
       "3                                    NaN   \n",
       "4                                    NaN   \n",
       "\n",
       "   all_pairs_node_connectivity_modal_median  \\\n",
       "0                                       NaN   \n",
       "1                                       NaN   \n",
       "2                                       NaN   \n",
       "3                                       NaN   \n",
       "4                                       NaN   \n",
       "\n",
       "   all_pairs_node_connectivity_modal_max  \\\n",
       "0                                    NaN   \n",
       "1                                    NaN   \n",
       "2                                    NaN   \n",
       "3                                    NaN   \n",
       "4                                    NaN   \n",
       "\n",
       "   all_pairs_node_connectivity_multichannel_min  \\\n",
       "0                                           NaN   \n",
       "1                                           NaN   \n",
       "2                                           NaN   \n",
       "3                                           NaN   \n",
       "4                                           NaN   \n",
       "\n",
       "   all_pairs_node_connectivity_multichannel_median  \\\n",
       "0                                              NaN   \n",
       "1                                              NaN   \n",
       "2                                              NaN   \n",
       "3                                              NaN   \n",
       "4                                              NaN   \n",
       "\n",
       "   all_pairs_node_connectivity_multichannel_max  \\\n",
       "0                                           NaN   \n",
       "1                                           NaN   \n",
       "2                                           NaN   \n",
       "3                                           NaN   \n",
       "4                                           NaN   \n",
       "\n",
       "   all_pairs_node_connectivity_window_min  \\\n",
       "0                                     NaN   \n",
       "1                                     NaN   \n",
       "2                                     NaN   \n",
       "3                                     NaN   \n",
       "4                                     NaN   \n",
       "\n",
       "   all_pairs_node_connectivity_window_median  \\\n",
       "0                                        NaN   \n",
       "1                                        NaN   \n",
       "2                                        NaN   \n",
       "3                                        NaN   \n",
       "4                                        NaN   \n",
       "\n",
       "   all_pairs_node_connectivity_window_max  \n",
       "0                                     NaN  \n",
       "1                                     NaN  \n",
       "2                                     NaN  \n",
       "3                                     NaN  \n",
       "4                                     NaN  \n",
       "\n",
       "[5 rows x 36019 columns]"
      ]
     },
     "execution_count": 11,
     "metadata": {},
     "output_type": "execute_result"
    }
   ],
   "source": [
    "import pandas as pd\n",
    "\n",
    "FILE_PATH = '../data/topological_analysis.csv'\n",
    "\n",
    "df = pd.read_csv(FILE_PATH)\n",
    "df.head()"
   ]
  },
  {
   "cell_type": "code",
   "execution_count": 30,
   "metadata": {},
   "outputs": [
    {
     "data": {
      "text/html": [
       "<div>\n",
       "<style scoped>\n",
       "    .dataframe tbody tr th:only-of-type {\n",
       "        vertical-align: middle;\n",
       "    }\n",
       "\n",
       "    .dataframe tbody tr th {\n",
       "        vertical-align: top;\n",
       "    }\n",
       "\n",
       "    .dataframe thead th {\n",
       "        text-align: right;\n",
       "    }\n",
       "</style>\n",
       "<table border=\"1\" class=\"dataframe\">\n",
       "  <thead>\n",
       "    <tr style=\"text-align: right;\">\n",
       "      <th></th>\n",
       "      <th>degree_centrality_uncertain</th>\n",
       "      <th>degree_centrality_simulations</th>\n",
       "      <th>degree_centrality_control</th>\n",
       "      <th>degree_centrality_agents</th>\n",
       "      <th>degree_centrality_converge</th>\n",
       "      <th>degree_centrality_errors</th>\n",
       "      <th>degree_centrality_online</th>\n",
       "      <th>degree_centrality_and</th>\n",
       "      <th>degree_centrality_guarantee</th>\n",
       "      <th>degree_centrality_parameters</th>\n",
       "      <th>...</th>\n",
       "      <th>all_pairs_node_connectivity_recognitions_max</th>\n",
       "      <th>all_pairs_node_connectivity_modal_min</th>\n",
       "      <th>all_pairs_node_connectivity_modal_median</th>\n",
       "      <th>all_pairs_node_connectivity_modal_max</th>\n",
       "      <th>all_pairs_node_connectivity_multichannel_min</th>\n",
       "      <th>all_pairs_node_connectivity_multichannel_median</th>\n",
       "      <th>all_pairs_node_connectivity_multichannel_max</th>\n",
       "      <th>all_pairs_node_connectivity_window_min</th>\n",
       "      <th>all_pairs_node_connectivity_window_median</th>\n",
       "      <th>all_pairs_node_connectivity_window_max</th>\n",
       "    </tr>\n",
       "  </thead>\n",
       "  <tbody>\n",
       "    <tr>\n",
       "      <th>0</th>\n",
       "      <td>0.428571</td>\n",
       "      <td>0.155844</td>\n",
       "      <td>0.74026</td>\n",
       "      <td>0.558442</td>\n",
       "      <td>0.285714</td>\n",
       "      <td>0.207792</td>\n",
       "      <td>0.207792</td>\n",
       "      <td>0.363636</td>\n",
       "      <td>0.207792</td>\n",
       "      <td>0.207792</td>\n",
       "      <td>...</td>\n",
       "      <td>NaN</td>\n",
       "      <td>NaN</td>\n",
       "      <td>NaN</td>\n",
       "      <td>NaN</td>\n",
       "      <td>NaN</td>\n",
       "      <td>NaN</td>\n",
       "      <td>NaN</td>\n",
       "      <td>NaN</td>\n",
       "      <td>NaN</td>\n",
       "      <td>NaN</td>\n",
       "    </tr>\n",
       "    <tr>\n",
       "      <th>1</th>\n",
       "      <td>NaN</td>\n",
       "      <td>NaN</td>\n",
       "      <td>NaN</td>\n",
       "      <td>NaN</td>\n",
       "      <td>NaN</td>\n",
       "      <td>NaN</td>\n",
       "      <td>NaN</td>\n",
       "      <td>0.779221</td>\n",
       "      <td>NaN</td>\n",
       "      <td>NaN</td>\n",
       "      <td>...</td>\n",
       "      <td>NaN</td>\n",
       "      <td>NaN</td>\n",
       "      <td>NaN</td>\n",
       "      <td>NaN</td>\n",
       "      <td>NaN</td>\n",
       "      <td>NaN</td>\n",
       "      <td>NaN</td>\n",
       "      <td>NaN</td>\n",
       "      <td>NaN</td>\n",
       "      <td>NaN</td>\n",
       "    </tr>\n",
       "    <tr>\n",
       "      <th>2</th>\n",
       "      <td>NaN</td>\n",
       "      <td>NaN</td>\n",
       "      <td>NaN</td>\n",
       "      <td>NaN</td>\n",
       "      <td>NaN</td>\n",
       "      <td>NaN</td>\n",
       "      <td>NaN</td>\n",
       "      <td>1.000000</td>\n",
       "      <td>NaN</td>\n",
       "      <td>NaN</td>\n",
       "      <td>...</td>\n",
       "      <td>NaN</td>\n",
       "      <td>NaN</td>\n",
       "      <td>NaN</td>\n",
       "      <td>NaN</td>\n",
       "      <td>NaN</td>\n",
       "      <td>NaN</td>\n",
       "      <td>NaN</td>\n",
       "      <td>NaN</td>\n",
       "      <td>NaN</td>\n",
       "      <td>NaN</td>\n",
       "    </tr>\n",
       "    <tr>\n",
       "      <th>3</th>\n",
       "      <td>NaN</td>\n",
       "      <td>NaN</td>\n",
       "      <td>0.30000</td>\n",
       "      <td>NaN</td>\n",
       "      <td>NaN</td>\n",
       "      <td>NaN</td>\n",
       "      <td>NaN</td>\n",
       "      <td>0.900000</td>\n",
       "      <td>NaN</td>\n",
       "      <td>NaN</td>\n",
       "      <td>...</td>\n",
       "      <td>NaN</td>\n",
       "      <td>NaN</td>\n",
       "      <td>NaN</td>\n",
       "      <td>NaN</td>\n",
       "      <td>NaN</td>\n",
       "      <td>NaN</td>\n",
       "      <td>NaN</td>\n",
       "      <td>NaN</td>\n",
       "      <td>NaN</td>\n",
       "      <td>NaN</td>\n",
       "    </tr>\n",
       "    <tr>\n",
       "      <th>4</th>\n",
       "      <td>NaN</td>\n",
       "      <td>NaN</td>\n",
       "      <td>NaN</td>\n",
       "      <td>NaN</td>\n",
       "      <td>NaN</td>\n",
       "      <td>NaN</td>\n",
       "      <td>NaN</td>\n",
       "      <td>0.639706</td>\n",
       "      <td>NaN</td>\n",
       "      <td>NaN</td>\n",
       "      <td>...</td>\n",
       "      <td>NaN</td>\n",
       "      <td>NaN</td>\n",
       "      <td>NaN</td>\n",
       "      <td>NaN</td>\n",
       "      <td>NaN</td>\n",
       "      <td>NaN</td>\n",
       "      <td>NaN</td>\n",
       "      <td>NaN</td>\n",
       "      <td>NaN</td>\n",
       "      <td>NaN</td>\n",
       "    </tr>\n",
       "  </tbody>\n",
       "</table>\n",
       "<p>5 rows × 36016 columns</p>\n",
       "</div>"
      ],
      "text/plain": [
       "   degree_centrality_uncertain  degree_centrality_simulations  \\\n",
       "0                     0.428571                       0.155844   \n",
       "1                          NaN                            NaN   \n",
       "2                          NaN                            NaN   \n",
       "3                          NaN                            NaN   \n",
       "4                          NaN                            NaN   \n",
       "\n",
       "   degree_centrality_control  degree_centrality_agents  \\\n",
       "0                    0.74026                  0.558442   \n",
       "1                        NaN                       NaN   \n",
       "2                        NaN                       NaN   \n",
       "3                    0.30000                       NaN   \n",
       "4                        NaN                       NaN   \n",
       "\n",
       "   degree_centrality_converge  degree_centrality_errors  \\\n",
       "0                    0.285714                  0.207792   \n",
       "1                         NaN                       NaN   \n",
       "2                         NaN                       NaN   \n",
       "3                         NaN                       NaN   \n",
       "4                         NaN                       NaN   \n",
       "\n",
       "   degree_centrality_online  degree_centrality_and  \\\n",
       "0                  0.207792               0.363636   \n",
       "1                       NaN               0.779221   \n",
       "2                       NaN               1.000000   \n",
       "3                       NaN               0.900000   \n",
       "4                       NaN               0.639706   \n",
       "\n",
       "   degree_centrality_guarantee  degree_centrality_parameters  ...  \\\n",
       "0                     0.207792                      0.207792  ...   \n",
       "1                          NaN                           NaN  ...   \n",
       "2                          NaN                           NaN  ...   \n",
       "3                          NaN                           NaN  ...   \n",
       "4                          NaN                           NaN  ...   \n",
       "\n",
       "   all_pairs_node_connectivity_recognitions_max  \\\n",
       "0                                           NaN   \n",
       "1                                           NaN   \n",
       "2                                           NaN   \n",
       "3                                           NaN   \n",
       "4                                           NaN   \n",
       "\n",
       "   all_pairs_node_connectivity_modal_min  \\\n",
       "0                                    NaN   \n",
       "1                                    NaN   \n",
       "2                                    NaN   \n",
       "3                                    NaN   \n",
       "4                                    NaN   \n",
       "\n",
       "   all_pairs_node_connectivity_modal_median  \\\n",
       "0                                       NaN   \n",
       "1                                       NaN   \n",
       "2                                       NaN   \n",
       "3                                       NaN   \n",
       "4                                       NaN   \n",
       "\n",
       "   all_pairs_node_connectivity_modal_max  \\\n",
       "0                                    NaN   \n",
       "1                                    NaN   \n",
       "2                                    NaN   \n",
       "3                                    NaN   \n",
       "4                                    NaN   \n",
       "\n",
       "   all_pairs_node_connectivity_multichannel_min  \\\n",
       "0                                           NaN   \n",
       "1                                           NaN   \n",
       "2                                           NaN   \n",
       "3                                           NaN   \n",
       "4                                           NaN   \n",
       "\n",
       "   all_pairs_node_connectivity_multichannel_median  \\\n",
       "0                                              NaN   \n",
       "1                                              NaN   \n",
       "2                                              NaN   \n",
       "3                                              NaN   \n",
       "4                                              NaN   \n",
       "\n",
       "   all_pairs_node_connectivity_multichannel_max  \\\n",
       "0                                           NaN   \n",
       "1                                           NaN   \n",
       "2                                           NaN   \n",
       "3                                           NaN   \n",
       "4                                           NaN   \n",
       "\n",
       "   all_pairs_node_connectivity_window_min  \\\n",
       "0                                     NaN   \n",
       "1                                     NaN   \n",
       "2                                     NaN   \n",
       "3                                     NaN   \n",
       "4                                     NaN   \n",
       "\n",
       "   all_pairs_node_connectivity_window_median  \\\n",
       "0                                        NaN   \n",
       "1                                        NaN   \n",
       "2                                        NaN   \n",
       "3                                        NaN   \n",
       "4                                        NaN   \n",
       "\n",
       "   all_pairs_node_connectivity_window_max  \n",
       "0                                     NaN  \n",
       "1                                     NaN  \n",
       "2                                     NaN  \n",
       "3                                     NaN  \n",
       "4                                     NaN  \n",
       "\n",
       "[5 rows x 36016 columns]"
      ]
     },
     "execution_count": 30,
     "metadata": {},
     "output_type": "execute_result"
    }
   ],
   "source": [
    "# all columns except the label\n",
    "X = df.drop(columns=['label']).iloc[:, 2:]\n",
    "y = df['label']\n",
    "\n",
    "X.head()"
   ]
  },
  {
   "cell_type": "code",
   "execution_count": 17,
   "metadata": {},
   "outputs": [
    {
     "data": {
      "text/plain": [
       "Index(['Unnamed: 0', 'id', 'degree_centrality_uncertain',\n",
       "       'degree_centrality_simulations', 'degree_centrality_control',\n",
       "       'degree_centrality_agents', 'degree_centrality_converge',\n",
       "       'degree_centrality_errors', 'degree_centrality_online',\n",
       "       'degree_centrality_and',\n",
       "       ...\n",
       "       'all_pairs_node_connectivity_recognitions_max',\n",
       "       'all_pairs_node_connectivity_modal_min',\n",
       "       'all_pairs_node_connectivity_modal_median',\n",
       "       'all_pairs_node_connectivity_modal_max',\n",
       "       'all_pairs_node_connectivity_multichannel_min',\n",
       "       'all_pairs_node_connectivity_multichannel_median',\n",
       "       'all_pairs_node_connectivity_multichannel_max',\n",
       "       'all_pairs_node_connectivity_window_min',\n",
       "       'all_pairs_node_connectivity_window_median',\n",
       "       'all_pairs_node_connectivity_window_max'],\n",
       "      dtype='object', length=36019)"
      ]
     },
     "execution_count": 17,
     "metadata": {},
     "output_type": "execute_result"
    }
   ],
   "source": [
    "df.columns"
   ]
  },
  {
   "cell_type": "code",
   "execution_count": 13,
   "metadata": {},
   "outputs": [
    {
     "data": {
      "text/plain": [
       "0    ai\n",
       "1    ai\n",
       "2    ai\n",
       "3    ai\n",
       "4    ai\n",
       "Name: label, dtype: object"
      ]
     },
     "execution_count": 13,
     "metadata": {},
     "output_type": "execute_result"
    }
   ],
   "source": [
    "y.head()"
   ]
  },
  {
   "cell_type": "code",
   "execution_count": 31,
   "metadata": {},
   "outputs": [
    {
     "data": {
      "text/html": [
       "<div>\n",
       "<style scoped>\n",
       "    .dataframe tbody tr th:only-of-type {\n",
       "        vertical-align: middle;\n",
       "    }\n",
       "\n",
       "    .dataframe tbody tr th {\n",
       "        vertical-align: top;\n",
       "    }\n",
       "\n",
       "    .dataframe thead th {\n",
       "        text-align: right;\n",
       "    }\n",
       "</style>\n",
       "<table border=\"1\" class=\"dataframe\">\n",
       "  <thead>\n",
       "    <tr style=\"text-align: right;\">\n",
       "      <th></th>\n",
       "      <th>degree_centrality_the</th>\n",
       "      <th>eigenvector_centrality_numpy_the</th>\n",
       "      <th>closeness_centrality_the</th>\n",
       "      <th>betweenness_centrality_the</th>\n",
       "      <th>average_neighbor_degree_the</th>\n",
       "      <th>clustering_the</th>\n",
       "      <th>all_pairs_node_connectivity_the_min</th>\n",
       "      <th>all_pairs_node_connectivity_the_median</th>\n",
       "      <th>all_pairs_node_connectivity_the_max</th>\n",
       "      <th>degree_assortativity_coefficient</th>\n",
       "      <th>degree_pearson_correlation_coefficient</th>\n",
       "      <th>average_clustering</th>\n",
       "      <th>check_planarity</th>\n",
       "    </tr>\n",
       "  </thead>\n",
       "  <tbody>\n",
       "    <tr>\n",
       "      <th>0</th>\n",
       "      <td>0.818182</td>\n",
       "      <td>0.251577</td>\n",
       "      <td>0.846154</td>\n",
       "      <td>0.108809</td>\n",
       "      <td>23.507937</td>\n",
       "      <td>0.341526</td>\n",
       "      <td>6</td>\n",
       "      <td>18.0</td>\n",
       "      <td>63</td>\n",
       "      <td>-0.142139</td>\n",
       "      <td>-0.142139</td>\n",
       "      <td>0.894418</td>\n",
       "      <td>False</td>\n",
       "    </tr>\n",
       "    <tr>\n",
       "      <th>1</th>\n",
       "      <td>0.870130</td>\n",
       "      <td>0.224258</td>\n",
       "      <td>0.885057</td>\n",
       "      <td>0.091465</td>\n",
       "      <td>26.731343</td>\n",
       "      <td>0.371777</td>\n",
       "      <td>8</td>\n",
       "      <td>21.0</td>\n",
       "      <td>67</td>\n",
       "      <td>-0.191165</td>\n",
       "      <td>-0.191165</td>\n",
       "      <td>0.884952</td>\n",
       "      <td>False</td>\n",
       "    </tr>\n",
       "    <tr>\n",
       "      <th>2</th>\n",
       "      <td>0.814286</td>\n",
       "      <td>0.203632</td>\n",
       "      <td>0.843373</td>\n",
       "      <td>0.086066</td>\n",
       "      <td>26.912281</td>\n",
       "      <td>0.426065</td>\n",
       "      <td>9</td>\n",
       "      <td>22.0</td>\n",
       "      <td>57</td>\n",
       "      <td>-0.125062</td>\n",
       "      <td>-0.125062</td>\n",
       "      <td>0.902158</td>\n",
       "      <td>False</td>\n",
       "    </tr>\n",
       "    <tr>\n",
       "      <th>3</th>\n",
       "      <td>0.900000</td>\n",
       "      <td>0.238198</td>\n",
       "      <td>0.909091</td>\n",
       "      <td>0.106493</td>\n",
       "      <td>25.476190</td>\n",
       "      <td>0.380440</td>\n",
       "      <td>8</td>\n",
       "      <td>21.0</td>\n",
       "      <td>63</td>\n",
       "      <td>-0.125985</td>\n",
       "      <td>-0.125985</td>\n",
       "      <td>0.889368</td>\n",
       "      <td>False</td>\n",
       "    </tr>\n",
       "    <tr>\n",
       "      <th>4</th>\n",
       "      <td>0.897059</td>\n",
       "      <td>0.236705</td>\n",
       "      <td>0.904311</td>\n",
       "      <td>0.190773</td>\n",
       "      <td>30.016393</td>\n",
       "      <td>0.233166</td>\n",
       "      <td>0</td>\n",
       "      <td>25.0</td>\n",
       "      <td>95</td>\n",
       "      <td>-0.151208</td>\n",
       "      <td>-0.151208</td>\n",
       "      <td>0.877236</td>\n",
       "      <td>False</td>\n",
       "    </tr>\n",
       "  </tbody>\n",
       "</table>\n",
       "</div>"
      ],
      "text/plain": [
       "   degree_centrality_the  eigenvector_centrality_numpy_the  \\\n",
       "0               0.818182                          0.251577   \n",
       "1               0.870130                          0.224258   \n",
       "2               0.814286                          0.203632   \n",
       "3               0.900000                          0.238198   \n",
       "4               0.897059                          0.236705   \n",
       "\n",
       "   closeness_centrality_the  betweenness_centrality_the  \\\n",
       "0                  0.846154                    0.108809   \n",
       "1                  0.885057                    0.091465   \n",
       "2                  0.843373                    0.086066   \n",
       "3                  0.909091                    0.106493   \n",
       "4                  0.904311                    0.190773   \n",
       "\n",
       "   average_neighbor_degree_the  clustering_the  \\\n",
       "0                    23.507937        0.341526   \n",
       "1                    26.731343        0.371777   \n",
       "2                    26.912281        0.426065   \n",
       "3                    25.476190        0.380440   \n",
       "4                    30.016393        0.233166   \n",
       "\n",
       "   all_pairs_node_connectivity_the_min  \\\n",
       "0                                    6   \n",
       "1                                    8   \n",
       "2                                    9   \n",
       "3                                    8   \n",
       "4                                    0   \n",
       "\n",
       "   all_pairs_node_connectivity_the_median  \\\n",
       "0                                    18.0   \n",
       "1                                    21.0   \n",
       "2                                    22.0   \n",
       "3                                    21.0   \n",
       "4                                    25.0   \n",
       "\n",
       "   all_pairs_node_connectivity_the_max  degree_assortativity_coefficient  \\\n",
       "0                                   63                         -0.142139   \n",
       "1                                   67                         -0.191165   \n",
       "2                                   57                         -0.125062   \n",
       "3                                   63                         -0.125985   \n",
       "4                                   95                         -0.151208   \n",
       "\n",
       "   degree_pearson_correlation_coefficient  average_clustering  check_planarity  \n",
       "0                               -0.142139            0.894418            False  \n",
       "1                               -0.191165            0.884952            False  \n",
       "2                               -0.125062            0.902158            False  \n",
       "3                               -0.125985            0.889368            False  \n",
       "4                               -0.151208            0.877236            False  "
      ]
     },
     "execution_count": 31,
     "metadata": {},
     "output_type": "execute_result"
    }
   ],
   "source": [
    "# drop all columns with NaN from X\n",
    "X = X.dropna(axis=1)\n",
    "X.head()"
   ]
  },
  {
   "cell_type": "code",
   "execution_count": 32,
   "metadata": {},
   "outputs": [
    {
     "data": {
      "text/plain": [
       "(200, 13)"
      ]
     },
     "execution_count": 32,
     "metadata": {},
     "output_type": "execute_result"
    }
   ],
   "source": [
    "X.shape"
   ]
  },
  {
   "cell_type": "markdown",
   "metadata": {},
   "source": [
    "## Perform Classification\n",
    "---"
   ]
  },
  {
   "cell_type": "code",
   "execution_count": 197,
   "metadata": {},
   "outputs": [
    {
     "data": {
      "text/plain": [
       "array([0.75, 0.7 , 0.8 , 0.95, 0.8 , 0.85, 0.85, 0.95, 0.7 , 0.9 ])"
      ]
     },
     "execution_count": 197,
     "metadata": {},
     "output_type": "execute_result"
    }
   ],
   "source": [
    "from sklearn.neural_network import MLPClassifier\n",
    "from sklearn.model_selection import cross_val_score\n",
    "\n",
    "clf = MLPClassifier(hidden_layer_sizes=(100, 100, 100), max_iter=1000)\n",
    "cv_scores = cross_val_score(clf, X, y, cv=10)\n",
    "\n",
    "cv_scores"
   ]
  },
  {
   "cell_type": "code",
   "execution_count": 198,
   "metadata": {},
   "outputs": [
    {
     "data": {
      "text/plain": [
       "((160, 13), (40, 13), (160,), (40,))"
      ]
     },
     "execution_count": 198,
     "metadata": {},
     "output_type": "execute_result"
    }
   ],
   "source": [
    "from sklearn.model_selection import train_test_split\n",
    "\n",
    "X_train, X_test, y_train, y_test = train_test_split(X, y, test_size=0.2)\n",
    "\n",
    "X_train.shape, X_test.shape, y_train.shape, y_test.shape"
   ]
  },
  {
   "cell_type": "code",
   "execution_count": 199,
   "metadata": {},
   "outputs": [
    {
     "data": {
      "text/plain": [
       "{'hidden_layer_sizes': (100, 100, 100, 100)}"
      ]
     },
     "execution_count": 199,
     "metadata": {},
     "output_type": "execute_result"
    }
   ],
   "source": [
    "from sklearn.model_selection import GridSearchCV\n",
    "\n",
    "parameters = {'hidden_layer_sizes': [(100, 100, 100), (100, 100, 100, 100), (100, 100, 100, 100, 100)]}\n",
    "clf = GridSearchCV(MLPClassifier(max_iter=1000), parameters, cv=10)\n",
    "clf.fit(X_train, y_train)\n",
    "\n",
    "clf.best_params_"
   ]
  },
  {
   "cell_type": "code",
   "execution_count": 200,
   "metadata": {},
   "outputs": [
    {
     "data": {
      "text/plain": [
       "array(['human', 'human', 'ai', 'human', 'ai', 'ai', 'ai', 'ai', 'ai',\n",
       "       'ai', 'ai', 'ai', 'human', 'ai', 'ai', 'ai', 'human', 'human',\n",
       "       'ai', 'ai', 'ai', 'human', 'ai', 'human', 'human', 'human', 'ai',\n",
       "       'human', 'human', 'ai', 'human', 'human', 'ai', 'ai', 'ai', 'ai',\n",
       "       'human', 'ai', 'human', 'ai'], dtype='<U5')"
      ]
     },
     "execution_count": 200,
     "metadata": {},
     "output_type": "execute_result"
    }
   ],
   "source": [
    "# predict labels for test set\n",
    "y_pred = clf.predict(X_test)\n",
    "\n",
    "y_pred"
   ]
  },
  {
   "cell_type": "code",
   "execution_count": 201,
   "metadata": {},
   "outputs": [
    {
     "data": {
      "text/plain": [
       "0.7"
      ]
     },
     "execution_count": 201,
     "metadata": {},
     "output_type": "execute_result"
    }
   ],
   "source": [
    "# calculate accuracy\n",
    "from sklearn.metrics import accuracy_score\n",
    "\n",
    "tt_score = accuracy_score(y_test, y_pred)\n",
    "tt_score"
   ]
  },
  {
   "cell_type": "code",
   "execution_count": 204,
   "metadata": {},
   "outputs": [
    {
     "data": {
      "text/plain": [
       "0.825"
      ]
     },
     "execution_count": 204,
     "metadata": {},
     "output_type": "execute_result"
    }
   ],
   "source": [
    "import numpy as np\n",
    "\n",
    "np.mean(cv_scores)"
   ]
  },
  {
   "cell_type": "code",
   "execution_count": 55,
   "metadata": {},
   "outputs": [
    {
     "data": {
      "text/plain": [
       "(200, 2)"
      ]
     },
     "execution_count": 55,
     "metadata": {},
     "output_type": "execute_result"
    }
   ],
   "source": [
    "# create datasets with 2, 3, 4 till 13 features from X using PCA\n",
    "\n",
    "from sklearn.decomposition import PCA\n",
    "\n",
    "X_pca_with_features = [0 ,0]\n",
    "for i in range(2, 14):\n",
    "    pca = PCA(n_components=i)\n",
    "    X_pca_with_features.append(pca.fit_transform(X))\n",
    "\n",
    "X_pca_with_features[2].shape"
   ]
  },
  {
   "cell_type": "markdown",
   "metadata": {},
   "source": [
    "## Testing with PCA for all features from 2-13\n",
    "---\n",
    "\n",
    "Store accuracy for each transformation, intialise `n_features` to 2"
   ]
  },
  {
   "cell_type": "code",
   "execution_count": 57,
   "metadata": {},
   "outputs": [],
   "source": [
    "# train neural network with 10-fold cross validation\n",
    "\n",
    "accuracies = {\n",
    "    'cross_val_score': {},\n",
    "    'train_test_split': {}\n",
    "}\n",
    "\n",
    "n_features = 2"
   ]
  },
  {
   "cell_type": "markdown",
   "metadata": {},
   "source": [
    "## Training with 2 features:\n",
    "---"
   ]
  },
  {
   "cell_type": "code",
   "execution_count": 59,
   "metadata": {},
   "outputs": [
    {
     "data": {
      "text/plain": [
       "(200, 2)"
      ]
     },
     "execution_count": 59,
     "metadata": {},
     "output_type": "execute_result"
    }
   ],
   "source": [
    "X_pca = X_pca_with_features[n_features]\n",
    "accuracy_key = str(n_features) + '_features'\n",
    "\n",
    "X_pca.shape"
   ]
  },
  {
   "cell_type": "code",
   "execution_count": 60,
   "metadata": {},
   "outputs": [
    {
     "data": {
      "text/plain": [
       "array([[-6.73705032e+00, -4.35090214e+00],\n",
       "       [-1.82385625e+00, -7.30405219e-01],\n",
       "       [-1.13315213e+01,  2.43353787e+00],\n",
       "       [-5.87992050e+00, -4.49382270e-01],\n",
       "       [ 2.64103161e+01, -7.63638678e+00],\n",
       "       [ 1.20826588e+01,  1.58311552e+00],\n",
       "       [-1.29669528e+00,  1.54379191e+00],\n",
       "       [ 4.32684610e+00,  2.82132306e+00],\n",
       "       [-1.54624711e+01,  6.08974140e+00],\n",
       "       [-1.38818247e+01,  1.02652579e+00],\n",
       "       [-3.42709871e+01,  4.79100329e+00],\n",
       "       [ 9.11655327e+00, -1.47735046e+00],\n",
       "       [-3.65686834e+01, -8.30273358e-01],\n",
       "       [-1.22122795e+01,  2.25651476e+00],\n",
       "       [ 1.61884025e+01, -3.26967215e+00],\n",
       "       [ 4.37745819e+00,  2.34582831e+00],\n",
       "       [ 1.53570330e+01,  6.31800072e+00],\n",
       "       [-9.90800428e+00,  4.72006127e+00],\n",
       "       [-7.38530731e+00, -2.65789081e+00],\n",
       "       [-3.09335734e+00, -3.31182706e+00],\n",
       "       [-6.39667552e-01,  1.45228155e+01],\n",
       "       [-3.69732022e+00,  1.67860049e+00],\n",
       "       [-2.18575354e+01, -7.04659962e+00],\n",
       "       [-2.18222833e+01, -8.77641880e-02],\n",
       "       [-1.81649123e+01, -2.69806799e+00],\n",
       "       [-2.32559379e+01, -2.53865932e-01],\n",
       "       [-6.34163544e+00, -1.93055057e+00],\n",
       "       [-1.84072967e+01, -2.95606326e+00],\n",
       "       [ 7.11355254e-01, -1.82892118e+00],\n",
       "       [ 3.98256715e+00,  2.99843938e+00],\n",
       "       [ 9.70973774e+00, -2.70795403e+00],\n",
       "       [ 1.85872490e+01,  8.26370285e+00],\n",
       "       [ 8.21316348e+00,  1.96952675e+00],\n",
       "       [-2.36685023e+01, -5.59195594e+00],\n",
       "       [-2.07828595e+00,  3.37959755e+00],\n",
       "       [ 1.70734366e+01,  1.94511759e+01],\n",
       "       [ 1.30623952e+01,  5.00635194e+00],\n",
       "       [-6.57660946e+00,  8.89600289e+00],\n",
       "       [ 1.42806500e+01,  5.49903844e+00],\n",
       "       [-2.25888647e+01, -2.20273048e+00],\n",
       "       [-1.23917639e+01, -2.84890753e+00],\n",
       "       [-2.86052890e+00,  1.46435911e+01],\n",
       "       [ 2.35471209e+00,  1.78380207e+00],\n",
       "       [ 5.89626397e+00,  3.87463764e+00],\n",
       "       [-2.11601055e+01, -6.55643504e+00],\n",
       "       [-8.94184041e+00,  1.95729728e+00],\n",
       "       [ 2.09371153e+00, -7.79161246e-01],\n",
       "       [ 4.95712554e+00, -6.09204487e+00],\n",
       "       [-1.90681584e+01,  1.37343266e-01],\n",
       "       [ 4.36204908e+00,  7.52912575e+00],\n",
       "       [-5.54086030e+00, -1.46216148e+00],\n",
       "       [ 1.70431921e+00,  8.18494423e+00],\n",
       "       [-1.16295640e+01,  2.63330042e+00],\n",
       "       [-2.08187545e+01,  1.55287176e+00],\n",
       "       [ 9.38903801e+00,  3.67807100e+00],\n",
       "       [ 7.91871314e+00, -5.82978749e-01],\n",
       "       [-5.48781384e+00,  3.19101449e+00],\n",
       "       [-3.41233174e+01, -5.75833118e+00],\n",
       "       [ 2.71282175e+01,  6.22499395e+00],\n",
       "       [ 4.63146641e+00,  7.95125324e-01],\n",
       "       [-3.42941616e+01, -5.10305161e+00],\n",
       "       [-2.12729678e+01, -3.43616074e+00],\n",
       "       [ 1.56305617e+01,  7.17597638e+00],\n",
       "       [-7.35589192e+00, -1.65647892e-02],\n",
       "       [-9.79360065e+00,  1.24595213e+00],\n",
       "       [-1.14053009e+01,  8.96848956e-01],\n",
       "       [ 1.14309050e+00,  4.99659769e+00],\n",
       "       [-1.36015100e+01,  2.51903259e+00],\n",
       "       [-4.32482836e+00,  4.59891315e-01],\n",
       "       [ 8.33081850e-01,  7.72550366e+00],\n",
       "       [-1.27217800e+01,  3.71797597e+00],\n",
       "       [ 3.31018960e+00,  4.11334851e+00],\n",
       "       [-2.73388191e+01, -2.29936131e+00],\n",
       "       [ 9.09111193e-01, -5.68667983e+00],\n",
       "       [-1.01748105e+01,  1.95317480e-01],\n",
       "       [-2.59696099e+01, -1.80140243e+00],\n",
       "       [ 6.89319906e+00,  1.29984832e+00],\n",
       "       [ 3.56431295e+00, -1.43394458e+00],\n",
       "       [ 1.75716701e+01,  7.41038058e+00],\n",
       "       [ 1.50986017e+00,  8.77490740e+00],\n",
       "       [-1.05965385e+01, -1.68621534e+00],\n",
       "       [-1.01029693e+01,  2.95304727e+00],\n",
       "       [-5.52908353e+00, -2.65861978e+00],\n",
       "       [ 1.69373598e+01, -6.89169531e-01],\n",
       "       [ 1.20293766e+01,  6.66051394e+00],\n",
       "       [ 1.37782070e+01, -7.35896179e+00],\n",
       "       [-9.45130715e+00, -6.74622861e-01],\n",
       "       [ 2.99529134e+00,  2.63024758e+00],\n",
       "       [-1.91215538e+01, -2.98047735e+00],\n",
       "       [-1.76453077e+01, -1.36774521e+00],\n",
       "       [-1.27798752e+01,  4.06812595e+00],\n",
       "       [-1.47630679e+01,  3.71593151e+00],\n",
       "       [-1.86872262e+01,  5.96773770e-02],\n",
       "       [ 6.21124583e+00, -1.72512230e-01],\n",
       "       [ 1.36707421e+01,  4.84035876e+00],\n",
       "       [ 5.11671688e-02,  2.29091195e+00],\n",
       "       [-9.64709156e+00, -4.28883960e+00],\n",
       "       [-4.04003385e+00, -4.94157324e-01],\n",
       "       [-1.25080622e+01,  3.57618705e-03],\n",
       "       [ 1.17625223e+01,  7.15391350e+00],\n",
       "       [ 8.58839990e+00,  3.31358429e+00],\n",
       "       [ 2.38003153e+01,  1.24116947e+00],\n",
       "       [-8.52207206e+00, -4.05201723e+00],\n",
       "       [-2.59161155e+01,  4.59396508e+00],\n",
       "       [ 2.57362105e+01,  9.40407995e+00],\n",
       "       [-3.89199361e+01, -2.91032484e+00],\n",
       "       [-2.30510771e+01, -2.14690200e+00],\n",
       "       [-9.22710026e+00, -3.66470076e-01],\n",
       "       [ 8.08247297e+00, -6.99230594e+00],\n",
       "       [ 8.15919646e+00,  8.03020402e-02],\n",
       "       [-4.22834887e+00, -9.10635628e+00],\n",
       "       [-1.51105794e+00, -5.39874848e+00],\n",
       "       [-1.08943363e+01, -7.42124238e+00],\n",
       "       [-1.64539810e+01,  9.97583946e-01],\n",
       "       [-9.94001596e+00,  1.24262544e-01],\n",
       "       [-2.79357129e+01, -1.69255699e+00],\n",
       "       [-9.32976966e+00, -2.36645373e-01],\n",
       "       [ 7.61945985e+00, -5.19596007e+00],\n",
       "       [ 1.89711029e-01,  2.13818543e-01],\n",
       "       [ 3.00815377e+01,  2.28913860e+00],\n",
       "       [ 2.62163001e+01, -1.92242895e+00],\n",
       "       [-2.38399101e+01,  8.48302140e+00],\n",
       "       [-9.99420224e+00,  4.48240712e+00],\n",
       "       [-4.10461583e+00, -9.58453922e+00],\n",
       "       [ 4.83633259e+01, -1.29256357e+01],\n",
       "       [ 1.59092378e+01, -3.73192978e+00],\n",
       "       [-9.33750904e+00,  1.42857464e+01],\n",
       "       [ 5.65101305e-01, -3.71699004e+00],\n",
       "       [ 2.36429886e+01,  1.95514281e+01],\n",
       "       [-1.19749048e+01, -6.35915655e+00],\n",
       "       [-1.86970463e+00, -9.05273256e+00],\n",
       "       [ 2.89163353e+01,  3.47615070e+00],\n",
       "       [-9.83966453e-01,  1.67494207e+01],\n",
       "       [ 9.29893971e+00, -8.75646211e+00],\n",
       "       [ 8.77225289e+00,  9.53358292e-01],\n",
       "       [-4.74059289e+00, -1.03147110e+01],\n",
       "       [-2.39728731e+01, -8.47845961e+00],\n",
       "       [-6.29604527e+00, -3.03274274e+00],\n",
       "       [-7.59164052e+00,  8.86076503e+00],\n",
       "       [ 1.85578992e+01, -8.91959088e+00],\n",
       "       [ 1.59512845e+00,  6.55070616e+00],\n",
       "       [ 1.46052592e+01, -4.15602632e+00],\n",
       "       [ 2.57225321e+01,  1.52900890e+00],\n",
       "       [-1.64998863e+01, -2.19867891e+00],\n",
       "       [ 2.22585453e+01, -7.10812424e+00],\n",
       "       [ 9.15430012e+00, -4.65297075e+00],\n",
       "       [-2.70768958e+01,  3.85448874e+00],\n",
       "       [-2.38153744e+01, -3.94925797e+00],\n",
       "       [ 1.90716293e+00,  3.77981109e-02],\n",
       "       [ 3.40135092e+01,  3.19998944e+00],\n",
       "       [ 2.57695883e+01,  3.19115964e+00],\n",
       "       [ 8.32332809e+00,  6.36961790e-01],\n",
       "       [ 1.99589823e+01, -2.18506600e+00],\n",
       "       [-1.07034749e+01,  1.52287572e+01],\n",
       "       [-2.54334548e+01,  5.31962736e+00],\n",
       "       [-4.38617644e+01, -7.01852981e+00],\n",
       "       [-2.69942261e+00, -8.47430334e+00],\n",
       "       [-3.53588889e+01, -5.17313982e+00],\n",
       "       [ 1.54451601e+01, -1.28985225e+01],\n",
       "       [ 3.77399674e+01, -1.09957450e+01],\n",
       "       [ 3.34819017e+00, -4.92568584e-01],\n",
       "       [-3.18253841e+00,  3.20114034e+00],\n",
       "       [ 4.94556684e+01, -3.83367863e-01],\n",
       "       [-3.29052406e+01,  3.75001030e+00],\n",
       "       [ 3.95160624e+00, -1.04038859e+01],\n",
       "       [ 1.14098079e+01,  7.61601189e+00],\n",
       "       [-1.21952529e+01, -4.04909547e+00],\n",
       "       [-6.02001778e-01, -3.96622919e+00],\n",
       "       [-8.69134271e+00,  4.08247941e+00],\n",
       "       [ 1.80278005e+01, -7.72083299e+00],\n",
       "       [-2.28707194e+01,  8.49165243e+00],\n",
       "       [ 2.94614501e+01, -1.09961217e+01],\n",
       "       [ 3.80585686e+01, -8.99812906e-01],\n",
       "       [ 1.58138634e+01, -7.19684603e-01],\n",
       "       [ 3.02386358e+01, -5.16641159e+00],\n",
       "       [ 9.20350801e+00, -2.31305907e+00],\n",
       "       [ 5.40357806e+01,  6.51664116e+00],\n",
       "       [ 2.19268632e+01, -7.10274361e+00],\n",
       "       [ 3.46710210e+01, -1.09631512e+01],\n",
       "       [-2.90415272e+00, -5.96695513e+00],\n",
       "       [ 2.02053980e+01, -1.81476026e+00],\n",
       "       [ 1.69768981e+01,  9.45484233e+00],\n",
       "       [ 1.72785280e+01,  7.72812834e+00],\n",
       "       [ 1.30779527e+01, -1.06228001e+01],\n",
       "       [ 2.17959587e+01, -1.01280632e+01],\n",
       "       [-1.32690802e+00, -8.06518862e+00],\n",
       "       [-8.86131335e+00, -3.65770062e+00],\n",
       "       [ 4.39892771e+00, -1.00899797e+01],\n",
       "       [-1.99896675e+01,  1.89647302e+00],\n",
       "       [ 2.08181726e+01, -7.40395783e-01],\n",
       "       [-9.62225897e+00,  7.09832533e+00],\n",
       "       [ 2.98996775e+01,  6.08865992e+00],\n",
       "       [ 3.16813418e+01,  7.72269237e+00],\n",
       "       [ 4.51418285e+01, -1.06490639e+01],\n",
       "       [-3.36872550e+01, -8.34483906e+00],\n",
       "       [-3.82427990e+01, -6.88000334e+00],\n",
       "       [ 9.65111776e+00, -1.59135396e-01],\n",
       "       [ 2.44656654e+01, -6.34616216e+00],\n",
       "       [-1.41370621e+01,  1.34360226e+01],\n",
       "       [ 2.26982704e+01, -6.40612259e+00]])"
      ]
     },
     "execution_count": 60,
     "metadata": {},
     "output_type": "execute_result"
    }
   ],
   "source": [
    "X_pca"
   ]
  },
  {
   "cell_type": "code",
   "execution_count": 61,
   "metadata": {},
   "outputs": [
    {
     "data": {
      "text/plain": [
       "array([0.5 , 0.4 , 0.75, 0.55, 0.55, 0.6 , 0.65, 0.75, 0.7 , 0.55])"
      ]
     },
     "execution_count": 61,
     "metadata": {},
     "output_type": "execute_result"
    }
   ],
   "source": [
    "clf = MLPClassifier(hidden_layer_sizes=(100, 100, 100), max_iter=1000)\n",
    "cv_scores = cross_val_score(clf, X_pca, y, cv=10)\n",
    "\n",
    "cv_scores"
   ]
  },
  {
   "cell_type": "code",
   "execution_count": 62,
   "metadata": {},
   "outputs": [
    {
     "data": {
      "text/plain": [
       "((160, 2), (40, 2), (160,), (40,))"
      ]
     },
     "execution_count": 62,
     "metadata": {},
     "output_type": "execute_result"
    }
   ],
   "source": [
    "# split X_pca into training and test sets\n",
    "\n",
    "X_train, X_test, y_train, y_test = train_test_split(X_pca, y, test_size=0.2)\n",
    "\n",
    "X_train.shape, X_test.shape, y_train.shape, y_test.shape"
   ]
  },
  {
   "cell_type": "code",
   "execution_count": 63,
   "metadata": {},
   "outputs": [
    {
     "data": {
      "text/plain": [
       "{'hidden_layer_sizes': (100, 100, 100)}"
      ]
     },
     "execution_count": 63,
     "metadata": {},
     "output_type": "execute_result"
    }
   ],
   "source": [
    "# pick best model for classification\n",
    "\n",
    "parameters = {'hidden_layer_sizes': [(100, 100, 100), (100, 100, 100, 100), (100, 100, 100, 100, 100)]}\n",
    "clf = GridSearchCV(MLPClassifier(max_iter=1000), parameters, cv=10)\n",
    "clf.fit(X_train, y_train)\n",
    "\n",
    "clf.best_params_"
   ]
  },
  {
   "cell_type": "code",
   "execution_count": 64,
   "metadata": {},
   "outputs": [
    {
     "data": {
      "text/plain": [
       "array(['ai', 'human', 'human', 'ai', 'ai', 'human', 'human', 'human',\n",
       "       'ai', 'human', 'human', 'ai', 'ai', 'ai', 'human', 'human', 'ai',\n",
       "       'ai', 'human', 'ai', 'human', 'human', 'human', 'ai', 'human',\n",
       "       'ai', 'ai', 'ai', 'ai', 'human', 'ai', 'human', 'ai', 'human',\n",
       "       'human', 'human', 'human', 'ai', 'ai', 'ai'], dtype='<U5')"
      ]
     },
     "execution_count": 64,
     "metadata": {},
     "output_type": "execute_result"
    }
   ],
   "source": [
    "# predict labels for test set\n",
    "y_pred = clf.predict(X_test)\n",
    "\n",
    "y_pred"
   ]
  },
  {
   "cell_type": "code",
   "execution_count": 65,
   "metadata": {},
   "outputs": [
    {
     "data": {
      "text/plain": [
       "0.65"
      ]
     },
     "execution_count": 65,
     "metadata": {},
     "output_type": "execute_result"
    }
   ],
   "source": [
    "# calculate accuracy\n",
    "\n",
    "tt_score = accuracy_score(y_test, y_pred)\n",
    "tt_score"
   ]
  },
  {
   "cell_type": "code",
   "execution_count": 66,
   "metadata": {},
   "outputs": [],
   "source": [
    "# add cross validation and train test split accuracies to accuracies dictionary\n",
    "\n",
    "accuracies['cross_val_score'][accuracy_key] = cv_scores\n",
    "accuracies['train_test_split'][accuracy_key] = tt_score\n",
    "n_features += 1"
   ]
  },
  {
   "cell_type": "markdown",
   "metadata": {},
   "source": [
    "## Training with 3 features:\n",
    "---"
   ]
  },
  {
   "cell_type": "code",
   "execution_count": 67,
   "metadata": {},
   "outputs": [
    {
     "data": {
      "text/plain": [
       "(200, 3)"
      ]
     },
     "execution_count": 67,
     "metadata": {},
     "output_type": "execute_result"
    }
   ],
   "source": [
    "X_pca = X_pca_with_features[n_features]\n",
    "accuracy_key = str(n_features) + '_features'\n",
    "\n",
    "X_pca.shape"
   ]
  },
  {
   "cell_type": "code",
   "execution_count": 68,
   "metadata": {},
   "outputs": [
    {
     "data": {
      "text/plain": [
       "array([[-6.73705032e+00, -4.35090214e+00, -2.14744296e+00],\n",
       "       [-1.82385625e+00, -7.30405219e-01, -8.30845234e-01],\n",
       "       [-1.13315213e+01,  2.43353787e+00,  1.85745442e-01],\n",
       "       [-5.87992050e+00, -4.49382270e-01, -1.23301818e+00],\n",
       "       [ 2.64103161e+01, -7.63638678e+00,  4.06230736e+00],\n",
       "       [ 1.20826588e+01,  1.58311552e+00, -4.88348701e+00],\n",
       "       [-1.29669528e+00,  1.54379191e+00, -2.15023605e-01],\n",
       "       [ 4.32684610e+00,  2.82132306e+00, -5.29296398e+00],\n",
       "       [-1.54624711e+01,  6.08974140e+00, -4.49102890e+00],\n",
       "       [-1.38818247e+01,  1.02652579e+00,  1.85562484e+00],\n",
       "       [-3.42709871e+01,  4.79100329e+00,  6.48986104e+00],\n",
       "       [ 9.11655327e+00, -1.47735046e+00, -1.71157572e+00],\n",
       "       [-3.65686834e+01, -8.30273358e-01,  3.82636034e+00],\n",
       "       [-1.22122795e+01,  2.25651476e+00,  1.61575353e+00],\n",
       "       [ 1.61884025e+01, -3.26967215e+00,  3.94223408e-01],\n",
       "       [ 4.37745819e+00,  2.34582831e+00, -4.23491119e+00],\n",
       "       [ 1.53570330e+01,  6.31800072e+00, -4.78095117e+00],\n",
       "       [-9.90800428e+00,  4.72006127e+00, -6.86487667e+00],\n",
       "       [-7.38530731e+00, -2.65789081e+00, -9.43777504e-01],\n",
       "       [-3.09335734e+00, -3.31182706e+00,  7.39409424e-01],\n",
       "       [-6.39667552e-01,  1.45228155e+01,  6.12114063e-01],\n",
       "       [-3.69732022e+00,  1.67860049e+00, -2.47719901e+00],\n",
       "       [-2.18575354e+01, -7.04659962e+00,  3.89964749e+00],\n",
       "       [-2.18222833e+01, -8.77641880e-02,  2.71847900e+00],\n",
       "       [-1.81649123e+01, -2.69806799e+00, -5.53553582e+00],\n",
       "       [-2.32559379e+01, -2.53865932e-01,  1.09080776e+00],\n",
       "       [-6.34163544e+00, -1.93055057e+00, -2.25690758e+00],\n",
       "       [-1.84072967e+01, -2.95606326e+00,  1.85165848e+00],\n",
       "       [ 7.11355254e-01, -1.82892118e+00, -3.38576636e+00],\n",
       "       [ 3.98256715e+00,  2.99843938e+00, -6.68167777e-02],\n",
       "       [ 9.70973774e+00, -2.70795403e+00, -4.00032787e+00],\n",
       "       [ 1.85872490e+01,  8.26370285e+00, -4.13164564e+00],\n",
       "       [ 8.21316348e+00,  1.96952675e+00, -5.04977496e+00],\n",
       "       [-2.36685023e+01, -5.59195594e+00, -4.57288824e+00],\n",
       "       [-2.07828595e+00,  3.37959755e+00, -7.66371473e+00],\n",
       "       [ 1.70734366e+01,  1.94511759e+01, -3.69482297e-01],\n",
       "       [ 1.30623952e+01,  5.00635194e+00, -4.92131358e+00],\n",
       "       [-6.57660946e+00,  8.89600289e+00,  3.05465108e+00],\n",
       "       [ 1.42806500e+01,  5.49903844e+00, -3.66366123e+00],\n",
       "       [-2.25888647e+01, -2.20273048e+00, -1.64982663e+00],\n",
       "       [-1.23917639e+01, -2.84890753e+00,  4.91428710e-01],\n",
       "       [-2.86052890e+00,  1.46435911e+01, -6.54593853e-01],\n",
       "       [ 2.35471209e+00,  1.78380207e+00, -2.82904314e+00],\n",
       "       [ 5.89626397e+00,  3.87463764e+00, -2.86828455e+00],\n",
       "       [-2.11601055e+01, -6.55643504e+00, -9.60920444e-01],\n",
       "       [-8.94184041e+00,  1.95729728e+00, -3.13530903e+00],\n",
       "       [ 2.09371153e+00, -7.79161246e-01, -1.99113111e+00],\n",
       "       [ 4.95712554e+00, -6.09204487e+00, -2.80300106e+00],\n",
       "       [-1.90681584e+01,  1.37343266e-01, -1.69306197e-01],\n",
       "       [ 4.36204908e+00,  7.52912575e+00,  2.93481996e+00],\n",
       "       [-5.54086030e+00, -1.46216148e+00, -4.10549919e+00],\n",
       "       [ 1.70431921e+00,  8.18494423e+00, -2.33204383e+00],\n",
       "       [-1.16295640e+01,  2.63330042e+00, -1.45273110e+00],\n",
       "       [-2.08187545e+01,  1.55287176e+00,  1.23577077e+00],\n",
       "       [ 9.38903801e+00,  3.67807100e+00, -6.37986758e+00],\n",
       "       [ 7.91871314e+00, -5.82978749e-01, -5.20804148e+00],\n",
       "       [-5.48781384e+00,  3.19101449e+00, -2.90363742e+00],\n",
       "       [-3.41233174e+01, -5.75833118e+00, -3.30948413e+00],\n",
       "       [ 2.71282175e+01,  6.22499395e+00, -8.14365278e+00],\n",
       "       [ 4.63146641e+00,  7.95125324e-01, -1.29804714e+00],\n",
       "       [-3.42941616e+01, -5.10305161e+00,  2.88842458e+00],\n",
       "       [-2.12729678e+01, -3.43616074e+00,  3.69958132e+00],\n",
       "       [ 1.56305617e+01,  7.17597638e+00, -4.02755065e+00],\n",
       "       [-7.35589192e+00, -1.65647892e-02, -4.68007371e+00],\n",
       "       [-9.79360065e+00,  1.24595213e+00, -7.62019205e-01],\n",
       "       [-1.14053009e+01,  8.96848956e-01,  2.10105458e+00],\n",
       "       [ 1.14309050e+00,  4.99659769e+00, -7.64129639e-01],\n",
       "       [-1.36015100e+01,  2.51903259e+00, -2.17539487e+00],\n",
       "       [-4.32482836e+00,  4.59891315e-01, -6.01388973e+00],\n",
       "       [ 8.33081850e-01,  7.72550366e+00, -6.36595974e+00],\n",
       "       [-1.27217800e+01,  3.71797597e+00,  4.37982137e+00],\n",
       "       [ 3.31018960e+00,  4.11334851e+00, -6.95181884e+00],\n",
       "       [-2.73388191e+01, -2.29936131e+00,  2.01705275e+00],\n",
       "       [ 9.09111193e-01, -5.68667983e+00, -3.96225518e+00],\n",
       "       [-1.01748105e+01,  1.95317480e-01, -2.93651666e+00],\n",
       "       [-2.59696099e+01, -1.80140243e+00,  7.34744151e+00],\n",
       "       [ 6.89319906e+00,  1.29984832e+00,  2.30820460e-01],\n",
       "       [ 3.56431295e+00, -1.43394458e+00, -4.89760803e+00],\n",
       "       [ 1.75716701e+01,  7.41038058e+00, -5.09204342e+00],\n",
       "       [ 1.50986017e+00,  8.77490740e+00, -4.17994397e+00],\n",
       "       [-1.05965385e+01, -1.68621534e+00, -3.75928778e+00],\n",
       "       [-1.01029693e+01,  2.95304727e+00,  1.48985886e+00],\n",
       "       [-5.52908353e+00, -2.65861978e+00, -2.49835904e+00],\n",
       "       [ 1.69373598e+01, -6.89169531e-01,  6.40017913e-01],\n",
       "       [ 1.20293766e+01,  6.66051394e+00, -5.84975612e+00],\n",
       "       [ 1.37782070e+01, -7.35896179e+00, -5.23520577e+00],\n",
       "       [-9.45130715e+00, -6.74622861e-01,  3.44985366e+00],\n",
       "       [ 2.99529134e+00,  2.63024758e+00, -4.69531386e-02],\n",
       "       [-1.91215538e+01, -2.98047735e+00, -5.33257980e+00],\n",
       "       [-1.76453077e+01, -1.36774521e+00, -1.76909054e+00],\n",
       "       [-1.27798752e+01,  4.06812595e+00, -3.84992887e+00],\n",
       "       [-1.47630679e+01,  3.71593151e+00, -3.02727167e+00],\n",
       "       [-1.86872262e+01,  5.96773770e-02, -5.18608838e+00],\n",
       "       [ 6.21124583e+00, -1.72512230e-01, -2.81249909e+00],\n",
       "       [ 1.36707421e+01,  4.84035876e+00, -7.06810031e+00],\n",
       "       [ 5.11671688e-02,  2.29091195e+00,  2.59338135e+00],\n",
       "       [-9.64709156e+00, -4.28883960e+00, -1.73444545e+00],\n",
       "       [-4.04003385e+00, -4.94157324e-01, -2.87193204e+00],\n",
       "       [-1.25080622e+01,  3.57618705e-03, -4.84933540e+00],\n",
       "       [ 1.17625223e+01,  7.15391350e+00, -9.92898083e-01],\n",
       "       [ 8.58839990e+00,  3.31358429e+00, -5.32307176e+00],\n",
       "       [ 2.38003153e+01,  1.24116947e+00,  4.05251640e+00],\n",
       "       [-8.52207206e+00, -4.05201723e+00, -1.00262158e+00],\n",
       "       [-2.59161155e+01,  4.59396508e+00,  7.03598952e+00],\n",
       "       [ 2.57362105e+01,  9.40407995e+00,  5.12750675e+00],\n",
       "       [-3.89199361e+01, -2.91032484e+00,  9.57936814e-02],\n",
       "       [-2.30510771e+01, -2.14690200e+00,  5.34240745e+00],\n",
       "       [-9.22710026e+00, -3.66470076e-01, -7.99539695e-01],\n",
       "       [ 8.08247297e+00, -6.99230594e+00,  5.03126377e+00],\n",
       "       [ 8.15919646e+00,  8.03020402e-02, -3.84153594e+00],\n",
       "       [-4.22834887e+00, -9.10635628e+00, -1.02110757e+00],\n",
       "       [-1.51105794e+00, -5.39874848e+00, -1.83296753e-02],\n",
       "       [-1.08943363e+01, -7.42124238e+00,  7.42909145e-01],\n",
       "       [-1.64539810e+01,  9.97583946e-01,  4.13027263e+00],\n",
       "       [-9.94001596e+00,  1.24262544e-01, -2.36745854e-02],\n",
       "       [-2.79357129e+01, -1.69255699e+00,  5.06708120e+00],\n",
       "       [-9.32976966e+00, -2.36645373e-01,  3.33004935e+00],\n",
       "       [ 7.61945985e+00, -5.19596007e+00,  6.46602750e+00],\n",
       "       [ 1.89711029e-01,  2.13818543e-01, -1.46081715e+00],\n",
       "       [ 3.00815377e+01,  2.28913860e+00,  2.61023916e+00],\n",
       "       [ 2.62163001e+01, -1.92242895e+00,  1.02750060e+01],\n",
       "       [-2.38399101e+01,  8.48302140e+00, -2.76867893e+00],\n",
       "       [-9.99420224e+00,  4.48240712e+00, -7.35284691e+00],\n",
       "       [-4.10461583e+00, -9.58453922e+00,  2.06663742e+00],\n",
       "       [ 4.83633259e+01, -1.29256357e+01,  1.84540023e+00],\n",
       "       [ 1.59092378e+01, -3.73192978e+00,  4.31377131e+00],\n",
       "       [-9.33750904e+00,  1.42857464e+01, -1.86196856e+00],\n",
       "       [ 5.65101305e-01, -3.71699004e+00, -6.58664231e-01],\n",
       "       [ 2.36429886e+01,  1.95514281e+01,  9.25700017e+00],\n",
       "       [-1.19749048e+01, -6.35915655e+00, -8.92068950e-01],\n",
       "       [-1.86970463e+00, -9.05273256e+00,  2.63235805e+00],\n",
       "       [ 2.89163353e+01,  3.47615070e+00,  1.72602379e+00],\n",
       "       [-9.83966453e-01,  1.67494207e+01,  9.82682242e+00],\n",
       "       [ 9.29893971e+00, -8.75646211e+00, -1.45039965e-01],\n",
       "       [ 8.77225289e+00,  9.53358292e-01, -2.01871432e+00],\n",
       "       [-4.74059289e+00, -1.03147110e+01, -1.48459242e+00],\n",
       "       [-2.39728731e+01, -8.47845961e+00, -2.36986970e+00],\n",
       "       [-6.29604527e+00, -3.03274274e+00, -4.55308793e-01],\n",
       "       [-7.59164052e+00,  8.86076503e+00, -4.16875624e+00],\n",
       "       [ 1.85578992e+01, -8.91959088e+00,  7.02848469e-01],\n",
       "       [ 1.59512845e+00,  6.55070616e+00,  7.31222075e+00],\n",
       "       [ 1.46052592e+01, -4.15602632e+00, -3.71915306e+00],\n",
       "       [ 2.57225321e+01,  1.52900890e+00,  2.09172849e+00],\n",
       "       [-1.64998863e+01, -2.19867891e+00,  7.73915994e+00],\n",
       "       [ 2.22585453e+01, -7.10812424e+00,  3.14473370e+00],\n",
       "       [ 9.15430012e+00, -4.65297075e+00,  3.97307678e+00],\n",
       "       [-2.70768958e+01,  3.85448874e+00,  1.23661987e+00],\n",
       "       [-2.38153744e+01, -3.94925797e+00,  2.63855224e+00],\n",
       "       [ 1.90716293e+00,  3.77981109e-02,  2.52032357e+00],\n",
       "       [ 3.40135092e+01,  3.19998944e+00,  2.38378788e+00],\n",
       "       [ 2.57695883e+01,  3.19115964e+00, -5.48679887e+00],\n",
       "       [ 8.32332809e+00,  6.36961790e-01,  4.21702089e+00],\n",
       "       [ 1.99589823e+01, -2.18506600e+00,  2.36958635e+00],\n",
       "       [-1.07034749e+01,  1.52287572e+01,  1.63986249e+00],\n",
       "       [-2.54334548e+01,  5.31962736e+00,  2.48407435e+00],\n",
       "       [-4.38617644e+01, -7.01852981e+00,  1.83360079e+00],\n",
       "       [-2.69942261e+00, -8.47430334e+00,  3.58317702e+00],\n",
       "       [-3.53588889e+01, -5.17313982e+00,  2.50242938e+00],\n",
       "       [ 1.54451601e+01, -1.28985225e+01, -8.65083881e-01],\n",
       "       [ 3.77399674e+01, -1.09957450e+01,  2.11093889e+00],\n",
       "       [ 3.34819017e+00, -4.92568584e-01,  5.76959738e+00],\n",
       "       [-3.18253841e+00,  3.20114034e+00,  7.57640641e+00],\n",
       "       [ 4.94556684e+01, -3.83367863e-01,  5.85024297e+00],\n",
       "       [-3.29052406e+01,  3.75001030e+00,  7.67685943e+00],\n",
       "       [ 3.95160624e+00, -1.04038859e+01,  3.35476202e+00],\n",
       "       [ 1.14098079e+01,  7.61601189e+00,  9.69833670e+00],\n",
       "       [-1.21952529e+01, -4.04909547e+00,  3.12041951e+00],\n",
       "       [-6.02001778e-01, -3.96622919e+00, -1.03546532e+01],\n",
       "       [-8.69134271e+00,  4.08247941e+00, -4.86892339e+00],\n",
       "       [ 1.80278005e+01, -7.72083299e+00, -2.96304348e+00],\n",
       "       [-2.28707194e+01,  8.49165243e+00,  7.43971045e+00],\n",
       "       [ 2.94614501e+01, -1.09961217e+01,  1.15839568e+00],\n",
       "       [ 3.80585686e+01, -8.99812906e-01,  2.57259636e-01],\n",
       "       [ 1.58138634e+01, -7.19684603e-01,  2.35019894e+00],\n",
       "       [ 3.02386358e+01, -5.16641159e+00,  9.40009856e-01],\n",
       "       [ 9.20350801e+00, -2.31305907e+00, -8.77134310e-01],\n",
       "       [ 5.40357806e+01,  6.51664116e+00,  6.67327651e-01],\n",
       "       [ 2.19268632e+01, -7.10274361e+00,  2.11816755e+00],\n",
       "       [ 3.46710210e+01, -1.09631512e+01,  2.45120366e+00],\n",
       "       [-2.90415272e+00, -5.96695513e+00, -9.37052524e+00],\n",
       "       [ 2.02053980e+01, -1.81476026e+00, -1.74101233e+00],\n",
       "       [ 1.69768981e+01,  9.45484233e+00,  2.72438883e+00],\n",
       "       [ 1.72785280e+01,  7.72812834e+00,  8.34251210e+00],\n",
       "       [ 1.30779527e+01, -1.06228001e+01,  1.05054823e+00],\n",
       "       [ 2.17959587e+01, -1.01280632e+01, -1.85298655e+00],\n",
       "       [-1.32690802e+00, -8.06518862e+00, -2.21820280e+00],\n",
       "       [-8.86131335e+00, -3.65770062e+00,  2.63978537e+00],\n",
       "       [ 4.39892771e+00, -1.00899797e+01, -2.88172301e+00],\n",
       "       [-1.99896675e+01,  1.89647302e+00,  5.02953763e+00],\n",
       "       [ 2.08181726e+01, -7.40395783e-01,  2.50106192e+00],\n",
       "       [-9.62225897e+00,  7.09832533e+00, -1.66758343e+00],\n",
       "       [ 2.98996775e+01,  6.08865992e+00,  4.08515137e+00],\n",
       "       [ 3.16813418e+01,  7.72269237e+00,  1.17467065e+01],\n",
       "       [ 4.51418285e+01, -1.06490639e+01,  4.53673722e+00],\n",
       "       [-3.36872550e+01, -8.34483906e+00,  4.59827876e+00],\n",
       "       [-3.82427990e+01, -6.88000334e+00,  5.39576439e+00],\n",
       "       [ 9.65111776e+00, -1.59135396e-01,  2.52897137e+00],\n",
       "       [ 2.44656654e+01, -6.34616216e+00, -2.72400123e+00],\n",
       "       [-1.41370621e+01,  1.34360226e+01,  2.29599680e+00],\n",
       "       [ 2.26982704e+01, -6.40612259e+00,  5.61119662e+00]])"
      ]
     },
     "execution_count": 68,
     "metadata": {},
     "output_type": "execute_result"
    }
   ],
   "source": [
    "X_pca"
   ]
  },
  {
   "cell_type": "code",
   "execution_count": 69,
   "metadata": {},
   "outputs": [
    {
     "data": {
      "text/plain": [
       "array([0.6 , 0.55, 0.8 , 0.8 , 0.7 , 0.7 , 0.75, 0.75, 0.85, 0.75])"
      ]
     },
     "execution_count": 69,
     "metadata": {},
     "output_type": "execute_result"
    }
   ],
   "source": [
    "clf = MLPClassifier(hidden_layer_sizes=(100, 100, 100), max_iter=1000)\n",
    "cv_scores = cross_val_score(clf, X_pca, y, cv=10)\n",
    "\n",
    "cv_scores"
   ]
  },
  {
   "cell_type": "code",
   "execution_count": 70,
   "metadata": {},
   "outputs": [
    {
     "data": {
      "text/plain": [
       "((160, 3), (40, 3), (160,), (40,))"
      ]
     },
     "execution_count": 70,
     "metadata": {},
     "output_type": "execute_result"
    }
   ],
   "source": [
    "# split X_pca into training and test sets\n",
    "\n",
    "X_train, X_test, y_train, y_test = train_test_split(X_pca, y, test_size=0.2)\n",
    "\n",
    "X_train.shape, X_test.shape, y_train.shape, y_test.shape"
   ]
  },
  {
   "cell_type": "code",
   "execution_count": 71,
   "metadata": {},
   "outputs": [
    {
     "data": {
      "text/plain": [
       "{'hidden_layer_sizes': (100, 100, 100, 100, 100)}"
      ]
     },
     "execution_count": 71,
     "metadata": {},
     "output_type": "execute_result"
    }
   ],
   "source": [
    "# pick best model for classification\n",
    "\n",
    "parameters = {'hidden_layer_sizes': [(100, 100, 100), (100, 100, 100, 100), (100, 100, 100, 100, 100)]}\n",
    "clf = GridSearchCV(MLPClassifier(max_iter=1000), parameters, cv=10)\n",
    "clf.fit(X_train, y_train)\n",
    "\n",
    "clf.best_params_"
   ]
  },
  {
   "cell_type": "code",
   "execution_count": 72,
   "metadata": {},
   "outputs": [
    {
     "data": {
      "text/plain": [
       "array(['human', 'ai', 'human', 'ai', 'ai', 'ai', 'ai', 'ai', 'human',\n",
       "       'human', 'ai', 'human', 'human', 'human', 'human', 'ai', 'human',\n",
       "       'human', 'ai', 'human', 'human', 'ai', 'ai', 'ai', 'ai', 'ai',\n",
       "       'ai', 'human', 'ai', 'ai', 'human', 'human', 'human', 'ai',\n",
       "       'human', 'ai', 'ai', 'human', 'ai', 'human'], dtype='<U5')"
      ]
     },
     "execution_count": 72,
     "metadata": {},
     "output_type": "execute_result"
    }
   ],
   "source": [
    "# predict labels for test set\n",
    "y_pred = clf.predict(X_test)\n",
    "\n",
    "y_pred"
   ]
  },
  {
   "cell_type": "code",
   "execution_count": 73,
   "metadata": {},
   "outputs": [
    {
     "data": {
      "text/plain": [
       "0.9"
      ]
     },
     "execution_count": 73,
     "metadata": {},
     "output_type": "execute_result"
    }
   ],
   "source": [
    "# calculate accuracy\n",
    "\n",
    "tt_score = accuracy_score(y_test, y_pred)\n",
    "tt_score"
   ]
  },
  {
   "cell_type": "code",
   "execution_count": 74,
   "metadata": {},
   "outputs": [],
   "source": [
    "# add cross validation and train test split accuracies to accuracies dictionary\n",
    "\n",
    "accuracies['cross_val_score'][accuracy_key] = cv_scores\n",
    "accuracies['train_test_split'][accuracy_key] = tt_score\n",
    "n_features += 1"
   ]
  },
  {
   "cell_type": "markdown",
   "metadata": {},
   "source": [
    "## Training with 4 features:\n",
    "---"
   ]
  },
  {
   "cell_type": "code",
   "execution_count": 75,
   "metadata": {},
   "outputs": [
    {
     "data": {
      "text/plain": [
       "(200, 4)"
      ]
     },
     "execution_count": 75,
     "metadata": {},
     "output_type": "execute_result"
    }
   ],
   "source": [
    "X_pca = X_pca_with_features[n_features]\n",
    "accuracy_key = str(n_features) + '_features'\n",
    "\n",
    "X_pca.shape"
   ]
  },
  {
   "cell_type": "code",
   "execution_count": 76,
   "metadata": {},
   "outputs": [
    {
     "data": {
      "text/plain": [
       "array([[-6.73705032e+00, -4.35090214e+00, -2.14744296e+00,\n",
       "         1.49937837e+00],\n",
       "       [-1.82385625e+00, -7.30405219e-01, -8.30845234e-01,\n",
       "         8.56686503e-01],\n",
       "       [-1.13315213e+01,  2.43353787e+00,  1.85745442e-01,\n",
       "         1.63276189e+00],\n",
       "       [-5.87992050e+00, -4.49382270e-01, -1.23301818e+00,\n",
       "         1.79789210e+00],\n",
       "       [ 2.64103161e+01, -7.63638678e+00,  4.06230736e+00,\n",
       "         3.30877290e+00],\n",
       "       [ 1.20826588e+01,  1.58311552e+00, -4.88348701e+00,\n",
       "        -6.01005172e+00],\n",
       "       [-1.29669528e+00,  1.54379191e+00, -2.15023605e-01,\n",
       "         1.34231268e+00],\n",
       "       [ 4.32684610e+00,  2.82132306e+00, -5.29296398e+00,\n",
       "        -7.93446562e-01],\n",
       "       [-1.54624711e+01,  6.08974140e+00, -4.49102890e+00,\n",
       "        -1.58895208e-01],\n",
       "       [-1.38818247e+01,  1.02652579e+00,  1.85562484e+00,\n",
       "        -6.76670230e+00],\n",
       "       [-3.42709871e+01,  4.79100329e+00,  6.48986104e+00,\n",
       "        -9.11553453e+00],\n",
       "       [ 9.11655327e+00, -1.47735046e+00, -1.71157572e+00,\n",
       "        -1.00273743e+00],\n",
       "       [-3.65686834e+01, -8.30273358e-01,  3.82636034e+00,\n",
       "        -6.97776199e+00],\n",
       "       [-1.22122795e+01,  2.25651476e+00,  1.61575353e+00,\n",
       "         1.50924682e+00],\n",
       "       [ 1.61884025e+01, -3.26967215e+00,  3.94223408e-01,\n",
       "        -2.02767102e+00],\n",
       "       [ 4.37745819e+00,  2.34582831e+00, -4.23491119e+00,\n",
       "        -7.70796918e-01],\n",
       "       [ 1.53570330e+01,  6.31800072e+00, -4.78095117e+00,\n",
       "         1.41046902e-01],\n",
       "       [-9.90800428e+00,  4.72006127e+00, -6.86487667e+00,\n",
       "        -9.74771024e-01],\n",
       "       [-7.38530731e+00, -2.65789081e+00, -9.43777504e-01,\n",
       "        -1.90535481e-01],\n",
       "       [-3.09335734e+00, -3.31182706e+00,  7.39409424e-01,\n",
       "         1.44547754e+00],\n",
       "       [-6.39667552e-01,  1.45228155e+01,  6.12114063e-01,\n",
       "         5.06554629e+00],\n",
       "       [-3.69732022e+00,  1.67860049e+00, -2.47719901e+00,\n",
       "        -1.32303864e-01],\n",
       "       [-2.18575354e+01, -7.04659962e+00,  3.89964749e+00,\n",
       "         1.40767539e+00],\n",
       "       [-2.18222833e+01, -8.77641880e-02,  2.71847900e+00,\n",
       "         4.82537384e-02],\n",
       "       [-1.81649123e+01, -2.69806799e+00, -5.53553582e+00,\n",
       "         1.44367514e+00],\n",
       "       [-2.32559379e+01, -2.53865932e-01,  1.09080776e+00,\n",
       "        -3.01730716e+00],\n",
       "       [-6.34163544e+00, -1.93055057e+00, -2.25690758e+00,\n",
       "         7.67485677e-01],\n",
       "       [-1.84072967e+01, -2.95606326e+00,  1.85165848e+00,\n",
       "        -8.51575368e-01],\n",
       "       [ 7.11355254e-01, -1.82892118e+00, -3.38576636e+00,\n",
       "         6.50081350e-01],\n",
       "       [ 3.98256715e+00,  2.99843938e+00, -6.68167777e-02,\n",
       "        -1.29673794e+00],\n",
       "       [ 9.70973774e+00, -2.70795403e+00, -4.00032787e+00,\n",
       "         6.83991865e-01],\n",
       "       [ 1.85872490e+01,  8.26370285e+00, -4.13164564e+00,\n",
       "        -5.32031966e+00],\n",
       "       [ 8.21316348e+00,  1.96952675e+00, -5.04977496e+00,\n",
       "        -2.53300691e+00],\n",
       "       [-2.36685023e+01, -5.59195594e+00, -4.57288824e+00,\n",
       "         2.20800767e+00],\n",
       "       [-2.07828595e+00,  3.37959755e+00, -7.66371473e+00,\n",
       "        -1.56452291e+00],\n",
       "       [ 1.70734366e+01,  1.94511759e+01, -3.69482297e-01,\n",
       "        -4.68415813e+00],\n",
       "       [ 1.30623952e+01,  5.00635194e+00, -4.92131358e+00,\n",
       "         5.08723551e-01],\n",
       "       [-6.57660946e+00,  8.89600289e+00,  3.05465108e+00,\n",
       "         3.60320413e+00],\n",
       "       [ 1.42806500e+01,  5.49903844e+00, -3.66366123e+00,\n",
       "        -6.57772253e-01],\n",
       "       [-2.25888647e+01, -2.20273048e+00, -1.64982663e+00,\n",
       "         3.56559052e+00],\n",
       "       [-1.23917639e+01, -2.84890753e+00,  4.91428710e-01,\n",
       "        -6.27240407e-01],\n",
       "       [-2.86052890e+00,  1.46435911e+01, -6.54593853e-01,\n",
       "         4.59091941e+00],\n",
       "       [ 2.35471209e+00,  1.78380207e+00, -2.82904314e+00,\n",
       "        -1.64512927e+00],\n",
       "       [ 5.89626397e+00,  3.87463764e+00, -2.86828455e+00,\n",
       "        -1.70944335e-01],\n",
       "       [-2.11601055e+01, -6.55643504e+00, -9.60920444e-01,\n",
       "         5.27285950e+00],\n",
       "       [-8.94184041e+00,  1.95729728e+00, -3.13530903e+00,\n",
       "        -1.56133803e+00],\n",
       "       [ 2.09371153e+00, -7.79161246e-01, -1.99113111e+00,\n",
       "         3.01814966e-01],\n",
       "       [ 4.95712554e+00, -6.09204487e+00, -2.80300106e+00,\n",
       "        -2.55082171e+00],\n",
       "       [-1.90681584e+01,  1.37343266e-01, -1.69306197e-01,\n",
       "         1.61618403e-01],\n",
       "       [ 4.36204908e+00,  7.52912575e+00,  2.93481996e+00,\n",
       "         2.00653871e+00],\n",
       "       [-5.54086030e+00, -1.46216148e+00, -4.10549919e+00,\n",
       "        -5.75749716e-01],\n",
       "       [ 1.70431921e+00,  8.18494423e+00, -2.33204383e+00,\n",
       "         1.20105848e+00],\n",
       "       [-1.16295640e+01,  2.63330042e+00, -1.45273110e+00,\n",
       "        -6.50876625e-01],\n",
       "       [-2.08187545e+01,  1.55287176e+00,  1.23577077e+00,\n",
       "        -2.46083277e+00],\n",
       "       [ 9.38903801e+00,  3.67807100e+00, -6.37986758e+00,\n",
       "        -2.43832660e+00],\n",
       "       [ 7.91871314e+00, -5.82978749e-01, -5.20804148e+00,\n",
       "         1.14318577e+00],\n",
       "       [-5.48781384e+00,  3.19101449e+00, -2.90363742e+00,\n",
       "         5.73324009e-01],\n",
       "       [-3.41233174e+01, -5.75833118e+00, -3.30948413e+00,\n",
       "        -3.70825426e+00],\n",
       "       [ 2.71282175e+01,  6.22499395e+00, -8.14365278e+00,\n",
       "        -1.62447281e+00],\n",
       "       [ 4.63146641e+00,  7.95125324e-01, -1.29804714e+00,\n",
       "         2.21637087e+00],\n",
       "       [-3.42941616e+01, -5.10305161e+00,  2.88842458e+00,\n",
       "        -4.98922778e+00],\n",
       "       [-2.12729678e+01, -3.43616074e+00,  3.69958132e+00,\n",
       "         3.36167426e-01],\n",
       "       [ 1.56305617e+01,  7.17597638e+00, -4.02755065e+00,\n",
       "         4.61770078e-01],\n",
       "       [-7.35589192e+00, -1.65647892e-02, -4.68007371e+00,\n",
       "         2.50144654e-01],\n",
       "       [-9.79360065e+00,  1.24595213e+00, -7.62019205e-01,\n",
       "        -1.56938998e+00],\n",
       "       [-1.14053009e+01,  8.96848956e-01,  2.10105458e+00,\n",
       "         9.13213940e-01],\n",
       "       [ 1.14309050e+00,  4.99659769e+00, -7.64129639e-01,\n",
       "        -2.02081755e+00],\n",
       "       [-1.36015100e+01,  2.51903259e+00, -2.17539487e+00,\n",
       "         2.96839281e+00],\n",
       "       [-4.32482836e+00,  4.59891315e-01, -6.01388973e+00,\n",
       "         9.12454810e-01],\n",
       "       [ 8.33081850e-01,  7.72550366e+00, -6.36595974e+00,\n",
       "        -3.68424430e+00],\n",
       "       [-1.27217800e+01,  3.71797597e+00,  4.37982137e+00,\n",
       "        -5.60649836e-01],\n",
       "       [ 3.31018960e+00,  4.11334851e+00, -6.95181884e+00,\n",
       "        -1.05144900e+00],\n",
       "       [-2.73388191e+01, -2.29936131e+00,  2.01705275e+00,\n",
       "         2.20635016e+00],\n",
       "       [ 9.09111193e-01, -5.68667983e+00, -3.96225518e+00,\n",
       "        -7.39189221e-02],\n",
       "       [-1.01748105e+01,  1.95317480e-01, -2.93651666e+00,\n",
       "         1.81141662e-01],\n",
       "       [-2.59696099e+01, -1.80140243e+00,  7.34744151e+00,\n",
       "        -5.94643609e+00],\n",
       "       [ 6.89319906e+00,  1.29984832e+00,  2.30820460e-01,\n",
       "         6.78815535e-01],\n",
       "       [ 3.56431295e+00, -1.43394458e+00, -4.89760803e+00,\n",
       "        -1.27069021e+00],\n",
       "       [ 1.75716701e+01,  7.41038058e+00, -5.09204342e+00,\n",
       "         1.35990342e-01],\n",
       "       [ 1.50986017e+00,  8.77490740e+00, -4.17994397e+00,\n",
       "         1.24318364e-02],\n",
       "       [-1.05965385e+01, -1.68621534e+00, -3.75928778e+00,\n",
       "         7.90326032e-01],\n",
       "       [-1.01029693e+01,  2.95304727e+00,  1.48985886e+00,\n",
       "         4.30407610e-01],\n",
       "       [-5.52908353e+00, -2.65861978e+00, -2.49835904e+00,\n",
       "        -1.18779680e-01],\n",
       "       [ 1.69373598e+01, -6.89169531e-01,  6.40017913e-01,\n",
       "         2.41043019e+00],\n",
       "       [ 1.20293766e+01,  6.66051394e+00, -5.84975612e+00,\n",
       "        -3.06577163e+00],\n",
       "       [ 1.37782070e+01, -7.35896179e+00, -5.23520577e+00,\n",
       "        -1.25265402e-01],\n",
       "       [-9.45130715e+00, -6.74622861e-01,  3.44985366e+00,\n",
       "         1.26681527e+00],\n",
       "       [ 2.99529134e+00,  2.63024758e+00, -4.69531386e-02,\n",
       "         6.44355209e-01],\n",
       "       [-1.91215538e+01, -2.98047735e+00, -5.33257980e+00,\n",
       "         3.23601381e+00],\n",
       "       [-1.76453077e+01, -1.36774521e+00, -1.76909054e+00,\n",
       "        -2.51569493e+00],\n",
       "       [-1.27798752e+01,  4.06812595e+00, -3.84992887e+00,\n",
       "        -2.11577690e+00],\n",
       "       [-1.47630679e+01,  3.71593151e+00, -3.02727167e+00,\n",
       "        -1.59698335e+00],\n",
       "       [-1.86872262e+01,  5.96773770e-02, -5.18608838e+00,\n",
       "         4.95102217e-01],\n",
       "       [ 6.21124583e+00, -1.72512230e-01, -2.81249909e+00,\n",
       "         3.97040711e-01],\n",
       "       [ 1.36707421e+01,  4.84035876e+00, -7.06810031e+00,\n",
       "        -1.52018167e+00],\n",
       "       [ 5.11671688e-02,  2.29091195e+00,  2.59338135e+00,\n",
       "        -2.00193419e+00],\n",
       "       [-9.64709156e+00, -4.28883960e+00, -1.73444545e+00,\n",
       "         3.43107979e+00],\n",
       "       [-4.04003385e+00, -4.94157324e-01, -2.87193204e+00,\n",
       "         1.93408987e+00],\n",
       "       [-1.25080622e+01,  3.57618705e-03, -4.84933540e+00,\n",
       "         2.28664545e-01],\n",
       "       [ 1.17625223e+01,  7.15391350e+00, -9.92898083e-01,\n",
       "        -2.34170012e+00],\n",
       "       [ 8.58839990e+00,  3.31358429e+00, -5.32307176e+00,\n",
       "         4.69601645e-01],\n",
       "       [ 2.38003153e+01,  1.24116947e+00,  4.05251640e+00,\n",
       "         5.96816329e-01],\n",
       "       [-8.52207206e+00, -4.05201723e+00, -1.00262158e+00,\n",
       "         2.68867452e+00],\n",
       "       [-2.59161155e+01,  4.59396508e+00,  7.03598952e+00,\n",
       "        -7.13023671e+00],\n",
       "       [ 2.57362105e+01,  9.40407995e+00,  5.12750675e+00,\n",
       "         5.91936198e+00],\n",
       "       [-3.89199361e+01, -2.91032484e+00,  9.57936814e-02,\n",
       "         3.59212245e+00],\n",
       "       [-2.30510771e+01, -2.14690200e+00,  5.34240745e+00,\n",
       "        -2.94095840e+00],\n",
       "       [-9.22710026e+00, -3.66470076e-01, -7.99539695e-01,\n",
       "        -4.47350159e+00],\n",
       "       [ 8.08247297e+00, -6.99230594e+00,  5.03126377e+00,\n",
       "         1.59602222e+00],\n",
       "       [ 8.15919646e+00,  8.03020402e-02, -3.84153594e+00,\n",
       "         4.79234556e-02],\n",
       "       [-4.22834887e+00, -9.10635628e+00, -1.02110757e+00,\n",
       "         4.50292982e+00],\n",
       "       [-1.51105794e+00, -5.39874848e+00, -1.83296753e-02,\n",
       "         1.69185414e+00],\n",
       "       [-1.08943363e+01, -7.42124238e+00,  7.42909145e-01,\n",
       "         4.16009783e+00],\n",
       "       [-1.64539810e+01,  9.97583946e-01,  4.13027263e+00,\n",
       "        -2.73025437e+00],\n",
       "       [-9.94001596e+00,  1.24262544e-01, -2.36745854e-02,\n",
       "        -2.21496768e+00],\n",
       "       [-2.79357129e+01, -1.69255699e+00,  5.06708120e+00,\n",
       "         7.80237848e-01],\n",
       "       [-9.32976966e+00, -2.36645373e-01,  3.33004935e+00,\n",
       "         2.29207070e+00],\n",
       "       [ 7.61945985e+00, -5.19596007e+00,  6.46602750e+00,\n",
       "         2.44753514e+00],\n",
       "       [ 1.89711029e-01,  2.13818543e-01, -1.46081715e+00,\n",
       "        -1.61874987e+00],\n",
       "       [ 3.00815377e+01,  2.28913860e+00,  2.61023916e+00,\n",
       "         2.73835316e+00],\n",
       "       [ 2.62163001e+01, -1.92242895e+00,  1.02750060e+01,\n",
       "         3.25375348e+00],\n",
       "       [-2.38399101e+01,  8.48302140e+00, -2.76867893e+00,\n",
       "         3.49697659e+00],\n",
       "       [-9.99420224e+00,  4.48240712e+00, -7.35284691e+00,\n",
       "        -5.80904471e-01],\n",
       "       [-4.10461583e+00, -9.58453922e+00,  2.06663742e+00,\n",
       "         1.03810587e+00],\n",
       "       [ 4.83633259e+01, -1.29256357e+01,  1.84540023e+00,\n",
       "        -3.96217346e+00],\n",
       "       [ 1.59092378e+01, -3.73192978e+00,  4.31377131e+00,\n",
       "         3.98103221e+00],\n",
       "       [-9.33750904e+00,  1.42857464e+01, -1.86196856e+00,\n",
       "         2.83169378e+00],\n",
       "       [ 5.65101305e-01, -3.71699004e+00, -6.58664231e-01,\n",
       "        -2.11367604e+00],\n",
       "       [ 2.36429886e+01,  1.95514281e+01,  9.25700017e+00,\n",
       "        -1.51777616e+00],\n",
       "       [-1.19749048e+01, -6.35915655e+00, -8.92068950e-01,\n",
       "         3.41926219e+00],\n",
       "       [-1.86970463e+00, -9.05273256e+00,  2.63235805e+00,\n",
       "         1.20259647e+00],\n",
       "       [ 2.89163353e+01,  3.47615070e+00,  1.72602379e+00,\n",
       "        -1.79781201e+00],\n",
       "       [-9.83966453e-01,  1.67494207e+01,  9.82682242e+00,\n",
       "         6.96533268e+00],\n",
       "       [ 9.29893971e+00, -8.75646211e+00, -1.45039965e-01,\n",
       "         4.57710209e+00],\n",
       "       [ 8.77225289e+00,  9.53358292e-01, -2.01871432e+00,\n",
       "         4.03635748e+00],\n",
       "       [-4.74059289e+00, -1.03147110e+01, -1.48459242e+00,\n",
       "         2.90786621e-01],\n",
       "       [-2.39728731e+01, -8.47845961e+00, -2.36986970e+00,\n",
       "         1.20212398e+00],\n",
       "       [-6.29604527e+00, -3.03274274e+00, -4.55308793e-01,\n",
       "         1.06776479e+00],\n",
       "       [-7.59164052e+00,  8.86076503e+00, -4.16875624e+00,\n",
       "         2.26643878e+00],\n",
       "       [ 1.85578992e+01, -8.91959088e+00,  7.02848469e-01,\n",
       "         3.43480653e+00],\n",
       "       [ 1.59512845e+00,  6.55070616e+00,  7.31222075e+00,\n",
       "         6.43100894e-01],\n",
       "       [ 1.46052592e+01, -4.15602632e+00, -3.71915306e+00,\n",
       "         5.62858049e-01],\n",
       "       [ 2.57225321e+01,  1.52900890e+00,  2.09172849e+00,\n",
       "         1.91732538e+00],\n",
       "       [-1.64998863e+01, -2.19867891e+00,  7.73915994e+00,\n",
       "        -1.25995158e+00],\n",
       "       [ 2.22585453e+01, -7.10812424e+00,  3.14473370e+00,\n",
       "         2.86335288e+00],\n",
       "       [ 9.15430012e+00, -4.65297075e+00,  3.97307678e+00,\n",
       "        -3.06058170e+00],\n",
       "       [-2.70768958e+01,  3.85448874e+00,  1.23661987e+00,\n",
       "         6.85652345e+00],\n",
       "       [-2.38153744e+01, -3.94925797e+00,  2.63855224e+00,\n",
       "        -4.42276198e+00],\n",
       "       [ 1.90716293e+00,  3.77981109e-02,  2.52032357e+00,\n",
       "         2.23046273e+00],\n",
       "       [ 3.40135092e+01,  3.19998944e+00,  2.38378788e+00,\n",
       "        -3.09830677e+00],\n",
       "       [ 2.57695883e+01,  3.19115964e+00, -5.48679887e+00,\n",
       "        -3.76677766e+00],\n",
       "       [ 8.32332809e+00,  6.36961790e-01,  4.21702089e+00,\n",
       "         8.66532499e-01],\n",
       "       [ 1.99589823e+01, -2.18506600e+00,  2.36958635e+00,\n",
       "         2.30493304e+00],\n",
       "       [-1.07034749e+01,  1.52287572e+01,  1.63986249e+00,\n",
       "         3.92781782e+00],\n",
       "       [-2.54334548e+01,  5.31962736e+00,  2.48407435e+00,\n",
       "         1.02860697e+01],\n",
       "       [-4.38617644e+01, -7.01852981e+00,  1.83360079e+00,\n",
       "        -1.93314845e+00],\n",
       "       [-2.69942261e+00, -8.47430334e+00,  3.58317702e+00,\n",
       "         5.90045020e-01],\n",
       "       [-3.53588889e+01, -5.17313982e+00,  2.50242938e+00,\n",
       "        -4.52547605e+00],\n",
       "       [ 1.54451601e+01, -1.28985225e+01, -8.65083881e-01,\n",
       "         1.24063203e+00],\n",
       "       [ 3.77399674e+01, -1.09957450e+01,  2.11093889e+00,\n",
       "         1.17504613e+00],\n",
       "       [ 3.34819017e+00, -4.92568584e-01,  5.76959738e+00,\n",
       "         3.93537031e+00],\n",
       "       [-3.18253841e+00,  3.20114034e+00,  7.57640641e+00,\n",
       "        -9.16510492e-01],\n",
       "       [ 4.94556684e+01, -3.83367863e-01,  5.85024297e+00,\n",
       "         1.68190650e+00],\n",
       "       [-3.29052406e+01,  3.75001030e+00,  7.67685943e+00,\n",
       "        -2.09302190e+00],\n",
       "       [ 3.95160624e+00, -1.04038859e+01,  3.35476202e+00,\n",
       "        -2.15856098e+00],\n",
       "       [ 1.14098079e+01,  7.61601189e+00,  9.69833670e+00,\n",
       "         1.91879759e+00],\n",
       "       [-1.21952529e+01, -4.04909547e+00,  3.12041951e+00,\n",
       "         8.08672590e-01],\n",
       "       [-6.02001778e-01, -3.96622919e+00, -1.03546532e+01,\n",
       "         3.90721374e-01],\n",
       "       [-8.69134271e+00,  4.08247941e+00, -4.86892339e+00,\n",
       "        -5.70142732e-02],\n",
       "       [ 1.80278005e+01, -7.72083299e+00, -2.96304348e+00,\n",
       "        -1.69444710e+00],\n",
       "       [-2.28707194e+01,  8.49165243e+00,  7.43971045e+00,\n",
       "        -3.07655742e+00],\n",
       "       [ 2.94614501e+01, -1.09961217e+01,  1.15839568e+00,\n",
       "         2.24874556e+00],\n",
       "       [ 3.80585686e+01, -8.99812906e-01,  2.57259636e-01,\n",
       "        -4.06717106e+00],\n",
       "       [ 1.58138634e+01, -7.19684603e-01,  2.35019894e+00,\n",
       "        -3.39516020e+00],\n",
       "       [ 3.02386358e+01, -5.16641159e+00,  9.40009856e-01,\n",
       "        -2.82228853e+00],\n",
       "       [ 9.20350801e+00, -2.31305907e+00, -8.77134310e-01,\n",
       "         1.46594575e+00],\n",
       "       [ 5.40357806e+01,  6.51664116e+00,  6.67327651e-01,\n",
       "        -7.77942999e-01],\n",
       "       [ 2.19268632e+01, -7.10274361e+00,  2.11816755e+00,\n",
       "        -8.40225010e-01],\n",
       "       [ 3.46710210e+01, -1.09631512e+01,  2.45120366e+00,\n",
       "         4.37665691e-01],\n",
       "       [-2.90415272e+00, -5.96695513e+00, -9.37052524e+00,\n",
       "         2.64603619e-01],\n",
       "       [ 2.02053980e+01, -1.81476026e+00, -1.74101233e+00,\n",
       "        -3.54885399e+00],\n",
       "       [ 1.69768981e+01,  9.45484233e+00,  2.72438883e+00,\n",
       "         1.36136354e+00],\n",
       "       [ 1.72785280e+01,  7.72812834e+00,  8.34251210e+00,\n",
       "        -5.89857826e-01],\n",
       "       [ 1.30779527e+01, -1.06228001e+01,  1.05054823e+00,\n",
       "         2.01753703e+00],\n",
       "       [ 2.17959587e+01, -1.01280632e+01, -1.85298655e+00,\n",
       "        -2.38153353e+00],\n",
       "       [-1.32690802e+00, -8.06518862e+00, -2.21820280e+00,\n",
       "         5.25398945e-01],\n",
       "       [-8.86131335e+00, -3.65770062e+00,  2.63978537e+00,\n",
       "         5.31751137e+00],\n",
       "       [ 4.39892771e+00, -1.00899797e+01, -2.88172301e+00,\n",
       "         1.01058626e+00],\n",
       "       [-1.99896675e+01,  1.89647302e+00,  5.02953763e+00,\n",
       "         2.61958286e+00],\n",
       "       [ 2.08181726e+01, -7.40395783e-01,  2.50106192e+00,\n",
       "        -6.08308805e+00],\n",
       "       [-9.62225897e+00,  7.09832533e+00, -1.66758343e+00,\n",
       "         2.72365040e+00],\n",
       "       [ 2.98996775e+01,  6.08865992e+00,  4.08515137e+00,\n",
       "         1.81214123e+00],\n",
       "       [ 3.16813418e+01,  7.72269237e+00,  1.17467065e+01,\n",
       "        -8.21261525e+00],\n",
       "       [ 4.51418285e+01, -1.06490639e+01,  4.53673722e+00,\n",
       "        -1.85233733e+00],\n",
       "       [-3.36872550e+01, -8.34483906e+00,  4.59827876e+00,\n",
       "        -5.74773695e+00],\n",
       "       [-3.82427990e+01, -6.88000334e+00,  5.39576439e+00,\n",
       "        -1.96707480e+00],\n",
       "       [ 9.65111776e+00, -1.59135396e-01,  2.52897137e+00,\n",
       "        -5.80663705e+00],\n",
       "       [ 2.44656654e+01, -6.34616216e+00, -2.72400123e+00,\n",
       "        -1.83112340e+00],\n",
       "       [-1.41370621e+01,  1.34360226e+01,  2.29599680e+00,\n",
       "         1.95168640e+00],\n",
       "       [ 2.26982704e+01, -6.40612259e+00,  5.61119662e+00,\n",
       "         2.67825847e+00]])"
      ]
     },
     "execution_count": 76,
     "metadata": {},
     "output_type": "execute_result"
    }
   ],
   "source": [
    "X_pca"
   ]
  },
  {
   "cell_type": "code",
   "execution_count": 77,
   "metadata": {},
   "outputs": [
    {
     "data": {
      "text/plain": [
       "array([0.45, 0.5 , 0.9 , 0.8 , 0.8 , 0.75, 0.85, 0.8 , 0.75, 0.9 ])"
      ]
     },
     "execution_count": 77,
     "metadata": {},
     "output_type": "execute_result"
    }
   ],
   "source": [
    "clf = MLPClassifier(hidden_layer_sizes=(100, 100, 100), max_iter=1000)\n",
    "cv_scores = cross_val_score(clf, X_pca, y, cv=10)\n",
    "\n",
    "cv_scores"
   ]
  },
  {
   "cell_type": "code",
   "execution_count": 78,
   "metadata": {},
   "outputs": [
    {
     "data": {
      "text/plain": [
       "((160, 4), (40, 4), (160,), (40,))"
      ]
     },
     "execution_count": 78,
     "metadata": {},
     "output_type": "execute_result"
    }
   ],
   "source": [
    "# split X_pca into training and test sets\n",
    "\n",
    "X_train, X_test, y_train, y_test = train_test_split(X_pca, y, test_size=0.2)\n",
    "\n",
    "X_train.shape, X_test.shape, y_train.shape, y_test.shape"
   ]
  },
  {
   "cell_type": "code",
   "execution_count": 79,
   "metadata": {},
   "outputs": [
    {
     "data": {
      "text/plain": [
       "{'hidden_layer_sizes': (100, 100, 100)}"
      ]
     },
     "execution_count": 79,
     "metadata": {},
     "output_type": "execute_result"
    }
   ],
   "source": [
    "# pick best model for classification\n",
    "\n",
    "parameters = {'hidden_layer_sizes': [(100, 100, 100), (100, 100, 100, 100), (100, 100, 100, 100, 100)]}\n",
    "clf = GridSearchCV(MLPClassifier(max_iter=1000), parameters, cv=10)\n",
    "clf.fit(X_train, y_train)\n",
    "\n",
    "clf.best_params_"
   ]
  },
  {
   "cell_type": "code",
   "execution_count": 80,
   "metadata": {},
   "outputs": [
    {
     "data": {
      "text/plain": [
       "array(['human', 'ai', 'human', 'human', 'ai', 'ai', 'ai', 'ai', 'human',\n",
       "       'ai', 'ai', 'human', 'ai', 'ai', 'human', 'ai', 'human', 'ai',\n",
       "       'human', 'human', 'human', 'ai', 'ai', 'human', 'human', 'ai',\n",
       "       'human', 'ai', 'ai', 'human', 'ai', 'human', 'human', 'ai',\n",
       "       'human', 'human', 'ai', 'human', 'ai', 'ai'], dtype='<U5')"
      ]
     },
     "execution_count": 80,
     "metadata": {},
     "output_type": "execute_result"
    }
   ],
   "source": [
    "# predict labels for test set\n",
    "y_pred = clf.predict(X_test)\n",
    "\n",
    "y_pred"
   ]
  },
  {
   "cell_type": "code",
   "execution_count": 81,
   "metadata": {},
   "outputs": [
    {
     "data": {
      "text/plain": [
       "0.675"
      ]
     },
     "execution_count": 81,
     "metadata": {},
     "output_type": "execute_result"
    }
   ],
   "source": [
    "# calculate accuracy\n",
    "\n",
    "tt_score = accuracy_score(y_test, y_pred)\n",
    "tt_score"
   ]
  },
  {
   "cell_type": "code",
   "execution_count": 82,
   "metadata": {},
   "outputs": [],
   "source": [
    "# add cross validation and train test split accuracies to accuracies dictionary\n",
    "\n",
    "accuracies['cross_val_score'][accuracy_key] = cv_scores\n",
    "accuracies['train_test_split'][accuracy_key] = tt_score\n",
    "n_features += 1"
   ]
  },
  {
   "cell_type": "markdown",
   "metadata": {},
   "source": [
    "## Training with 5 features:\n",
    "---"
   ]
  },
  {
   "cell_type": "code",
   "execution_count": 83,
   "metadata": {},
   "outputs": [
    {
     "data": {
      "text/plain": [
       "(200, 5)"
      ]
     },
     "execution_count": 83,
     "metadata": {},
     "output_type": "execute_result"
    }
   ],
   "source": [
    "X_pca = X_pca_with_features[n_features]\n",
    "accuracy_key = str(n_features) + '_features'\n",
    "\n",
    "X_pca.shape"
   ]
  },
  {
   "cell_type": "code",
   "execution_count": 84,
   "metadata": {},
   "outputs": [
    {
     "data": {
      "text/plain": [
       "array([[-6.73705032e+00, -4.35090214e+00, -2.14744296e+00,\n",
       "         1.49937837e+00,  6.08175565e-02],\n",
       "       [-1.82385625e+00, -7.30405219e-01, -8.30845234e-01,\n",
       "         8.56686503e-01,  1.54440347e-02],\n",
       "       [-1.13315213e+01,  2.43353787e+00,  1.85745442e-01,\n",
       "         1.63276189e+00,  6.69218386e-02],\n",
       "       [-5.87992050e+00, -4.49382270e-01, -1.23301818e+00,\n",
       "         1.79789210e+00, -5.96974464e-03],\n",
       "       [ 2.64103161e+01, -7.63638678e+00,  4.06230736e+00,\n",
       "         3.30877290e+00, -1.69940335e-02],\n",
       "       [ 1.20826588e+01,  1.58311552e+00, -4.88348701e+00,\n",
       "        -6.01005172e+00, -1.46322157e-01],\n",
       "       [-1.29669528e+00,  1.54379191e+00, -2.15023605e-01,\n",
       "         1.34231268e+00, -3.45069952e-02],\n",
       "       [ 4.32684610e+00,  2.82132306e+00, -5.29296398e+00,\n",
       "        -7.93446562e-01, -4.04380880e-02],\n",
       "       [-1.54624711e+01,  6.08974140e+00, -4.49102890e+00,\n",
       "        -1.58895208e-01, -1.05243115e-01],\n",
       "       [-1.38818247e+01,  1.02652579e+00,  1.85562484e+00,\n",
       "        -6.76670230e+00, -1.03025279e-02],\n",
       "       [-3.42709871e+01,  4.79100329e+00,  6.48986104e+00,\n",
       "        -9.11553453e+00, -3.99024825e-02],\n",
       "       [ 9.11655327e+00, -1.47735046e+00, -1.71157572e+00,\n",
       "        -1.00273743e+00,  6.68260222e-03],\n",
       "       [-3.65686834e+01, -8.30273358e-01,  3.82636034e+00,\n",
       "        -6.97776199e+00,  4.53949629e-02],\n",
       "       [-1.22122795e+01,  2.25651476e+00,  1.61575353e+00,\n",
       "         1.50924682e+00,  8.90595077e-02],\n",
       "       [ 1.61884025e+01, -3.26967215e+00,  3.94223408e-01,\n",
       "        -2.02767102e+00,  7.40050072e-02],\n",
       "       [ 4.37745819e+00,  2.34582831e+00, -4.23491119e+00,\n",
       "        -7.70796918e-01, -7.28755185e-02],\n",
       "       [ 1.53570330e+01,  6.31800072e+00, -4.78095117e+00,\n",
       "         1.41046902e-01,  6.66824464e-02],\n",
       "       [-9.90800428e+00,  4.72006127e+00, -6.86487667e+00,\n",
       "        -9.74771024e-01, -6.00242221e-02],\n",
       "       [-7.38530731e+00, -2.65789081e+00, -9.43777504e-01,\n",
       "        -1.90535481e-01,  6.79377171e-02],\n",
       "       [-3.09335734e+00, -3.31182706e+00,  7.39409424e-01,\n",
       "         1.44547754e+00, -1.24953459e-02],\n",
       "       [-6.39667552e-01,  1.45228155e+01,  6.12114063e-01,\n",
       "         5.06554629e+00,  9.45649394e-02],\n",
       "       [-3.69732022e+00,  1.67860049e+00, -2.47719901e+00,\n",
       "        -1.32303864e-01, -3.81161389e-02],\n",
       "       [-2.18575354e+01, -7.04659962e+00,  3.89964749e+00,\n",
       "         1.40767539e+00,  6.31789360e-02],\n",
       "       [-2.18222833e+01, -8.77641880e-02,  2.71847900e+00,\n",
       "         4.82537384e-02,  1.36785120e-01],\n",
       "       [-1.81649123e+01, -2.69806799e+00, -5.53553582e+00,\n",
       "         1.44367514e+00, -8.71101803e-02],\n",
       "       [-2.32559379e+01, -2.53865932e-01,  1.09080776e+00,\n",
       "        -3.01730716e+00,  5.47203454e-02],\n",
       "       [-6.34163544e+00, -1.93055057e+00, -2.25690758e+00,\n",
       "         7.67485677e-01, -5.11919164e-02],\n",
       "       [-1.84072967e+01, -2.95606326e+00,  1.85165848e+00,\n",
       "        -8.51575368e-01,  6.51203794e-02],\n",
       "       [ 7.11355254e-01, -1.82892118e+00, -3.38576636e+00,\n",
       "         6.50081350e-01, -6.03179767e-02],\n",
       "       [ 3.98256715e+00,  2.99843938e+00, -6.68167777e-02,\n",
       "        -1.29673794e+00,  3.24185948e-02],\n",
       "       [ 9.70973774e+00, -2.70795403e+00, -4.00032787e+00,\n",
       "         6.83991865e-01,  5.89075306e-02],\n",
       "       [ 1.85872490e+01,  8.26370285e+00, -4.13164564e+00,\n",
       "        -5.32031966e+00, -5.60055297e-02],\n",
       "       [ 8.21316348e+00,  1.96952675e+00, -5.04977496e+00,\n",
       "        -2.53300691e+00,  1.30003568e-02],\n",
       "       [-2.36685023e+01, -5.59195594e+00, -4.57288824e+00,\n",
       "         2.20800767e+00, -1.71557085e-02],\n",
       "       [-2.07828595e+00,  3.37959755e+00, -7.66371473e+00,\n",
       "        -1.56452291e+00, -3.60485981e-02],\n",
       "       [ 1.70734366e+01,  1.94511759e+01, -3.69482297e-01,\n",
       "        -4.68415813e+00, -2.07249384e-02],\n",
       "       [ 1.30623952e+01,  5.00635194e+00, -4.92131358e+00,\n",
       "         5.08723551e-01,  6.66685613e-02],\n",
       "       [-6.57660946e+00,  8.89600289e+00,  3.05465108e+00,\n",
       "         3.60320413e+00,  2.21562255e-02],\n",
       "       [ 1.42806500e+01,  5.49903844e+00, -3.66366123e+00,\n",
       "        -6.57772253e-01,  1.95648373e-02],\n",
       "       [-2.25888647e+01, -2.20273048e+00, -1.64982663e+00,\n",
       "         3.56559052e+00, -7.70351334e-02],\n",
       "       [-1.23917639e+01, -2.84890753e+00,  4.91428710e-01,\n",
       "        -6.27240407e-01,  6.96304838e-02],\n",
       "       [-2.86052890e+00,  1.46435911e+01, -6.54593853e-01,\n",
       "         4.59091941e+00,  1.12714683e-01],\n",
       "       [ 2.35471209e+00,  1.78380207e+00, -2.82904314e+00,\n",
       "        -1.64512927e+00, -9.17824427e-02],\n",
       "       [ 5.89626397e+00,  3.87463764e+00, -2.86828455e+00,\n",
       "        -1.70944335e-01, -4.51020876e-02],\n",
       "       [-2.11601055e+01, -6.55643504e+00, -9.60920444e-01,\n",
       "         5.27285950e+00, -1.23280134e-01],\n",
       "       [-8.94184041e+00,  1.95729728e+00, -3.13530903e+00,\n",
       "        -1.56133803e+00,  4.25786717e-02],\n",
       "       [ 2.09371153e+00, -7.79161246e-01, -1.99113111e+00,\n",
       "         3.01814966e-01, -4.55799233e-02],\n",
       "       [ 4.95712554e+00, -6.09204487e+00, -2.80300106e+00,\n",
       "        -2.55082171e+00,  5.52062300e-02],\n",
       "       [-1.90681584e+01,  1.37343266e-01, -1.69306197e-01,\n",
       "         1.61618403e-01,  1.13760925e-03],\n",
       "       [ 4.36204908e+00,  7.52912575e+00,  2.93481996e+00,\n",
       "         2.00653871e+00, -2.53892590e-02],\n",
       "       [-5.54086030e+00, -1.46216148e+00, -4.10549919e+00,\n",
       "        -5.75749716e-01,  6.70268569e-02],\n",
       "       [ 1.70431921e+00,  8.18494423e+00, -2.33204383e+00,\n",
       "         1.20105848e+00,  2.57660217e-03],\n",
       "       [-1.16295640e+01,  2.63330042e+00, -1.45273110e+00,\n",
       "        -6.50876625e-01,  3.01032691e-02],\n",
       "       [-2.08187545e+01,  1.55287176e+00,  1.23577077e+00,\n",
       "        -2.46083277e+00,  1.04135464e-02],\n",
       "       [ 9.38903801e+00,  3.67807100e+00, -6.37986758e+00,\n",
       "        -2.43832660e+00, -1.28755844e-02],\n",
       "       [ 7.91871314e+00, -5.82978749e-01, -5.20804148e+00,\n",
       "         1.14318577e+00, -3.88735801e-03],\n",
       "       [-5.48781384e+00,  3.19101449e+00, -2.90363742e+00,\n",
       "         5.73324009e-01, -4.60044772e-02],\n",
       "       [-3.41233174e+01, -5.75833118e+00, -3.30948413e+00,\n",
       "        -3.70825426e+00,  2.50694880e-01],\n",
       "       [ 2.71282175e+01,  6.22499395e+00, -8.14365278e+00,\n",
       "        -1.62447281e+00,  1.50294496e-01],\n",
       "       [ 4.63146641e+00,  7.95125324e-01, -1.29804714e+00,\n",
       "         2.21637087e+00,  1.04441313e-02],\n",
       "       [-3.42941616e+01, -5.10305161e+00,  2.88842458e+00,\n",
       "        -4.98922778e+00,  1.96836384e-02],\n",
       "       [-2.12729678e+01, -3.43616074e+00,  3.69958132e+00,\n",
       "         3.36167426e-01,  8.28161703e-02],\n",
       "       [ 1.56305617e+01,  7.17597638e+00, -4.02755065e+00,\n",
       "         4.61770078e-01,  8.03153559e-02],\n",
       "       [-7.35589192e+00, -1.65647892e-02, -4.68007371e+00,\n",
       "         2.50144654e-01, -1.15679850e-01],\n",
       "       [-9.79360065e+00,  1.24595213e+00, -7.62019205e-01,\n",
       "        -1.56938998e+00,  1.43037702e-01],\n",
       "       [-1.14053009e+01,  8.96848956e-01,  2.10105458e+00,\n",
       "         9.13213940e-01, -1.52265403e-01],\n",
       "       [ 1.14309050e+00,  4.99659769e+00, -7.64129639e-01,\n",
       "        -2.02081755e+00,  1.31809007e-02],\n",
       "       [-1.36015100e+01,  2.51903259e+00, -2.17539487e+00,\n",
       "         2.96839281e+00, -1.11412789e-01],\n",
       "       [-4.32482836e+00,  4.59891315e-01, -6.01388973e+00,\n",
       "         9.12454810e-01, -4.21461334e-02],\n",
       "       [ 8.33081850e-01,  7.72550366e+00, -6.36595974e+00,\n",
       "        -3.68424430e+00, -5.28531123e-02],\n",
       "       [-1.27217800e+01,  3.71797597e+00,  4.37982137e+00,\n",
       "        -5.60649836e-01,  4.23166061e-02],\n",
       "       [ 3.31018960e+00,  4.11334851e+00, -6.95181884e+00,\n",
       "        -1.05144900e+00, -1.54598489e-02],\n",
       "       [-2.73388191e+01, -2.29936131e+00,  2.01705275e+00,\n",
       "         2.20635016e+00, -7.89152262e-02],\n",
       "       [ 9.09111193e-01, -5.68667983e+00, -3.96225518e+00,\n",
       "        -7.39189221e-02,  5.52738374e-02],\n",
       "       [-1.01748105e+01,  1.95317480e-01, -2.93651666e+00,\n",
       "         1.81141662e-01, -1.66891771e-02],\n",
       "       [-2.59696099e+01, -1.80140243e+00,  7.34744151e+00,\n",
       "        -5.94643609e+00, -6.32152795e-02],\n",
       "       [ 6.89319906e+00,  1.29984832e+00,  2.30820460e-01,\n",
       "         6.78815535e-01, -2.42362139e-02],\n",
       "       [ 3.56431295e+00, -1.43394458e+00, -4.89760803e+00,\n",
       "        -1.27069021e+00, -6.28745875e-03],\n",
       "       [ 1.75716701e+01,  7.41038058e+00, -5.09204342e+00,\n",
       "         1.35990342e-01,  1.02820697e-01],\n",
       "       [ 1.50986017e+00,  8.77490740e+00, -4.17994397e+00,\n",
       "         1.24318364e-02,  1.96098440e-02],\n",
       "       [-1.05965385e+01, -1.68621534e+00, -3.75928778e+00,\n",
       "         7.90326032e-01, -2.71035643e-02],\n",
       "       [-1.01029693e+01,  2.95304727e+00,  1.48985886e+00,\n",
       "         4.30407610e-01, -1.75182071e-01],\n",
       "       [-5.52908353e+00, -2.65861978e+00, -2.49835904e+00,\n",
       "        -1.18779680e-01, -6.91531490e-02],\n",
       "       [ 1.69373598e+01, -6.89169531e-01,  6.40017913e-01,\n",
       "         2.41043019e+00,  9.94448246e-02],\n",
       "       [ 1.20293766e+01,  6.66051394e+00, -5.84975612e+00,\n",
       "        -3.06577163e+00, -1.65991129e-02],\n",
       "       [ 1.37782070e+01, -7.35896179e+00, -5.23520577e+00,\n",
       "        -1.25265402e-01,  5.55904912e-02],\n",
       "       [-9.45130715e+00, -6.74622861e-01,  3.44985366e+00,\n",
       "         1.26681527e+00,  1.90295588e-01],\n",
       "       [ 2.99529134e+00,  2.63024758e+00, -4.69531386e-02,\n",
       "         6.44355209e-01, -1.76575877e-02],\n",
       "       [-1.91215538e+01, -2.98047735e+00, -5.33257980e+00,\n",
       "         3.23601381e+00,  6.93092857e-03],\n",
       "       [-1.76453077e+01, -1.36774521e+00, -1.76909054e+00,\n",
       "        -2.51569493e+00,  1.13549958e-01],\n",
       "       [-1.27798752e+01,  4.06812595e+00, -3.84992887e+00,\n",
       "        -2.11577690e+00, -7.82636130e-02],\n",
       "       [-1.47630679e+01,  3.71593151e+00, -3.02727167e+00,\n",
       "        -1.59698335e+00, -8.75436466e-02],\n",
       "       [-1.86872262e+01,  5.96773770e-02, -5.18608838e+00,\n",
       "         4.95102217e-01,  6.59579599e-04],\n",
       "       [ 6.21124583e+00, -1.72512230e-01, -2.81249909e+00,\n",
       "         3.97040711e-01,  2.65867958e-02],\n",
       "       [ 1.36707421e+01,  4.84035876e+00, -7.06810031e+00,\n",
       "        -1.52018167e+00,  5.53195130e-02],\n",
       "       [ 5.11671688e-02,  2.29091195e+00,  2.59338135e+00,\n",
       "        -2.00193419e+00,  1.59174150e-01],\n",
       "       [-9.64709156e+00, -4.28883960e+00, -1.73444545e+00,\n",
       "         3.43107979e+00, -2.99192903e-02],\n",
       "       [-4.04003385e+00, -4.94157324e-01, -2.87193204e+00,\n",
       "         1.93408987e+00,  3.67870258e-02],\n",
       "       [-1.25080622e+01,  3.57618705e-03, -4.84933540e+00,\n",
       "         2.28664545e-01, -1.10666599e-01],\n",
       "       [ 1.17625223e+01,  7.15391350e+00, -9.92898083e-01,\n",
       "        -2.34170012e+00, -1.02414240e-01],\n",
       "       [ 8.58839990e+00,  3.31358429e+00, -5.32307176e+00,\n",
       "         4.69601645e-01,  1.45306240e-02],\n",
       "       [ 2.38003153e+01,  1.24116947e+00,  4.05251640e+00,\n",
       "         5.96816329e-01, -1.06414785e-01],\n",
       "       [-8.52207206e+00, -4.05201723e+00, -1.00262158e+00,\n",
       "         2.68867452e+00, -5.00375959e-02],\n",
       "       [-2.59161155e+01,  4.59396508e+00,  7.03598952e+00,\n",
       "        -7.13023671e+00, -1.48313688e-01],\n",
       "       [ 2.57362105e+01,  9.40407995e+00,  5.12750675e+00,\n",
       "         5.91936198e+00,  7.89980188e-02],\n",
       "       [-3.89199361e+01, -2.91032484e+00,  9.57936814e-02,\n",
       "         3.59212245e+00,  4.31665367e-02],\n",
       "       [-2.30510771e+01, -2.14690200e+00,  5.34240745e+00,\n",
       "        -2.94095840e+00, -5.40950088e-02],\n",
       "       [-9.22710026e+00, -3.66470076e-01, -7.99539695e-01,\n",
       "        -4.47350159e+00,  6.59152439e-02],\n",
       "       [ 8.08247297e+00, -6.99230594e+00,  5.03126377e+00,\n",
       "         1.59602222e+00, -7.74746652e-02],\n",
       "       [ 8.15919646e+00,  8.03020402e-02, -3.84153594e+00,\n",
       "         4.79234556e-02, -8.78101360e-02],\n",
       "       [-4.22834887e+00, -9.10635628e+00, -1.02110757e+00,\n",
       "         4.50292982e+00, -1.05537541e-01],\n",
       "       [-1.51105794e+00, -5.39874848e+00, -1.83296753e-02,\n",
       "         1.69185414e+00,  1.44665343e-03],\n",
       "       [-1.08943363e+01, -7.42124238e+00,  7.42909145e-01,\n",
       "         4.16009783e+00,  9.66267842e-02],\n",
       "       [-1.64539810e+01,  9.97583946e-01,  4.13027263e+00,\n",
       "        -2.73025437e+00, -1.03879323e-01],\n",
       "       [-9.94001596e+00,  1.24262544e-01, -2.36745854e-02,\n",
       "        -2.21496768e+00,  3.88548165e-02],\n",
       "       [-2.79357129e+01, -1.69255699e+00,  5.06708120e+00,\n",
       "         7.80237848e-01,  1.73714176e-02],\n",
       "       [-9.32976966e+00, -2.36645373e-01,  3.33004935e+00,\n",
       "         2.29207070e+00,  3.26669859e-02],\n",
       "       [ 7.61945985e+00, -5.19596007e+00,  6.46602750e+00,\n",
       "         2.44753514e+00,  9.65250951e-02],\n",
       "       [ 1.89711029e-01,  2.13818543e-01, -1.46081715e+00,\n",
       "        -1.61874987e+00, -6.16419296e-02],\n",
       "       [ 3.00815377e+01,  2.28913860e+00,  2.61023916e+00,\n",
       "         2.73835316e+00,  1.24387694e-01],\n",
       "       [ 2.62163001e+01, -1.92242895e+00,  1.02750060e+01,\n",
       "         3.25375348e+00,  1.71209840e-02],\n",
       "       [-2.38399101e+01,  8.48302140e+00, -2.76867893e+00,\n",
       "         3.49697659e+00, -2.79663598e-02],\n",
       "       [-9.99420224e+00,  4.48240712e+00, -7.35284691e+00,\n",
       "        -5.80904471e-01, -5.02402070e-02],\n",
       "       [-4.10461583e+00, -9.58453922e+00,  2.06663742e+00,\n",
       "         1.03810587e+00, -1.86949833e-02],\n",
       "       [ 4.83633259e+01, -1.29256357e+01,  1.84540023e+00,\n",
       "        -3.96217346e+00,  1.66725761e-01],\n",
       "       [ 1.59092378e+01, -3.73192978e+00,  4.31377131e+00,\n",
       "         3.98103221e+00, -9.37854288e-02],\n",
       "       [-9.33750904e+00,  1.42857464e+01, -1.86196856e+00,\n",
       "         2.83169378e+00,  4.26063873e-02],\n",
       "       [ 5.65101305e-01, -3.71699004e+00, -6.58664231e-01,\n",
       "        -2.11367604e+00, -5.18852263e-03],\n",
       "       [ 2.36429886e+01,  1.95514281e+01,  9.25700017e+00,\n",
       "        -1.51777616e+00,  4.06372338e-02],\n",
       "       [-1.19749048e+01, -6.35915655e+00, -8.92068950e-01,\n",
       "         3.41926219e+00, -7.12011747e-02],\n",
       "       [-1.86970463e+00, -9.05273256e+00,  2.63235805e+00,\n",
       "         1.20259647e+00, -1.52933270e-01],\n",
       "       [ 2.89163353e+01,  3.47615070e+00,  1.72602379e+00,\n",
       "        -1.79781201e+00, -1.01200777e-01],\n",
       "       [-9.83966453e-01,  1.67494207e+01,  9.82682242e+00,\n",
       "         6.96533268e+00, -2.71469253e-02],\n",
       "       [ 9.29893971e+00, -8.75646211e+00, -1.45039965e-01,\n",
       "         4.57710209e+00,  8.07533260e-02],\n",
       "       [ 8.77225289e+00,  9.53358292e-01, -2.01871432e+00,\n",
       "         4.03635748e+00, -1.28478050e-02],\n",
       "       [-4.74059289e+00, -1.03147110e+01, -1.48459242e+00,\n",
       "         2.90786621e-01,  8.47519604e-02],\n",
       "       [-2.39728731e+01, -8.47845961e+00, -2.36986970e+00,\n",
       "         1.20212398e+00,  1.02621960e-01],\n",
       "       [-6.29604527e+00, -3.03274274e+00, -4.55308793e-01,\n",
       "         1.06776479e+00, -1.61863175e-01],\n",
       "       [-7.59164052e+00,  8.86076503e+00, -4.16875624e+00,\n",
       "         2.26643878e+00,  2.86438690e-02],\n",
       "       [ 1.85578992e+01, -8.91959088e+00,  7.02848469e-01,\n",
       "         3.43480653e+00, -5.74814035e-02],\n",
       "       [ 1.59512845e+00,  6.55070616e+00,  7.31222075e+00,\n",
       "         6.43100894e-01, -1.28776580e-01],\n",
       "       [ 1.46052592e+01, -4.15602632e+00, -3.71915306e+00,\n",
       "         5.62858049e-01,  5.86901941e-03],\n",
       "       [ 2.57225321e+01,  1.52900890e+00,  2.09172849e+00,\n",
       "         1.91732538e+00,  1.30460983e-01],\n",
       "       [-1.64998863e+01, -2.19867891e+00,  7.73915994e+00,\n",
       "        -1.25995158e+00, -1.55607318e-01],\n",
       "       [ 2.22585453e+01, -7.10812424e+00,  3.14473370e+00,\n",
       "         2.86335288e+00, -4.82863725e-02],\n",
       "       [ 9.15430012e+00, -4.65297075e+00,  3.97307678e+00,\n",
       "        -3.06058170e+00,  1.84963134e-02],\n",
       "       [-2.70768958e+01,  3.85448874e+00,  1.23661987e+00,\n",
       "         6.85652345e+00, -2.47380722e-03],\n",
       "       [-2.38153744e+01, -3.94925797e+00,  2.63855224e+00,\n",
       "        -4.42276198e+00,  7.67034916e-02],\n",
       "       [ 1.90716293e+00,  3.77981109e-02,  2.52032357e+00,\n",
       "         2.23046273e+00, -9.37701382e-02],\n",
       "       [ 3.40135092e+01,  3.19998944e+00,  2.38378788e+00,\n",
       "        -3.09830677e+00, -7.86586182e-02],\n",
       "       [ 2.57695883e+01,  3.19115964e+00, -5.48679887e+00,\n",
       "        -3.76677766e+00, -1.75531569e-02],\n",
       "       [ 8.32332809e+00,  6.36961790e-01,  4.21702089e+00,\n",
       "         8.66532499e-01,  3.40416884e-02],\n",
       "       [ 1.99589823e+01, -2.18506600e+00,  2.36958635e+00,\n",
       "         2.30493304e+00,  5.33090160e-02],\n",
       "       [-1.07034749e+01,  1.52287572e+01,  1.63986249e+00,\n",
       "         3.92781782e+00, -2.94035078e-02],\n",
       "       [-2.54334548e+01,  5.31962736e+00,  2.48407435e+00,\n",
       "         1.02860697e+01, -1.37628188e-02],\n",
       "       [-4.38617644e+01, -7.01852981e+00,  1.83360079e+00,\n",
       "        -1.93314845e+00,  1.61599099e-01],\n",
       "       [-2.69942261e+00, -8.47430334e+00,  3.58317702e+00,\n",
       "         5.90045020e-01, -5.76380625e-02],\n",
       "       [-3.53588889e+01, -5.17313982e+00,  2.50242938e+00,\n",
       "        -4.52547605e+00,  9.09827615e-02],\n",
       "       [ 1.54451601e+01, -1.28985225e+01, -8.65083881e-01,\n",
       "         1.24063203e+00,  1.59647410e-01],\n",
       "       [ 3.77399674e+01, -1.09957450e+01,  2.11093889e+00,\n",
       "         1.17504613e+00,  1.22653834e-03],\n",
       "       [ 3.34819017e+00, -4.92568584e-01,  5.76959738e+00,\n",
       "         3.93537031e+00,  8.55579413e-02],\n",
       "       [-3.18253841e+00,  3.20114034e+00,  7.57640641e+00,\n",
       "        -9.16510492e-01,  9.47067508e-02],\n",
       "       [ 4.94556684e+01, -3.83367863e-01,  5.85024297e+00,\n",
       "         1.68190650e+00,  8.96438927e-02],\n",
       "       [-3.29052406e+01,  3.75001030e+00,  7.67685943e+00,\n",
       "        -2.09302190e+00,  4.03033690e-02],\n",
       "       [ 3.95160624e+00, -1.04038859e+01,  3.35476202e+00,\n",
       "        -2.15856098e+00, -2.51607823e-02],\n",
       "       [ 1.14098079e+01,  7.61601189e+00,  9.69833670e+00,\n",
       "         1.91879759e+00, -6.99852263e-02],\n",
       "       [-1.21952529e+01, -4.04909547e+00,  3.12041951e+00,\n",
       "         8.08672590e-01, -9.77861690e-03],\n",
       "       [-6.02001778e-01, -3.96622919e+00, -1.03546532e+01,\n",
       "         3.90721374e-01, -1.94858868e-03],\n",
       "       [-8.69134271e+00,  4.08247941e+00, -4.86892339e+00,\n",
       "        -5.70142732e-02, -1.03994949e-01],\n",
       "       [ 1.80278005e+01, -7.72083299e+00, -2.96304348e+00,\n",
       "        -1.69444710e+00, -1.83646828e-02],\n",
       "       [-2.28707194e+01,  8.49165243e+00,  7.43971045e+00,\n",
       "        -3.07655742e+00,  3.11544755e-02],\n",
       "       [ 2.94614501e+01, -1.09961217e+01,  1.15839568e+00,\n",
       "         2.24874556e+00, -1.03271595e-01],\n",
       "       [ 3.80585686e+01, -8.99812906e-01,  2.57259636e-01,\n",
       "        -4.06717106e+00,  1.87890500e-01],\n",
       "       [ 1.58138634e+01, -7.19684603e-01,  2.35019894e+00,\n",
       "        -3.39516020e+00,  7.52614289e-02],\n",
       "       [ 3.02386358e+01, -5.16641159e+00,  9.40009856e-01,\n",
       "        -2.82228853e+00,  3.56022283e-03],\n",
       "       [ 9.20350801e+00, -2.31305907e+00, -8.77134310e-01,\n",
       "         1.46594575e+00, -3.34246176e-02],\n",
       "       [ 5.40357806e+01,  6.51664116e+00,  6.67327651e-01,\n",
       "        -7.77942999e-01,  1.23718106e-01],\n",
       "       [ 2.19268632e+01, -7.10274361e+00,  2.11816755e+00,\n",
       "        -8.40225010e-01, -8.87968381e-02],\n",
       "       [ 3.46710210e+01, -1.09631512e+01,  2.45120366e+00,\n",
       "         4.37665691e-01, -1.30051566e-01],\n",
       "       [-2.90415272e+00, -5.96695513e+00, -9.37052524e+00,\n",
       "         2.64603619e-01, -8.73471262e-02],\n",
       "       [ 2.02053980e+01, -1.81476026e+00, -1.74101233e+00,\n",
       "        -3.54885399e+00,  1.50308252e-01],\n",
       "       [ 1.69768981e+01,  9.45484233e+00,  2.72438883e+00,\n",
       "         1.36136354e+00, -5.24137941e-02],\n",
       "       [ 1.72785280e+01,  7.72812834e+00,  8.34251210e+00,\n",
       "        -5.89857826e-01,  3.85075984e-02],\n",
       "       [ 1.30779527e+01, -1.06228001e+01,  1.05054823e+00,\n",
       "         2.01753703e+00, -4.70930288e-02],\n",
       "       [ 2.17959587e+01, -1.01280632e+01, -1.85298655e+00,\n",
       "        -2.38153353e+00, -1.15015283e-01],\n",
       "       [-1.32690802e+00, -8.06518862e+00, -2.21820280e+00,\n",
       "         5.25398945e-01,  1.33561390e-01],\n",
       "       [-8.86131335e+00, -3.65770062e+00,  2.63978537e+00,\n",
       "         5.31751137e+00, -1.07429202e-01],\n",
       "       [ 4.39892771e+00, -1.00899797e+01, -2.88172301e+00,\n",
       "         1.01058626e+00,  5.42239402e-02],\n",
       "       [-1.99896675e+01,  1.89647302e+00,  5.02953763e+00,\n",
       "         2.61958286e+00,  1.92750009e-02],\n",
       "       [ 2.08181726e+01, -7.40395783e-01,  2.50106192e+00,\n",
       "        -6.08308805e+00, -1.41594393e-01],\n",
       "       [-9.62225897e+00,  7.09832533e+00, -1.66758343e+00,\n",
       "         2.72365040e+00, -6.63854598e-02],\n",
       "       [ 2.98996775e+01,  6.08865992e+00,  4.08515137e+00,\n",
       "         1.81214123e+00,  8.34046912e-02],\n",
       "       [ 3.16813418e+01,  7.72269237e+00,  1.17467065e+01,\n",
       "        -8.21261525e+00, -1.48979894e-01],\n",
       "       [ 4.51418285e+01, -1.06490639e+01,  4.53673722e+00,\n",
       "        -1.85233733e+00, -1.38414252e-01],\n",
       "       [-3.36872550e+01, -8.34483906e+00,  4.59827876e+00,\n",
       "        -5.74773695e+00, -7.56161163e-02],\n",
       "       [-3.82427990e+01, -6.88000334e+00,  5.39576439e+00,\n",
       "        -1.96707480e+00,  1.51698088e-01],\n",
       "       [ 9.65111776e+00, -1.59135396e-01,  2.52897137e+00,\n",
       "        -5.80663705e+00,  3.06919057e-02],\n",
       "       [ 2.44656654e+01, -6.34616216e+00, -2.72400123e+00,\n",
       "        -1.83112340e+00,  3.46565523e-02],\n",
       "       [-1.41370621e+01,  1.34360226e+01,  2.29599680e+00,\n",
       "         1.95168640e+00,  6.80629927e-02],\n",
       "       [ 2.26982704e+01, -6.40612259e+00,  5.61119662e+00,\n",
       "         2.67825847e+00, -8.60252554e-02]])"
      ]
     },
     "execution_count": 84,
     "metadata": {},
     "output_type": "execute_result"
    }
   ],
   "source": [
    "X_pca"
   ]
  },
  {
   "cell_type": "code",
   "execution_count": 85,
   "metadata": {},
   "outputs": [
    {
     "data": {
      "text/plain": [
       "array([0.55, 0.5 , 0.9 , 0.8 , 0.85, 0.75, 0.85, 0.9 , 0.75, 0.85])"
      ]
     },
     "execution_count": 85,
     "metadata": {},
     "output_type": "execute_result"
    }
   ],
   "source": [
    "clf = MLPClassifier(hidden_layer_sizes=(100, 100, 100), max_iter=1000)\n",
    "cv_scores = cross_val_score(clf, X_pca, y, cv=10)\n",
    "\n",
    "cv_scores"
   ]
  },
  {
   "cell_type": "code",
   "execution_count": 86,
   "metadata": {},
   "outputs": [
    {
     "data": {
      "text/plain": [
       "((160, 5), (40, 5), (160,), (40,))"
      ]
     },
     "execution_count": 86,
     "metadata": {},
     "output_type": "execute_result"
    }
   ],
   "source": [
    "# split X_pca into training and test sets\n",
    "\n",
    "X_train, X_test, y_train, y_test = train_test_split(X_pca, y, test_size=0.2)\n",
    "\n",
    "X_train.shape, X_test.shape, y_train.shape, y_test.shape"
   ]
  },
  {
   "cell_type": "code",
   "execution_count": 87,
   "metadata": {},
   "outputs": [
    {
     "data": {
      "text/plain": [
       "{'hidden_layer_sizes': (100, 100, 100)}"
      ]
     },
     "execution_count": 87,
     "metadata": {},
     "output_type": "execute_result"
    }
   ],
   "source": [
    "# pick best model for classification\n",
    "\n",
    "parameters = {'hidden_layer_sizes': [(100, 100, 100), (100, 100, 100, 100), (100, 100, 100, 100, 100)]}\n",
    "clf = GridSearchCV(MLPClassifier(max_iter=1000), parameters, cv=10)\n",
    "clf.fit(X_train, y_train)\n",
    "\n",
    "clf.best_params_"
   ]
  },
  {
   "cell_type": "code",
   "execution_count": 88,
   "metadata": {},
   "outputs": [
    {
     "data": {
      "text/plain": [
       "array(['ai', 'human', 'human', 'human', 'human', 'human', 'ai', 'ai',\n",
       "       'ai', 'ai', 'human', 'ai', 'human', 'ai', 'ai', 'human', 'ai',\n",
       "       'human', 'ai', 'human', 'ai', 'ai', 'ai', 'ai', 'human', 'ai',\n",
       "       'human', 'human', 'ai', 'ai', 'human', 'ai', 'human', 'human',\n",
       "       'ai', 'human', 'ai', 'human', 'ai', 'human'], dtype='<U5')"
      ]
     },
     "execution_count": 88,
     "metadata": {},
     "output_type": "execute_result"
    }
   ],
   "source": [
    "# predict labels for test set\n",
    "y_pred = clf.predict(X_test)\n",
    "\n",
    "y_pred"
   ]
  },
  {
   "cell_type": "code",
   "execution_count": 89,
   "metadata": {},
   "outputs": [
    {
     "data": {
      "text/plain": [
       "0.725"
      ]
     },
     "execution_count": 89,
     "metadata": {},
     "output_type": "execute_result"
    }
   ],
   "source": [
    "# calculate accuracy\n",
    "\n",
    "tt_score = accuracy_score(y_test, y_pred)\n",
    "tt_score"
   ]
  },
  {
   "cell_type": "code",
   "execution_count": 90,
   "metadata": {},
   "outputs": [],
   "source": [
    "# add cross validation and train test split accuracies to accuracies dictionary\n",
    "\n",
    "accuracies['cross_val_score'][accuracy_key] = cv_scores\n",
    "accuracies['train_test_split'][accuracy_key] = tt_score\n",
    "n_features += 1"
   ]
  },
  {
   "cell_type": "markdown",
   "metadata": {},
   "source": [
    "## Training with 6 features:\n",
    "---"
   ]
  },
  {
   "cell_type": "code",
   "execution_count": 91,
   "metadata": {},
   "outputs": [
    {
     "data": {
      "text/plain": [
       "(200, 6)"
      ]
     },
     "execution_count": 91,
     "metadata": {},
     "output_type": "execute_result"
    }
   ],
   "source": [
    "X_pca = X_pca_with_features[n_features]\n",
    "accuracy_key = str(n_features) + '_features'\n",
    "\n",
    "X_pca.shape"
   ]
  },
  {
   "cell_type": "code",
   "execution_count": 92,
   "metadata": {},
   "outputs": [
    {
     "data": {
      "text/plain": [
       "array([[-6.73705032e+00, -4.35090214e+00, -2.14744296e+00,\n",
       "         1.49937837e+00,  6.08175565e-02, -2.42570873e-02],\n",
       "       [-1.82385625e+00, -7.30405219e-01, -8.30845234e-01,\n",
       "         8.56686503e-01,  1.54440347e-02, -9.38881363e-02],\n",
       "       [-1.13315213e+01,  2.43353787e+00,  1.85745442e-01,\n",
       "         1.63276189e+00,  6.69218386e-02, -2.08542342e-02],\n",
       "       ...,\n",
       "       [ 2.44656654e+01, -6.34616216e+00, -2.72400123e+00,\n",
       "        -1.83112340e+00,  3.46565523e-02,  8.09340307e-02],\n",
       "       [-1.41370621e+01,  1.34360226e+01,  2.29599680e+00,\n",
       "         1.95168640e+00,  6.80629927e-02,  6.86380130e-02],\n",
       "       [ 2.26982704e+01, -6.40612259e+00,  5.61119662e+00,\n",
       "         2.67825847e+00, -8.60252554e-02, -1.56114977e-01]])"
      ]
     },
     "execution_count": 92,
     "metadata": {},
     "output_type": "execute_result"
    }
   ],
   "source": [
    "X_pca"
   ]
  },
  {
   "cell_type": "code",
   "execution_count": 93,
   "metadata": {},
   "outputs": [
    {
     "data": {
      "text/plain": [
       "array([0.55, 0.5 , 0.9 , 0.8 , 0.8 , 0.75, 0.8 , 0.85, 0.85, 0.8 ])"
      ]
     },
     "execution_count": 93,
     "metadata": {},
     "output_type": "execute_result"
    }
   ],
   "source": [
    "clf = MLPClassifier(hidden_layer_sizes=(100, 100, 100), max_iter=1000)\n",
    "cv_scores = cross_val_score(clf, X_pca, y, cv=10)\n",
    "\n",
    "cv_scores"
   ]
  },
  {
   "cell_type": "code",
   "execution_count": 94,
   "metadata": {},
   "outputs": [
    {
     "data": {
      "text/plain": [
       "((160, 6), (40, 6), (160,), (40,))"
      ]
     },
     "execution_count": 94,
     "metadata": {},
     "output_type": "execute_result"
    }
   ],
   "source": [
    "# split X_pca into training and test sets\n",
    "\n",
    "X_train, X_test, y_train, y_test = train_test_split(X_pca, y, test_size=0.2)\n",
    "\n",
    "X_train.shape, X_test.shape, y_train.shape, y_test.shape"
   ]
  },
  {
   "cell_type": "code",
   "execution_count": 95,
   "metadata": {},
   "outputs": [
    {
     "data": {
      "text/plain": [
       "{'hidden_layer_sizes': (100, 100, 100)}"
      ]
     },
     "execution_count": 95,
     "metadata": {},
     "output_type": "execute_result"
    }
   ],
   "source": [
    "# pick best model for classification\n",
    "\n",
    "parameters = {'hidden_layer_sizes': [(100, 100, 100), (100, 100, 100, 100), (100, 100, 100, 100, 100)]}\n",
    "clf = GridSearchCV(MLPClassifier(max_iter=1000), parameters, cv=10)\n",
    "clf.fit(X_train, y_train)\n",
    "\n",
    "clf.best_params_"
   ]
  },
  {
   "cell_type": "code",
   "execution_count": 96,
   "metadata": {},
   "outputs": [
    {
     "data": {
      "text/plain": [
       "array(['human', 'human', 'human', 'ai', 'ai', 'ai', 'human', 'ai', 'ai',\n",
       "       'human', 'human', 'human', 'human', 'human', 'ai', 'ai', 'ai',\n",
       "       'ai', 'human', 'human', 'human', 'ai', 'ai', 'ai', 'ai', 'human',\n",
       "       'ai', 'human', 'human', 'human', 'human', 'human', 'human', 'ai',\n",
       "       'human', 'human', 'human', 'ai', 'human', 'human'], dtype='<U5')"
      ]
     },
     "execution_count": 96,
     "metadata": {},
     "output_type": "execute_result"
    }
   ],
   "source": [
    "# predict labels for test set\n",
    "y_pred = clf.predict(X_test)\n",
    "\n",
    "y_pred"
   ]
  },
  {
   "cell_type": "code",
   "execution_count": 97,
   "metadata": {},
   "outputs": [
    {
     "data": {
      "text/plain": [
       "0.775"
      ]
     },
     "execution_count": 97,
     "metadata": {},
     "output_type": "execute_result"
    }
   ],
   "source": [
    "# calculate accuracy\n",
    "\n",
    "tt_score = accuracy_score(y_test, y_pred)\n",
    "tt_score"
   ]
  },
  {
   "cell_type": "code",
   "execution_count": 98,
   "metadata": {},
   "outputs": [],
   "source": [
    "# add cross validation and train test split accuracies to accuracies dictionary\n",
    "\n",
    "accuracies['cross_val_score'][accuracy_key] = cv_scores\n",
    "accuracies['train_test_split'][accuracy_key] = tt_score\n",
    "n_features += 1"
   ]
  },
  {
   "cell_type": "markdown",
   "metadata": {},
   "source": [
    "## Training with 7 features:\n",
    "---"
   ]
  },
  {
   "cell_type": "code",
   "execution_count": 99,
   "metadata": {},
   "outputs": [
    {
     "data": {
      "text/plain": [
       "(200, 7)"
      ]
     },
     "execution_count": 99,
     "metadata": {},
     "output_type": "execute_result"
    }
   ],
   "source": [
    "X_pca = X_pca_with_features[n_features]\n",
    "accuracy_key = str(n_features) + '_features'\n",
    "\n",
    "X_pca.shape"
   ]
  },
  {
   "cell_type": "code",
   "execution_count": 100,
   "metadata": {},
   "outputs": [
    {
     "data": {
      "text/plain": [
       "array([[-6.73705032e+00, -4.35090214e+00, -2.14744296e+00, ...,\n",
       "         6.08175565e-02, -2.42570873e-02,  2.59540817e-02],\n",
       "       [-1.82385625e+00, -7.30405219e-01, -8.30845234e-01, ...,\n",
       "         1.54440347e-02, -9.38881363e-02,  2.38493412e-02],\n",
       "       [-1.13315213e+01,  2.43353787e+00,  1.85745442e-01, ...,\n",
       "         6.69218386e-02, -2.08542342e-02,  2.11781536e-02],\n",
       "       ...,\n",
       "       [ 2.44656654e+01, -6.34616216e+00, -2.72400123e+00, ...,\n",
       "         3.46565523e-02,  8.09340307e-02, -2.92279696e-02],\n",
       "       [-1.41370621e+01,  1.34360226e+01,  2.29599680e+00, ...,\n",
       "         6.80629927e-02,  6.86380130e-02, -5.32082763e-02],\n",
       "       [ 2.26982704e+01, -6.40612259e+00,  5.61119662e+00, ...,\n",
       "        -8.60252554e-02, -1.56114977e-01,  6.30873590e-02]])"
      ]
     },
     "execution_count": 100,
     "metadata": {},
     "output_type": "execute_result"
    }
   ],
   "source": [
    "X_pca"
   ]
  },
  {
   "cell_type": "code",
   "execution_count": 101,
   "metadata": {},
   "outputs": [
    {
     "data": {
      "text/plain": [
       "array([0.6 , 0.5 , 0.85, 0.8 , 0.8 , 0.65, 0.85, 0.85, 0.8 , 0.85])"
      ]
     },
     "execution_count": 101,
     "metadata": {},
     "output_type": "execute_result"
    }
   ],
   "source": [
    "clf = MLPClassifier(hidden_layer_sizes=(100, 100, 100), max_iter=1000)\n",
    "cv_scores = cross_val_score(clf, X_pca, y, cv=10)\n",
    "\n",
    "cv_scores"
   ]
  },
  {
   "cell_type": "code",
   "execution_count": 102,
   "metadata": {},
   "outputs": [
    {
     "data": {
      "text/plain": [
       "((160, 7), (40, 7), (160,), (40,))"
      ]
     },
     "execution_count": 102,
     "metadata": {},
     "output_type": "execute_result"
    }
   ],
   "source": [
    "# split X_pca into training and test sets\n",
    "\n",
    "X_train, X_test, y_train, y_test = train_test_split(X_pca, y, test_size=0.2)\n",
    "\n",
    "X_train.shape, X_test.shape, y_train.shape, y_test.shape"
   ]
  },
  {
   "cell_type": "code",
   "execution_count": 103,
   "metadata": {},
   "outputs": [
    {
     "data": {
      "text/plain": [
       "{'hidden_layer_sizes': (100, 100, 100)}"
      ]
     },
     "execution_count": 103,
     "metadata": {},
     "output_type": "execute_result"
    }
   ],
   "source": [
    "# pick best model for classification\n",
    "\n",
    "parameters = {'hidden_layer_sizes': [(100, 100, 100), (100, 100, 100, 100), (100, 100, 100, 100, 100)]}\n",
    "clf = GridSearchCV(MLPClassifier(max_iter=1000), parameters, cv=10)\n",
    "clf.fit(X_train, y_train)\n",
    "\n",
    "clf.best_params_"
   ]
  },
  {
   "cell_type": "code",
   "execution_count": 104,
   "metadata": {},
   "outputs": [
    {
     "data": {
      "text/plain": [
       "array(['ai', 'ai', 'ai', 'ai', 'ai', 'ai', 'ai', 'human', 'human', 'ai',\n",
       "       'ai', 'ai', 'ai', 'ai', 'human', 'human', 'ai', 'human', 'ai',\n",
       "       'ai', 'ai', 'human', 'human', 'ai', 'ai', 'human', 'human', 'ai',\n",
       "       'ai', 'ai', 'human', 'human', 'ai', 'ai', 'human', 'ai', 'human',\n",
       "       'ai', 'ai', 'ai'], dtype='<U5')"
      ]
     },
     "execution_count": 104,
     "metadata": {},
     "output_type": "execute_result"
    }
   ],
   "source": [
    "# predict labels for test set\n",
    "y_pred = clf.predict(X_test)\n",
    "\n",
    "y_pred"
   ]
  },
  {
   "cell_type": "code",
   "execution_count": 105,
   "metadata": {},
   "outputs": [
    {
     "data": {
      "text/plain": [
       "0.725"
      ]
     },
     "execution_count": 105,
     "metadata": {},
     "output_type": "execute_result"
    }
   ],
   "source": [
    "# calculate accuracy\n",
    "\n",
    "tt_score = accuracy_score(y_test, y_pred)\n",
    "tt_score"
   ]
  },
  {
   "cell_type": "code",
   "execution_count": 106,
   "metadata": {},
   "outputs": [],
   "source": [
    "# add cross validation and train test split accuracies to accuracies dictionary\n",
    "\n",
    "accuracies['cross_val_score'][accuracy_key] = cv_scores\n",
    "accuracies['train_test_split'][accuracy_key] = tt_score\n",
    "n_features += 1"
   ]
  },
  {
   "cell_type": "markdown",
   "metadata": {},
   "source": [
    "## Training with 8 features:\n",
    "---"
   ]
  },
  {
   "cell_type": "code",
   "execution_count": 107,
   "metadata": {},
   "outputs": [
    {
     "data": {
      "text/plain": [
       "(200, 8)"
      ]
     },
     "execution_count": 107,
     "metadata": {},
     "output_type": "execute_result"
    }
   ],
   "source": [
    "X_pca = X_pca_with_features[n_features]\n",
    "accuracy_key = str(n_features) + '_features'\n",
    "\n",
    "X_pca.shape"
   ]
  },
  {
   "cell_type": "code",
   "execution_count": 108,
   "metadata": {},
   "outputs": [
    {
     "data": {
      "text/plain": [
       "array([[-6.73705032e+00, -4.35090214e+00, -2.14744296e+00, ...,\n",
       "        -2.42570873e-02,  2.59540817e-02, -1.14200482e-02],\n",
       "       [-1.82385625e+00, -7.30405219e-01, -8.30845234e-01, ...,\n",
       "        -9.38881363e-02,  2.38493412e-02, -2.74972040e-03],\n",
       "       [-1.13315213e+01,  2.43353787e+00,  1.85745442e-01, ...,\n",
       "        -2.08542342e-02,  2.11781536e-02, -1.47743833e-03],\n",
       "       ...,\n",
       "       [ 2.44656654e+01, -6.34616216e+00, -2.72400123e+00, ...,\n",
       "         8.09340307e-02, -2.92279696e-02,  5.41788266e-03],\n",
       "       [-1.41370621e+01,  1.34360226e+01,  2.29599680e+00, ...,\n",
       "         6.86380130e-02, -5.32082763e-02, -5.44905327e-03],\n",
       "       [ 2.26982704e+01, -6.40612259e+00,  5.61119662e+00, ...,\n",
       "        -1.56114977e-01,  6.30873590e-02, -1.37171233e-02]])"
      ]
     },
     "execution_count": 108,
     "metadata": {},
     "output_type": "execute_result"
    }
   ],
   "source": [
    "X_pca"
   ]
  },
  {
   "cell_type": "code",
   "execution_count": 109,
   "metadata": {},
   "outputs": [
    {
     "data": {
      "text/plain": [
       "array([0.6 , 0.5 , 0.85, 0.85, 0.8 , 0.7 , 0.75, 0.8 , 0.85, 0.85])"
      ]
     },
     "execution_count": 109,
     "metadata": {},
     "output_type": "execute_result"
    }
   ],
   "source": [
    "clf = MLPClassifier(hidden_layer_sizes=(100, 100, 100), max_iter=1000)\n",
    "cv_scores = cross_val_score(clf, X_pca, y, cv=10)\n",
    "\n",
    "cv_scores"
   ]
  },
  {
   "cell_type": "code",
   "execution_count": 110,
   "metadata": {},
   "outputs": [
    {
     "data": {
      "text/plain": [
       "((160, 8), (40, 8), (160,), (40,))"
      ]
     },
     "execution_count": 110,
     "metadata": {},
     "output_type": "execute_result"
    }
   ],
   "source": [
    "# split X_pca into training and test sets\n",
    "\n",
    "X_train, X_test, y_train, y_test = train_test_split(X_pca, y, test_size=0.2)\n",
    "\n",
    "X_train.shape, X_test.shape, y_train.shape, y_test.shape"
   ]
  },
  {
   "cell_type": "code",
   "execution_count": 111,
   "metadata": {},
   "outputs": [
    {
     "data": {
      "text/plain": [
       "{'hidden_layer_sizes': (100, 100, 100)}"
      ]
     },
     "execution_count": 111,
     "metadata": {},
     "output_type": "execute_result"
    }
   ],
   "source": [
    "# pick best model for classification\n",
    "\n",
    "parameters = {'hidden_layer_sizes': [(100, 100, 100), (100, 100, 100, 100), (100, 100, 100, 100, 100)]}\n",
    "clf = GridSearchCV(MLPClassifier(max_iter=1000), parameters, cv=10)\n",
    "clf.fit(X_train, y_train)\n",
    "\n",
    "clf.best_params_"
   ]
  },
  {
   "cell_type": "code",
   "execution_count": 112,
   "metadata": {},
   "outputs": [
    {
     "data": {
      "text/plain": [
       "array(['human', 'ai', 'human', 'human', 'human', 'human', 'ai', 'human',\n",
       "       'ai', 'ai', 'human', 'ai', 'ai', 'human', 'ai', 'human', 'human',\n",
       "       'ai', 'ai', 'human', 'ai', 'human', 'ai', 'ai', 'human', 'ai',\n",
       "       'human', 'human', 'ai', 'ai', 'ai', 'ai', 'ai', 'ai', 'ai', 'ai',\n",
       "       'human', 'human', 'ai', 'human'], dtype='<U5')"
      ]
     },
     "execution_count": 112,
     "metadata": {},
     "output_type": "execute_result"
    }
   ],
   "source": [
    "# predict labels for test set\n",
    "y_pred = clf.predict(X_test)\n",
    "\n",
    "y_pred"
   ]
  },
  {
   "cell_type": "code",
   "execution_count": 113,
   "metadata": {},
   "outputs": [
    {
     "data": {
      "text/plain": [
       "0.8"
      ]
     },
     "execution_count": 113,
     "metadata": {},
     "output_type": "execute_result"
    }
   ],
   "source": [
    "# calculate accuracy\n",
    "\n",
    "tt_score = accuracy_score(y_test, y_pred)\n",
    "tt_score"
   ]
  },
  {
   "cell_type": "code",
   "execution_count": 114,
   "metadata": {},
   "outputs": [],
   "source": [
    "# add cross validation and train test split accuracies to accuracies dictionary\n",
    "\n",
    "accuracies['cross_val_score'][accuracy_key] = cv_scores\n",
    "accuracies['train_test_split'][accuracy_key] = tt_score\n",
    "n_features += 1"
   ]
  },
  {
   "cell_type": "markdown",
   "metadata": {},
   "source": [
    "## Training with 9 features:\n",
    "---"
   ]
  },
  {
   "cell_type": "code",
   "execution_count": 115,
   "metadata": {},
   "outputs": [
    {
     "data": {
      "text/plain": [
       "(200, 9)"
      ]
     },
     "execution_count": 115,
     "metadata": {},
     "output_type": "execute_result"
    }
   ],
   "source": [
    "X_pca = X_pca_with_features[n_features]\n",
    "accuracy_key = str(n_features) + '_features'\n",
    "\n",
    "X_pca.shape"
   ]
  },
  {
   "cell_type": "code",
   "execution_count": 116,
   "metadata": {},
   "outputs": [
    {
     "data": {
      "text/plain": [
       "array([[-6.73705032e+00, -4.35090214e+00, -2.14744296e+00, ...,\n",
       "         2.59540817e-02, -1.14200482e-02, -1.71332068e-02],\n",
       "       [-1.82385625e+00, -7.30405219e-01, -8.30845234e-01, ...,\n",
       "         2.38493412e-02, -2.74972040e-03,  2.39115503e-03],\n",
       "       [-1.13315213e+01,  2.43353787e+00,  1.85745442e-01, ...,\n",
       "         2.11781536e-02, -1.47743833e-03,  4.68667642e-03],\n",
       "       ...,\n",
       "       [ 2.44656654e+01, -6.34616216e+00, -2.72400123e+00, ...,\n",
       "        -2.92279696e-02,  5.41788266e-03, -1.10047444e-02],\n",
       "       [-1.41370621e+01,  1.34360226e+01,  2.29599680e+00, ...,\n",
       "        -5.32082763e-02, -5.44905327e-03, -9.67420402e-03],\n",
       "       [ 2.26982704e+01, -6.40612259e+00,  5.61119662e+00, ...,\n",
       "         6.30873590e-02, -1.37171233e-02,  1.01076121e-02]])"
      ]
     },
     "execution_count": 116,
     "metadata": {},
     "output_type": "execute_result"
    }
   ],
   "source": [
    "X_pca"
   ]
  },
  {
   "cell_type": "code",
   "execution_count": 117,
   "metadata": {},
   "outputs": [
    {
     "data": {
      "text/plain": [
       "array([0.65, 0.55, 0.9 , 0.9 , 0.85, 0.7 , 0.85, 0.7 , 0.8 , 0.9 ])"
      ]
     },
     "execution_count": 117,
     "metadata": {},
     "output_type": "execute_result"
    }
   ],
   "source": [
    "clf = MLPClassifier(hidden_layer_sizes=(100, 100, 100), max_iter=1000)\n",
    "cv_scores = cross_val_score(clf, X_pca, y, cv=10)\n",
    "\n",
    "cv_scores"
   ]
  },
  {
   "cell_type": "code",
   "execution_count": 118,
   "metadata": {},
   "outputs": [
    {
     "data": {
      "text/plain": [
       "((160, 9), (40, 9), (160,), (40,))"
      ]
     },
     "execution_count": 118,
     "metadata": {},
     "output_type": "execute_result"
    }
   ],
   "source": [
    "# split X_pca into training and test sets\n",
    "\n",
    "X_train, X_test, y_train, y_test = train_test_split(X_pca, y, test_size=0.2)\n",
    "\n",
    "X_train.shape, X_test.shape, y_train.shape, y_test.shape"
   ]
  },
  {
   "cell_type": "code",
   "execution_count": 119,
   "metadata": {},
   "outputs": [
    {
     "data": {
      "text/plain": [
       "{'hidden_layer_sizes': (100, 100, 100, 100)}"
      ]
     },
     "execution_count": 119,
     "metadata": {},
     "output_type": "execute_result"
    }
   ],
   "source": [
    "# pick best model for classification\n",
    "\n",
    "parameters = {'hidden_layer_sizes': [(100, 100, 100), (100, 100, 100, 100), (100, 100, 100, 100, 100)]}\n",
    "clf = GridSearchCV(MLPClassifier(max_iter=1000), parameters, cv=10)\n",
    "clf.fit(X_train, y_train)\n",
    "\n",
    "clf.best_params_"
   ]
  },
  {
   "cell_type": "code",
   "execution_count": 120,
   "metadata": {},
   "outputs": [
    {
     "data": {
      "text/plain": [
       "array(['human', 'human', 'ai', 'ai', 'ai', 'human', 'human', 'human',\n",
       "       'human', 'human', 'ai', 'ai', 'ai', 'human', 'human', 'human',\n",
       "       'human', 'human', 'human', 'human', 'human', 'human', 'ai', 'ai',\n",
       "       'human', 'ai', 'human', 'human', 'ai', 'human', 'ai', 'ai',\n",
       "       'human', 'human', 'ai', 'human', 'ai', 'human', 'ai', 'human'],\n",
       "      dtype='<U5')"
      ]
     },
     "execution_count": 120,
     "metadata": {},
     "output_type": "execute_result"
    }
   ],
   "source": [
    "# predict labels for test set\n",
    "y_pred = clf.predict(X_test)\n",
    "\n",
    "y_pred"
   ]
  },
  {
   "cell_type": "code",
   "execution_count": 121,
   "metadata": {},
   "outputs": [
    {
     "data": {
      "text/plain": [
       "0.825"
      ]
     },
     "execution_count": 121,
     "metadata": {},
     "output_type": "execute_result"
    }
   ],
   "source": [
    "# calculate accuracy\n",
    "\n",
    "tt_score = accuracy_score(y_test, y_pred)\n",
    "tt_score"
   ]
  },
  {
   "cell_type": "code",
   "execution_count": 122,
   "metadata": {},
   "outputs": [],
   "source": [
    "# add cross validation and train test split accuracies to accuracies dictionary\n",
    "\n",
    "accuracies['cross_val_score'][accuracy_key] = cv_scores\n",
    "accuracies['train_test_split'][accuracy_key] = tt_score\n",
    "n_features += 1"
   ]
  },
  {
   "cell_type": "markdown",
   "metadata": {},
   "source": [
    "## Training with 10 features:\n",
    "---"
   ]
  },
  {
   "cell_type": "code",
   "execution_count": 123,
   "metadata": {},
   "outputs": [
    {
     "data": {
      "text/plain": [
       "(200, 10)"
      ]
     },
     "execution_count": 123,
     "metadata": {},
     "output_type": "execute_result"
    }
   ],
   "source": [
    "X_pca = X_pca_with_features[n_features]\n",
    "accuracy_key = str(n_features) + '_features'\n",
    "\n",
    "X_pca.shape"
   ]
  },
  {
   "cell_type": "code",
   "execution_count": 124,
   "metadata": {},
   "outputs": [
    {
     "data": {
      "text/plain": [
       "array([[-6.73705032e+00, -4.35090214e+00, -2.14744296e+00, ...,\n",
       "        -1.14200482e-02, -1.71332068e-02, -1.44298099e-02],\n",
       "       [-1.82385625e+00, -7.30405219e-01, -8.30845234e-01, ...,\n",
       "        -2.74972040e-03,  2.39115503e-03, -7.27628029e-03],\n",
       "       [-1.13315213e+01,  2.43353787e+00,  1.85745442e-01, ...,\n",
       "        -1.47743833e-03,  4.68667642e-03, -1.05491527e-02],\n",
       "       ...,\n",
       "       [ 2.44656654e+01, -6.34616216e+00, -2.72400123e+00, ...,\n",
       "         5.41788266e-03, -1.10047444e-02,  3.18074989e-02],\n",
       "       [-1.41370621e+01,  1.34360226e+01,  2.29599680e+00, ...,\n",
       "        -5.44905327e-03, -9.67420402e-03,  6.71799673e-03],\n",
       "       [ 2.26982704e+01, -6.40612259e+00,  5.61119662e+00, ...,\n",
       "        -1.37171233e-02,  1.01076121e-02,  1.98722928e-02]])"
      ]
     },
     "execution_count": 124,
     "metadata": {},
     "output_type": "execute_result"
    }
   ],
   "source": [
    "X_pca"
   ]
  },
  {
   "cell_type": "code",
   "execution_count": 125,
   "metadata": {},
   "outputs": [
    {
     "data": {
      "text/plain": [
       "array([0.55, 0.45, 0.85, 0.75, 0.9 , 0.7 , 0.8 , 0.8 , 0.85, 0.9 ])"
      ]
     },
     "execution_count": 125,
     "metadata": {},
     "output_type": "execute_result"
    }
   ],
   "source": [
    "clf = MLPClassifier(hidden_layer_sizes=(100, 100, 100), max_iter=1000)\n",
    "cv_scores = cross_val_score(clf, X_pca, y, cv=10)\n",
    "\n",
    "cv_scores"
   ]
  },
  {
   "cell_type": "code",
   "execution_count": 126,
   "metadata": {},
   "outputs": [
    {
     "data": {
      "text/plain": [
       "((160, 10), (40, 10), (160,), (40,))"
      ]
     },
     "execution_count": 126,
     "metadata": {},
     "output_type": "execute_result"
    }
   ],
   "source": [
    "# split X_pca into training and test sets\n",
    "\n",
    "X_train, X_test, y_train, y_test = train_test_split(X_pca, y, test_size=0.2)\n",
    "\n",
    "X_train.shape, X_test.shape, y_train.shape, y_test.shape"
   ]
  },
  {
   "cell_type": "code",
   "execution_count": 127,
   "metadata": {},
   "outputs": [
    {
     "data": {
      "text/plain": [
       "{'hidden_layer_sizes': (100, 100, 100, 100, 100)}"
      ]
     },
     "execution_count": 127,
     "metadata": {},
     "output_type": "execute_result"
    }
   ],
   "source": [
    "# pick best model for classification\n",
    "\n",
    "parameters = {'hidden_layer_sizes': [(100, 100, 100), (100, 100, 100, 100), (100, 100, 100, 100, 100)]}\n",
    "clf = GridSearchCV(MLPClassifier(max_iter=1000), parameters, cv=10)\n",
    "clf.fit(X_train, y_train)\n",
    "\n",
    "clf.best_params_"
   ]
  },
  {
   "cell_type": "code",
   "execution_count": 128,
   "metadata": {},
   "outputs": [
    {
     "data": {
      "text/plain": [
       "array(['ai', 'human', 'ai', 'human', 'human', 'human', 'ai', 'human',\n",
       "       'human', 'ai', 'human', 'human', 'ai', 'ai', 'human', 'ai', 'ai',\n",
       "       'ai', 'ai', 'human', 'human', 'human', 'ai', 'human', 'ai', 'ai',\n",
       "       'ai', 'human', 'ai', 'human', 'human', 'human', 'ai', 'ai', 'ai',\n",
       "       'human', 'human', 'ai', 'ai', 'human'], dtype='<U5')"
      ]
     },
     "execution_count": 128,
     "metadata": {},
     "output_type": "execute_result"
    }
   ],
   "source": [
    "# predict labels for test set\n",
    "y_pred = clf.predict(X_test)\n",
    "\n",
    "y_pred"
   ]
  },
  {
   "cell_type": "code",
   "execution_count": 129,
   "metadata": {},
   "outputs": [
    {
     "data": {
      "text/plain": [
       "0.75"
      ]
     },
     "execution_count": 129,
     "metadata": {},
     "output_type": "execute_result"
    }
   ],
   "source": [
    "# calculate accuracy\n",
    "\n",
    "tt_score = accuracy_score(y_test, y_pred)\n",
    "tt_score"
   ]
  },
  {
   "cell_type": "code",
   "execution_count": 130,
   "metadata": {},
   "outputs": [],
   "source": [
    "# add cross validation and train test split accuracies to accuracies dictionary\n",
    "\n",
    "accuracies['cross_val_score'][accuracy_key] = cv_scores\n",
    "accuracies['train_test_split'][accuracy_key] = tt_score\n",
    "n_features += 1"
   ]
  },
  {
   "cell_type": "markdown",
   "metadata": {},
   "source": [
    "## Training with 11 features:\n",
    "---"
   ]
  },
  {
   "cell_type": "code",
   "execution_count": 131,
   "metadata": {},
   "outputs": [
    {
     "data": {
      "text/plain": [
       "(200, 11)"
      ]
     },
     "execution_count": 131,
     "metadata": {},
     "output_type": "execute_result"
    }
   ],
   "source": [
    "X_pca = X_pca_with_features[n_features]\n",
    "accuracy_key = str(n_features) + '_features'\n",
    "\n",
    "X_pca.shape"
   ]
  },
  {
   "cell_type": "code",
   "execution_count": 132,
   "metadata": {},
   "outputs": [
    {
     "data": {
      "text/plain": [
       "array([[-6.73705032e+00, -4.35090214e+00, -2.14744296e+00, ...,\n",
       "        -1.71332068e-02, -1.44298099e-02, -2.94818534e-03],\n",
       "       [-1.82385625e+00, -7.30405219e-01, -8.30845234e-01, ...,\n",
       "         2.39115503e-03, -7.27628029e-03, -9.79030717e-03],\n",
       "       [-1.13315213e+01,  2.43353787e+00,  1.85745442e-01, ...,\n",
       "         4.68667642e-03, -1.05491527e-02, -1.62571511e-02],\n",
       "       ...,\n",
       "       [ 2.44656654e+01, -6.34616216e+00, -2.72400123e+00, ...,\n",
       "        -1.10047444e-02,  3.18074989e-02, -6.06475969e-03],\n",
       "       [-1.41370621e+01,  1.34360226e+01,  2.29599680e+00, ...,\n",
       "        -9.67420402e-03,  6.71799673e-03, -1.34644169e-02],\n",
       "       [ 2.26982704e+01, -6.40612259e+00,  5.61119662e+00, ...,\n",
       "         1.01076121e-02,  1.98722928e-02,  2.87135861e-03]])"
      ]
     },
     "execution_count": 132,
     "metadata": {},
     "output_type": "execute_result"
    }
   ],
   "source": [
    "X_pca"
   ]
  },
  {
   "cell_type": "code",
   "execution_count": 133,
   "metadata": {},
   "outputs": [
    {
     "data": {
      "text/plain": [
       "array([0.6 , 0.5 , 0.9 , 0.85, 0.75, 0.7 , 0.75, 0.85, 0.8 , 0.85])"
      ]
     },
     "execution_count": 133,
     "metadata": {},
     "output_type": "execute_result"
    }
   ],
   "source": [
    "clf = MLPClassifier(hidden_layer_sizes=(100, 100, 100), max_iter=1000)\n",
    "cv_scores = cross_val_score(clf, X_pca, y, cv=10)\n",
    "\n",
    "cv_scores"
   ]
  },
  {
   "cell_type": "code",
   "execution_count": 134,
   "metadata": {},
   "outputs": [
    {
     "data": {
      "text/plain": [
       "((160, 11), (40, 11), (160,), (40,))"
      ]
     },
     "execution_count": 134,
     "metadata": {},
     "output_type": "execute_result"
    }
   ],
   "source": [
    "# split X_pca into training and test sets\n",
    "\n",
    "X_train, X_test, y_train, y_test = train_test_split(X_pca, y, test_size=0.2)\n",
    "\n",
    "X_train.shape, X_test.shape, y_train.shape, y_test.shape"
   ]
  },
  {
   "cell_type": "code",
   "execution_count": 135,
   "metadata": {},
   "outputs": [
    {
     "data": {
      "text/plain": [
       "{'hidden_layer_sizes': (100, 100, 100)}"
      ]
     },
     "execution_count": 135,
     "metadata": {},
     "output_type": "execute_result"
    }
   ],
   "source": [
    "# pick best model for classification\n",
    "\n",
    "parameters = {'hidden_layer_sizes': [(100, 100, 100), (100, 100, 100, 100), (100, 100, 100, 100, 100)]}\n",
    "clf = GridSearchCV(MLPClassifier(max_iter=1000), parameters, cv=10)\n",
    "clf.fit(X_train, y_train)\n",
    "\n",
    "clf.best_params_"
   ]
  },
  {
   "cell_type": "code",
   "execution_count": 136,
   "metadata": {},
   "outputs": [
    {
     "data": {
      "text/plain": [
       "array(['human', 'ai', 'human', 'ai', 'human', 'ai', 'human', 'human',\n",
       "       'human', 'ai', 'human', 'human', 'human', 'human', 'ai', 'ai',\n",
       "       'ai', 'ai', 'ai', 'ai', 'human', 'ai', 'human', 'human', 'human',\n",
       "       'ai', 'human', 'ai', 'ai', 'ai', 'human', 'ai', 'ai', 'human',\n",
       "       'ai', 'human', 'ai', 'ai', 'ai', 'human'], dtype='<U5')"
      ]
     },
     "execution_count": 136,
     "metadata": {},
     "output_type": "execute_result"
    }
   ],
   "source": [
    "# predict labels for test set\n",
    "y_pred = clf.predict(X_test)\n",
    "\n",
    "y_pred"
   ]
  },
  {
   "cell_type": "code",
   "execution_count": 137,
   "metadata": {},
   "outputs": [
    {
     "data": {
      "text/plain": [
       "0.625"
      ]
     },
     "execution_count": 137,
     "metadata": {},
     "output_type": "execute_result"
    }
   ],
   "source": [
    "# calculate accuracy\n",
    "\n",
    "tt_score = accuracy_score(y_test, y_pred)\n",
    "tt_score"
   ]
  },
  {
   "cell_type": "code",
   "execution_count": 138,
   "metadata": {},
   "outputs": [],
   "source": [
    "# add cross validation and train test split accuracies to accuracies dictionary\n",
    "\n",
    "accuracies['cross_val_score'][accuracy_key] = cv_scores\n",
    "accuracies['train_test_split'][accuracy_key] = tt_score\n",
    "n_features += 1"
   ]
  },
  {
   "cell_type": "markdown",
   "metadata": {},
   "source": [
    "## Training with 12 features:\n",
    "---"
   ]
  },
  {
   "cell_type": "code",
   "execution_count": 139,
   "metadata": {},
   "outputs": [
    {
     "data": {
      "text/plain": [
       "(200, 12)"
      ]
     },
     "execution_count": 139,
     "metadata": {},
     "output_type": "execute_result"
    }
   ],
   "source": [
    "X_pca = X_pca_with_features[n_features]\n",
    "accuracy_key = str(n_features) + '_features'\n",
    "\n",
    "X_pca.shape"
   ]
  },
  {
   "cell_type": "code",
   "execution_count": 140,
   "metadata": {},
   "outputs": [
    {
     "data": {
      "text/plain": [
       "array([[-6.73705032e+00, -4.35090214e+00, -2.14744296e+00, ...,\n",
       "        -1.44298099e-02, -2.94818534e-03, -5.00552188e-16],\n",
       "       [-1.82385625e+00, -7.30405219e-01, -8.30845234e-01, ...,\n",
       "        -7.27628029e-03, -9.79030717e-03, -2.40709718e-16],\n",
       "       [-1.13315213e+01,  2.43353787e+00,  1.85745442e-01, ...,\n",
       "        -1.05491527e-02, -1.62571511e-02,  1.65144385e-16],\n",
       "       ...,\n",
       "       [ 2.44656654e+01, -6.34616216e+00, -2.72400123e+00, ...,\n",
       "         3.18074989e-02, -6.06475969e-03,  4.19597207e-16],\n",
       "       [-1.41370621e+01,  1.34360226e+01,  2.29599680e+00, ...,\n",
       "         6.71799673e-03, -1.34644169e-02, -3.47733633e-17],\n",
       "       [ 2.26982704e+01, -6.40612259e+00,  5.61119662e+00, ...,\n",
       "         1.98722928e-02,  2.87135861e-03, -5.71508883e-16]])"
      ]
     },
     "execution_count": 140,
     "metadata": {},
     "output_type": "execute_result"
    }
   ],
   "source": [
    "X_pca"
   ]
  },
  {
   "cell_type": "code",
   "execution_count": 141,
   "metadata": {},
   "outputs": [
    {
     "data": {
      "text/plain": [
       "array([0.55, 0.5 , 0.85, 0.8 , 0.8 , 0.75, 0.85, 0.75, 0.7 , 0.95])"
      ]
     },
     "execution_count": 141,
     "metadata": {},
     "output_type": "execute_result"
    }
   ],
   "source": [
    "clf = MLPClassifier(hidden_layer_sizes=(100, 100, 100), max_iter=1000)\n",
    "cv_scores = cross_val_score(clf, X_pca, y, cv=10)\n",
    "\n",
    "cv_scores"
   ]
  },
  {
   "cell_type": "code",
   "execution_count": 142,
   "metadata": {},
   "outputs": [
    {
     "data": {
      "text/plain": [
       "((160, 12), (40, 12), (160,), (40,))"
      ]
     },
     "execution_count": 142,
     "metadata": {},
     "output_type": "execute_result"
    }
   ],
   "source": [
    "# split X_pca into training and test sets\n",
    "\n",
    "X_train, X_test, y_train, y_test = train_test_split(X_pca, y, test_size=0.2)\n",
    "\n",
    "X_train.shape, X_test.shape, y_train.shape, y_test.shape"
   ]
  },
  {
   "cell_type": "code",
   "execution_count": 143,
   "metadata": {},
   "outputs": [
    {
     "data": {
      "text/plain": [
       "{'hidden_layer_sizes': (100, 100, 100, 100)}"
      ]
     },
     "execution_count": 143,
     "metadata": {},
     "output_type": "execute_result"
    }
   ],
   "source": [
    "# pick best model for classification\n",
    "\n",
    "parameters = {'hidden_layer_sizes': [(100, 100, 100), (100, 100, 100, 100), (100, 100, 100, 100, 100)]}\n",
    "clf = GridSearchCV(MLPClassifier(max_iter=1000), parameters, cv=10)\n",
    "clf.fit(X_train, y_train)\n",
    "\n",
    "clf.best_params_"
   ]
  },
  {
   "cell_type": "code",
   "execution_count": 144,
   "metadata": {},
   "outputs": [
    {
     "data": {
      "text/plain": [
       "array(['human', 'human', 'human', 'human', 'human', 'ai', 'human',\n",
       "       'human', 'ai', 'ai', 'human', 'ai', 'human', 'human', 'ai', 'ai',\n",
       "       'ai', 'human', 'human', 'human', 'ai', 'human', 'human', 'ai',\n",
       "       'ai', 'ai', 'human', 'human', 'human', 'human', 'human', 'human',\n",
       "       'human', 'ai', 'human', 'human', 'human', 'human', 'human', 'ai'],\n",
       "      dtype='<U5')"
      ]
     },
     "execution_count": 144,
     "metadata": {},
     "output_type": "execute_result"
    }
   ],
   "source": [
    "# predict labels for test set\n",
    "y_pred = clf.predict(X_test)\n",
    "\n",
    "y_pred"
   ]
  },
  {
   "cell_type": "code",
   "execution_count": 145,
   "metadata": {},
   "outputs": [
    {
     "data": {
      "text/plain": [
       "0.775"
      ]
     },
     "execution_count": 145,
     "metadata": {},
     "output_type": "execute_result"
    }
   ],
   "source": [
    "# calculate accuracy\n",
    "\n",
    "tt_score = accuracy_score(y_test, y_pred)\n",
    "tt_score"
   ]
  },
  {
   "cell_type": "code",
   "execution_count": 146,
   "metadata": {},
   "outputs": [],
   "source": [
    "# add cross validation and train test split accuracies to accuracies dictionary\n",
    "\n",
    "accuracies['cross_val_score'][accuracy_key] = cv_scores\n",
    "accuracies['train_test_split'][accuracy_key] = tt_score\n",
    "n_features += 1"
   ]
  },
  {
   "cell_type": "markdown",
   "metadata": {},
   "source": [
    "## Training with 13 features:\n",
    "---"
   ]
  },
  {
   "cell_type": "code",
   "execution_count": 147,
   "metadata": {},
   "outputs": [
    {
     "data": {
      "text/plain": [
       "(200, 13)"
      ]
     },
     "execution_count": 147,
     "metadata": {},
     "output_type": "execute_result"
    }
   ],
   "source": [
    "X_pca = X_pca_with_features[n_features]\n",
    "accuracy_key = str(n_features) + '_features'\n",
    "\n",
    "X_pca.shape"
   ]
  },
  {
   "cell_type": "code",
   "execution_count": 148,
   "metadata": {},
   "outputs": [
    {
     "data": {
      "text/plain": [
       "array([[-6.73705032e+00, -4.35090214e+00, -2.14744296e+00, ...,\n",
       "        -2.94818534e-03, -5.00552188e-16, -0.00000000e+00],\n",
       "       [-1.82385625e+00, -7.30405219e-01, -8.30845234e-01, ...,\n",
       "        -9.79030717e-03, -2.40709718e-16,  0.00000000e+00],\n",
       "       [-1.13315213e+01,  2.43353787e+00,  1.85745442e-01, ...,\n",
       "        -1.62571511e-02,  1.65144385e-16,  0.00000000e+00],\n",
       "       ...,\n",
       "       [ 2.44656654e+01, -6.34616216e+00, -2.72400123e+00, ...,\n",
       "        -6.06475969e-03,  4.19597207e-16,  0.00000000e+00],\n",
       "       [-1.41370621e+01,  1.34360226e+01,  2.29599680e+00, ...,\n",
       "        -1.34644169e-02, -3.47733633e-17,  0.00000000e+00],\n",
       "       [ 2.26982704e+01, -6.40612259e+00,  5.61119662e+00, ...,\n",
       "         2.87135861e-03, -5.71508883e-16,  0.00000000e+00]])"
      ]
     },
     "execution_count": 148,
     "metadata": {},
     "output_type": "execute_result"
    }
   ],
   "source": [
    "X_pca"
   ]
  },
  {
   "cell_type": "code",
   "execution_count": 149,
   "metadata": {},
   "outputs": [
    {
     "data": {
      "text/plain": [
       "array([0.55, 0.45, 0.85, 0.8 , 0.75, 0.7 , 0.85, 0.8 , 0.8 , 0.85])"
      ]
     },
     "execution_count": 149,
     "metadata": {},
     "output_type": "execute_result"
    }
   ],
   "source": [
    "clf = MLPClassifier(hidden_layer_sizes=(100, 100, 100), max_iter=1000)\n",
    "cv_scores = cross_val_score(clf, X_pca, y, cv=10)\n",
    "\n",
    "cv_scores"
   ]
  },
  {
   "cell_type": "code",
   "execution_count": 150,
   "metadata": {},
   "outputs": [
    {
     "data": {
      "text/plain": [
       "((160, 13), (40, 13), (160,), (40,))"
      ]
     },
     "execution_count": 150,
     "metadata": {},
     "output_type": "execute_result"
    }
   ],
   "source": [
    "# split X_pca into training and test sets\n",
    "\n",
    "X_train, X_test, y_train, y_test = train_test_split(X_pca, y, test_size=0.2)\n",
    "\n",
    "X_train.shape, X_test.shape, y_train.shape, y_test.shape"
   ]
  },
  {
   "cell_type": "code",
   "execution_count": 151,
   "metadata": {},
   "outputs": [
    {
     "data": {
      "text/plain": [
       "{'hidden_layer_sizes': (100, 100, 100)}"
      ]
     },
     "execution_count": 151,
     "metadata": {},
     "output_type": "execute_result"
    }
   ],
   "source": [
    "# pick best model for classification\n",
    "\n",
    "parameters = {'hidden_layer_sizes': [(100, 100, 100), (100, 100, 100, 100), (100, 100, 100, 100, 100)]}\n",
    "clf = GridSearchCV(MLPClassifier(max_iter=1000), parameters, cv=10)\n",
    "clf.fit(X_train, y_train)\n",
    "\n",
    "clf.best_params_"
   ]
  },
  {
   "cell_type": "code",
   "execution_count": 152,
   "metadata": {},
   "outputs": [
    {
     "data": {
      "text/plain": [
       "array(['human', 'human', 'human', 'ai', 'human', 'ai', 'human', 'human',\n",
       "       'ai', 'ai', 'ai', 'human', 'human', 'human', 'human', 'ai', 'ai',\n",
       "       'ai', 'ai', 'ai', 'ai', 'ai', 'human', 'ai', 'human', 'human',\n",
       "       'human', 'human', 'human', 'human', 'ai', 'ai', 'ai', 'ai', 'ai',\n",
       "       'human', 'ai', 'ai', 'ai', 'human'], dtype='<U5')"
      ]
     },
     "execution_count": 152,
     "metadata": {},
     "output_type": "execute_result"
    }
   ],
   "source": [
    "# predict labels for test set\n",
    "y_pred = clf.predict(X_test)\n",
    "\n",
    "y_pred"
   ]
  },
  {
   "cell_type": "code",
   "execution_count": 153,
   "metadata": {},
   "outputs": [
    {
     "data": {
      "text/plain": [
       "0.75"
      ]
     },
     "execution_count": 153,
     "metadata": {},
     "output_type": "execute_result"
    }
   ],
   "source": [
    "# calculate accuracy\n",
    "\n",
    "tt_score = accuracy_score(y_test, y_pred)\n",
    "tt_score"
   ]
  },
  {
   "cell_type": "code",
   "execution_count": 154,
   "metadata": {},
   "outputs": [],
   "source": [
    "# add cross validation and train test split accuracies to accuracies dictionary\n",
    "\n",
    "accuracies['cross_val_score'][accuracy_key] = cv_scores\n",
    "accuracies['train_test_split'][accuracy_key] = tt_score\n",
    "n_features += 1"
   ]
  },
  {
   "cell_type": "markdown",
   "metadata": {},
   "source": [
    "### Plot results\n",
    "---"
   ]
  },
  {
   "cell_type": "code",
   "execution_count": 155,
   "metadata": {},
   "outputs": [
    {
     "data": {
      "text/plain": [
       "14"
      ]
     },
     "execution_count": 155,
     "metadata": {},
     "output_type": "execute_result"
    }
   ],
   "source": [
    "n_features"
   ]
  },
  {
   "cell_type": "code",
   "execution_count": 159,
   "metadata": {},
   "outputs": [
    {
     "data": {
      "text/plain": [
       "{'cross_val_score': {'2_features': array([0.5 , 0.4 , 0.75, 0.55, 0.55, 0.6 , 0.65, 0.75, 0.7 , 0.55]),\n",
       "  '3_features': array([0.6 , 0.55, 0.8 , 0.8 , 0.7 , 0.7 , 0.75, 0.75, 0.85, 0.75]),\n",
       "  '4_features': array([0.45, 0.5 , 0.9 , 0.8 , 0.8 , 0.75, 0.85, 0.8 , 0.75, 0.9 ]),\n",
       "  '5_features': array([0.55, 0.5 , 0.9 , 0.8 , 0.85, 0.75, 0.85, 0.9 , 0.75, 0.85]),\n",
       "  '6_features': array([0.55, 0.5 , 0.9 , 0.8 , 0.8 , 0.75, 0.8 , 0.85, 0.85, 0.8 ]),\n",
       "  '7_features': array([0.6 , 0.5 , 0.85, 0.8 , 0.8 , 0.65, 0.85, 0.85, 0.8 , 0.85]),\n",
       "  '8_features': array([0.6 , 0.5 , 0.85, 0.85, 0.8 , 0.7 , 0.75, 0.8 , 0.85, 0.85]),\n",
       "  '9_features': array([0.65, 0.55, 0.9 , 0.9 , 0.85, 0.7 , 0.85, 0.7 , 0.8 , 0.9 ]),\n",
       "  '10_features': array([0.55, 0.45, 0.85, 0.75, 0.9 , 0.7 , 0.8 , 0.8 , 0.85, 0.9 ]),\n",
       "  '11_features': array([0.6 , 0.5 , 0.9 , 0.85, 0.75, 0.7 , 0.75, 0.85, 0.8 , 0.85]),\n",
       "  '12_features': array([0.55, 0.5 , 0.85, 0.8 , 0.8 , 0.75, 0.85, 0.75, 0.7 , 0.95]),\n",
       "  '13_features': array([0.55, 0.45, 0.85, 0.8 , 0.75, 0.7 , 0.85, 0.8 , 0.8 , 0.85])},\n",
       " 'train_test_split': {'2_features': 0.65,\n",
       "  '3_features': 0.9,\n",
       "  '4_features': 0.675,\n",
       "  '5_features': 0.725,\n",
       "  '6_features': 0.775,\n",
       "  '7_features': 0.725,\n",
       "  '8_features': 0.8,\n",
       "  '9_features': 0.825,\n",
       "  '10_features': 0.75,\n",
       "  '11_features': 0.625,\n",
       "  '12_features': 0.775,\n",
       "  '13_features': 0.75}}"
      ]
     },
     "execution_count": 159,
     "metadata": {},
     "output_type": "execute_result"
    }
   ],
   "source": [
    "accuracies"
   ]
  },
  {
   "cell_type": "code",
   "execution_count": 193,
   "metadata": {},
   "outputs": [
    {
     "name": "stderr",
     "output_type": "stream",
     "text": [
      "C:\\Users\\19ss3\\AppData\\Local\\Temp\\ipykernel_19260\\3175088451.py:17: FutureWarning: arrays to stack must be passed as a \"sequence\" type such as list or tuple. Support for non-sequence iterables such as generators is deprecated as of NumPy 1.16 and will raise an error in the future.\n",
      "  plt.plot(accuracies['cross_val_score'].keys(), np.mean(np.vstack(accuracies['cross_val_score'].values()), axis=1), label='Cross Validation Mean', lw=4, c='red')\n"
     ]
    },
    {
     "data": {
      "image/png": "[encoded data removed]",
      "text/plain": [
       "<Figure size 2000x1000 with 1 Axes>"
      ]
     },
     "metadata": {},
     "output_type": "display_data"
    }
   ],
   "source": [
    "# plot the accuracies by number of features and n_features\n",
    "\n",
    "import matplotlib.pyplot as plt\n",
    "import seaborn as sns\n",
    "\n",
    "sns.set_style('darkgrid')\n",
    "labels = ['Cross Validation with ' + accuracy_key + ' features' for accuracy_key in accuracies['cross_val_score'].keys()]\n",
    "\n",
    "plt.figure(figsize=(20, 10))\n",
    "# for accuracy_key, scores in accuracies['cross_val_score'].entries():\n",
    "#     print(accuracy_key, '->', scores)\n",
    "    # plt.plot((accuracy_key,), scores, label='Cross Validation with ' + accuracy_key + ' features')\n",
    "# plt.plot([( accuracy_key,) for accuracy_key in accuracies['cross_val_score'].keys() ], np.array(accuracies['cross_val_score'].values()).T.tolist(), label=labels)\n",
    "for accuracy_key, cv_scores in accuracies['cross_val_score'].items():\n",
    "    plt.scatter([accuracy_key] * len(cv_scores), cv_scores, label='individual cross validation')\n",
    "plt.plot(accuracies['cross_val_score'].keys(), np.mean(np.vstack(accuracies['cross_val_score'].values()), axis=1), label='Cross Validation Mean', lw=4, c='red')\n",
    "plt.plot(accuracies['train_test_split'].keys(), accuracies['train_test_split'].values(), label='Train Test Split', lw=4, c='green')\n",
    "plt.xlabel('Number of Features')\n",
    "plt.ylabel('Accuracy')\n",
    "plt.title('Accuracy by Number of Features')\n",
    "plt.legend()\n",
    "plt.savefig('../docs/accuracy_by_number_of_features.png')\n",
    "plt.show()"
   ]
  }
 ],
 "metadata": {
  "kernelspec": {
   "display_name": "Python 3",
   "language": "python",
   "name": "python3"
  },
  "language_info": {
   "codemirror_mode": {
    "name": "ipython",
    "version": 3
   },
   "file_extension": ".py",
   "mimetype": "text/x-python",
   "name": "python",
   "nbconvert_exporter": "python",
   "pygments_lexer": "ipython3",
   "version": "3.11.1"
  }
 },
 "nbformat": 4,
 "nbformat_minor": 2
}
