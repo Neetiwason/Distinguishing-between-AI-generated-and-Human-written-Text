{
 "cells": [
  {
   "cell_type": "code",
   "execution_count": null,
   "metadata": {},
   "outputs": [],
   "source": [
    "from sklearn.model_selection import train_test_split\n",
    "from pycaret.classification import *\n",
    "import pandas as pd\n",
    "import numpy as np\n",
    "import seaborn as sns"
   ]
  },
  {
   "cell_type": "code",
   "execution_count": null,
   "metadata": {},
   "outputs": [],
   "source": [
    "## with 2000 samples\n",
    "FILE_PATH = '../data/topological_analysis-modified.csv'\n",
    "df = pd.read_csv(FILE_PATH)\n",
    "df\n",
    "\n",
    "# all columns except the label\n",
    "X = df.drop(columns=['label']).iloc[:, 2:]\n",
    "y = df['label']\n",
    "# X.head()\n",
    "# X.tail()\n",
    "# df.columns\n",
    "# y.head()\n",
    "X = X.dropna(axis=1)\n",
    "# X.head()\n",
    "# X.shape\n",
    "# X.columns\n",
    "\n",
    "X_train, X_test, y_train, y_test = train_test_split(X, y, test_size=0.2)\n",
    "X_train.shape, X_test.shape, y_train.shape, y_test.shape\n",
    "s = setup(pd.concat([X, y], axis=1), target = 'label', session_id = 123)\n",
    "best = compare_models(n_select = 5)\n",
    "\n",
    "\n"
   ]
  },
  {
   "cell_type": "code",
   "execution_count": null,
   "metadata": {},
   "outputs": [],
   "source": [
    "model = create_model('rf')\n",
    "# Save the model\n",
    "save_model(model, '../models/lightgbm_2000')\n",
    "model = load_model('../models/lightgbm_2000')\n"
   ]
  },
  {
   "cell_type": "code",
   "execution_count": null,
   "metadata": {},
   "outputs": [],
   "source": [
    "for b in best:\n",
    "  print(b)\n",
    "for b in best:\n",
    "  plot_model(b, plot = 'confusion_matrix')\n",
    "for b in best:\n",
    "  plot_model(b, plot = 'feature_all')\n",
    "  break\n",
    "for b in best:\n",
    "  evaluate_model(b)"
   ]
  },
  {
   "cell_type": "code",
   "execution_count": null,
   "metadata": {},
   "outputs": [],
   "source": [
    "\n",
    "\n",
    "cor = X.iloc[:, :].corr().dropna(axis=1, how='all').dropna(axis=0, how='all')\n",
    "cor\n",
    "sns.heatmap(cor, xticklabels=True, yticklabels=True)\n",
    "X.describe().T\n",
    "X.describe().T.to_csv('stats-topo-modified.csv', header=True, index=False)"
   ]
  }
 ],
 "metadata": {
  "language_info": {
   "name": "python"
  }
 },
 "nbformat": 4,
 "nbformat_minor": 2
}
